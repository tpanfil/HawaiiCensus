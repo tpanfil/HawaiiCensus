{
 "metadata": {
  "language_info": {
   "codemirror_mode": {
    "name": "ipython",
    "version": 3
   },
   "file_extension": ".py",
   "mimetype": "text/x-python",
   "name": "python",
   "nbconvert_exporter": "python",
   "pygments_lexer": "ipython3",
   "version": "3.8.5"
  },
  "orig_nbformat": 4,
  "kernelspec": {
   "name": "python3",
   "display_name": "Python 3.8.5 64-bit ('base': conda)"
  },
  "interpreter": {
   "hash": "89851f60422d00f9c73ebc1c521bbdf2e056a25a54bd3d422c7f20ce709ad765"
  }
 },
 "nbformat": 4,
 "nbformat_minor": 2,
 "cells": [
  {
   "cell_type": "code",
   "execution_count": 33,
   "metadata": {},
   "outputs": [],
   "source": [
    "import json\n",
    "import requests\n",
    "import pandas as pd\n",
    "import matplotlib.pyplot as plt\n",
    "import seaborn as sns\n",
    "import numpy as np"
   ]
  },
  {
   "cell_type": "code",
   "execution_count": 34,
   "metadata": {},
   "outputs": [],
   "source": [
    "y = requests.get('https://api.census.gov/data/2018/abscb?get=GEO_ID,NAME,NAICS2017,NAICS2017_LABEL,SEX,SEX_LABEL,ETH_GROUP,ETH_GROUP_LABEL,RACE_GROUP,RACE_GROUP_LABEL,VET_GROUP,VET_GROUP_LABEL,QDESC,QDESC_LABEL,BUSCHAR,BUSCHAR_LABEL,YEAR,FIRMPDEMP,FIRMPDEMP_F,FIRMPDEMP_PCT,FIRMPDEMP_PCT_F,RCPPDEMP,RCPPDEMP_F,RCPPDEMP_PCT,RCPPDEMP_PCT_F,EMP,EMP_F,EMP_PCT,EMP_PCT_F,PAYANN,PAYANN_F,PAYANN_PCT,PAYANN_PCT_F,FIRMPDEMP_S,FIRMPDEMP_S_F,FIRMPDEMP_PCT_S,FIRMPDEMP_PCT_S_F,RCPPDEMP_S,RCPPDEMP_S_F,RCPPDEMP_PCT_S,RCPPDEMP_PCT_S_F,EMP_S,EMP_S_F,EMP_PCT_S,EMP_PCT_S_F,PAYANN_S,PAYANN_S_F,PAYANN_PCT_S,PAYANN_PCT_S_F&for=metropolitan+statistical+area/micropolitan+statistical+area:*&key=d035d6069e4dac8a0a5381155fa7265567017c1f').json()"
   ]
  },
  {
   "cell_type": "code",
   "execution_count": 35,
   "metadata": {},
   "outputs": [],
   "source": [
    "business = pd.DataFrame(y[1:], columns=y[0])"
   ]
  },
  {
   "cell_type": "code",
   "execution_count": 36,
   "metadata": {},
   "outputs": [
    {
     "output_type": "execute_result",
     "data": {
      "text/plain": [
       "(16996, 50)"
      ]
     },
     "metadata": {},
     "execution_count": 36
    }
   ],
   "source": [
    "business.shape"
   ]
  },
  {
   "cell_type": "code",
   "execution_count": 37,
   "metadata": {},
   "outputs": [
    {
     "output_type": "execute_result",
     "data": {
      "text/plain": [
       "           GEO_ID                                   NAME NAICS2017  \\\n",
       "0  310M400US44060  Spokane-Spokane Valley, WA Metro Area        00   \n",
       "1  310M400US44060  Spokane-Spokane Valley, WA Metro Area        00   \n",
       "2  310M400US44060  Spokane-Spokane Valley, WA Metro Area        00   \n",
       "3  310M400US44060  Spokane-Spokane Valley, WA Metro Area        00   \n",
       "4  310M400US44060  Spokane-Spokane Valley, WA Metro Area        00   \n",
       "\n",
       "         NAICS2017_LABEL  SEX SEX_LABEL ETH_GROUP ETH_GROUP_LABEL RACE_GROUP  \\\n",
       "0  Total for all sectors  001     Total       001           Total         00   \n",
       "1  Total for all sectors  001     Total       001           Total         00   \n",
       "2  Total for all sectors  001     Total       001           Total         00   \n",
       "3  Total for all sectors  001     Total       001           Total         00   \n",
       "4  Total for all sectors  001     Total       001           Total         00   \n",
       "\n",
       "  RACE_GROUP_LABEL  ... RCPPDEMP_PCT_S_F EMP_S EMP_S_F EMP_PCT_S EMP_PCT_S_F  \\\n",
       "0            Total  ...                S   9.2    None       0.0           X   \n",
       "1            Total  ...                S  15.5    None      50.7        None   \n",
       "2            Total  ...                S  13.0    None      97.7        None   \n",
       "3            Total  ...                D   0.0       D       0.0           D   \n",
       "4            Total  ...                S   1.5    None      27.2        None   \n",
       "\n",
       "  PAYANN_S PAYANN_S_F PAYANN_PCT_S PAYANN_PCT_S_F  \\\n",
       "0      6.2       None          0.0              X   \n",
       "1     15.1       None         66.5           None   \n",
       "2      9.9       None         92.6           None   \n",
       "3      0.0          D          0.0              D   \n",
       "4      0.7       None         30.9           None   \n",
       "\n",
       "  metropolitan statistical area/micropolitan statistical area  \n",
       "0                                              44060           \n",
       "1                                              44060           \n",
       "2                                              44060           \n",
       "3                                              44060           \n",
       "4                                              44060           \n",
       "\n",
       "[5 rows x 50 columns]"
      ],
      "text/html": "<div>\n<style scoped>\n    .dataframe tbody tr th:only-of-type {\n        vertical-align: middle;\n    }\n\n    .dataframe tbody tr th {\n        vertical-align: top;\n    }\n\n    .dataframe thead th {\n        text-align: right;\n    }\n</style>\n<table border=\"1\" class=\"dataframe\">\n  <thead>\n    <tr style=\"text-align: right;\">\n      <th></th>\n      <th>GEO_ID</th>\n      <th>NAME</th>\n      <th>NAICS2017</th>\n      <th>NAICS2017_LABEL</th>\n      <th>SEX</th>\n      <th>SEX_LABEL</th>\n      <th>ETH_GROUP</th>\n      <th>ETH_GROUP_LABEL</th>\n      <th>RACE_GROUP</th>\n      <th>RACE_GROUP_LABEL</th>\n      <th>...</th>\n      <th>RCPPDEMP_PCT_S_F</th>\n      <th>EMP_S</th>\n      <th>EMP_S_F</th>\n      <th>EMP_PCT_S</th>\n      <th>EMP_PCT_S_F</th>\n      <th>PAYANN_S</th>\n      <th>PAYANN_S_F</th>\n      <th>PAYANN_PCT_S</th>\n      <th>PAYANN_PCT_S_F</th>\n      <th>metropolitan statistical area/micropolitan statistical area</th>\n    </tr>\n  </thead>\n  <tbody>\n    <tr>\n      <th>0</th>\n      <td>310M400US44060</td>\n      <td>Spokane-Spokane Valley, WA Metro Area</td>\n      <td>00</td>\n      <td>Total for all sectors</td>\n      <td>001</td>\n      <td>Total</td>\n      <td>001</td>\n      <td>Total</td>\n      <td>00</td>\n      <td>Total</td>\n      <td>...</td>\n      <td>S</td>\n      <td>9.2</td>\n      <td>None</td>\n      <td>0.0</td>\n      <td>X</td>\n      <td>6.2</td>\n      <td>None</td>\n      <td>0.0</td>\n      <td>X</td>\n      <td>44060</td>\n    </tr>\n    <tr>\n      <th>1</th>\n      <td>310M400US44060</td>\n      <td>Spokane-Spokane Valley, WA Metro Area</td>\n      <td>00</td>\n      <td>Total for all sectors</td>\n      <td>001</td>\n      <td>Total</td>\n      <td>001</td>\n      <td>Total</td>\n      <td>00</td>\n      <td>Total</td>\n      <td>...</td>\n      <td>S</td>\n      <td>15.5</td>\n      <td>None</td>\n      <td>50.7</td>\n      <td>None</td>\n      <td>15.1</td>\n      <td>None</td>\n      <td>66.5</td>\n      <td>None</td>\n      <td>44060</td>\n    </tr>\n    <tr>\n      <th>2</th>\n      <td>310M400US44060</td>\n      <td>Spokane-Spokane Valley, WA Metro Area</td>\n      <td>00</td>\n      <td>Total for all sectors</td>\n      <td>001</td>\n      <td>Total</td>\n      <td>001</td>\n      <td>Total</td>\n      <td>00</td>\n      <td>Total</td>\n      <td>...</td>\n      <td>S</td>\n      <td>13.0</td>\n      <td>None</td>\n      <td>97.7</td>\n      <td>None</td>\n      <td>9.9</td>\n      <td>None</td>\n      <td>92.6</td>\n      <td>None</td>\n      <td>44060</td>\n    </tr>\n    <tr>\n      <th>3</th>\n      <td>310M400US44060</td>\n      <td>Spokane-Spokane Valley, WA Metro Area</td>\n      <td>00</td>\n      <td>Total for all sectors</td>\n      <td>001</td>\n      <td>Total</td>\n      <td>001</td>\n      <td>Total</td>\n      <td>00</td>\n      <td>Total</td>\n      <td>...</td>\n      <td>D</td>\n      <td>0.0</td>\n      <td>D</td>\n      <td>0.0</td>\n      <td>D</td>\n      <td>0.0</td>\n      <td>D</td>\n      <td>0.0</td>\n      <td>D</td>\n      <td>44060</td>\n    </tr>\n    <tr>\n      <th>4</th>\n      <td>310M400US44060</td>\n      <td>Spokane-Spokane Valley, WA Metro Area</td>\n      <td>00</td>\n      <td>Total for all sectors</td>\n      <td>001</td>\n      <td>Total</td>\n      <td>001</td>\n      <td>Total</td>\n      <td>00</td>\n      <td>Total</td>\n      <td>...</td>\n      <td>S</td>\n      <td>1.5</td>\n      <td>None</td>\n      <td>27.2</td>\n      <td>None</td>\n      <td>0.7</td>\n      <td>None</td>\n      <td>30.9</td>\n      <td>None</td>\n      <td>44060</td>\n    </tr>\n  </tbody>\n</table>\n<p>5 rows × 50 columns</p>\n</div>"
     },
     "metadata": {},
     "execution_count": 37
    }
   ],
   "source": [
    "business.head()"
   ]
  },
  {
   "cell_type": "code",
   "execution_count": 38,
   "metadata": {},
   "outputs": [],
   "source": [
    "business.drop(columns=['NAICS2017', 'SEX', 'ETH_GROUP', 'RACE_GROUP', 'VET_GROUP', 'QDESC', 'BUSCHAR'], inplace=True)\n"
   ]
  },
  {
   "cell_type": "code",
   "execution_count": 39,
   "metadata": {},
   "outputs": [
    {
     "output_type": "execute_result",
     "data": {
      "text/plain": [
       "(16996, 43)"
      ]
     },
     "metadata": {},
     "execution_count": 39
    }
   ],
   "source": [
    "business.shape"
   ]
  },
  {
   "cell_type": "code",
   "execution_count": 40,
   "metadata": {},
   "outputs": [],
   "source": [
    "df_metro_b = business[(business['NAME'] == 'Urban Honolulu, HI Metro Area')]"
   ]
  },
  {
   "cell_type": "code",
   "execution_count": 41,
   "metadata": {},
   "outputs": [
    {
     "output_type": "execute_result",
     "data": {
      "text/plain": [
       "(45, 43)"
      ]
     },
     "metadata": {},
     "execution_count": 41
    }
   ],
   "source": [
    "df_metro_b.shape"
   ]
  },
  {
   "cell_type": "code",
   "execution_count": 42,
   "metadata": {},
   "outputs": [
    {
     "output_type": "execute_result",
     "data": {
      "text/plain": [
       "             GEO_ID                           NAME        NAICS2017_LABEL  \\\n",
       "626  310M400US46520  Urban Honolulu, HI Metro Area  Total for all sectors   \n",
       "630  310M400US46520  Urban Honolulu, HI Metro Area  Total for all sectors   \n",
       "631  310M400US46520  Urban Honolulu, HI Metro Area  Total for all sectors   \n",
       "632  310M400US46520  Urban Honolulu, HI Metro Area  Total for all sectors   \n",
       "633  310M400US46520  Urban Honolulu, HI Metro Area  Total for all sectors   \n",
       "634  310M400US46520  Urban Honolulu, HI Metro Area  Total for all sectors   \n",
       "635  310M400US46520  Urban Honolulu, HI Metro Area  Total for all sectors   \n",
       "636  310M400US46520  Urban Honolulu, HI Metro Area  Total for all sectors   \n",
       "637  310M400US46520  Urban Honolulu, HI Metro Area  Total for all sectors   \n",
       "638  310M400US46520  Urban Honolulu, HI Metro Area  Total for all sectors   \n",
       "\n",
       "    SEX_LABEL ETH_GROUP_LABEL RACE_GROUP_LABEL VET_GROUP_LABEL QDESC_LABEL  \\\n",
       "626     Total           Total            Total           Total     OWNRNUM   \n",
       "630     Total           Total            Total           Total     OWNRNUM   \n",
       "631     Total           Total            Total           Total     OWNRNUM   \n",
       "632     Total           Total            Total           Total     OWNRNUM   \n",
       "633     Total           Total            Total           Total     OWNRNUM   \n",
       "634     Total           Total            Total           Total     OWNRNUM   \n",
       "635     Total           Total            Total           Total     OWNRNUM   \n",
       "636     Total           Total            Total           Total     OWNRNUM   \n",
       "637     Total           Total            Total           Total      FAMOWN   \n",
       "638     Total           Total            Total           Total      FAMOWN   \n",
       "\n",
       "                BUSCHAR_LABEL  YEAR  ... RCPPDEMP_PCT_S_F EMP_S EMP_S_F  \\\n",
       "626         11 or more people  2018  ...                S  13.4    None   \n",
       "630                 All firms  2018  ...                S   5.0    None   \n",
       "631                  1 person  2018  ...                S   8.0    None   \n",
       "632             2 to 4 people  2018  ...                S  18.7    None   \n",
       "633            5 to 10 people  2018  ...                D   0.0       D   \n",
       "634  Unknown number of owners  2018  ...                S   8.0    None   \n",
       "635           Total reporting  2018  ...                S   4.0    None   \n",
       "636         Item not reported  2018  ...                S   4.6    None   \n",
       "637                 All firms  2018  ...                S   5.0    None   \n",
       "638              Family-owned  2018  ...                S  22.7    None   \n",
       "\n",
       "    EMP_PCT_S EMP_PCT_S_F PAYANN_S PAYANN_S_F PAYANN_PCT_S PAYANN_PCT_S_F  \\\n",
       "626      27.8        None     14.8       None         22.4           None   \n",
       "630       0.0           X      5.3       None          0.0              X   \n",
       "631      40.8        None      8.4       None         52.6           None   \n",
       "632      50.8        None     20.6       None         51.5           None   \n",
       "633       0.0           D      0.0          D          0.0              D   \n",
       "634      52.0        None      4.1       None         65.1           None   \n",
       "635       0.0        None      4.7       None          0.0           None   \n",
       "636       0.0           X      6.3       None          0.0              X   \n",
       "637       0.0           X      5.3       None          0.0              X   \n",
       "638       8.0        None     23.2       None          5.7           None   \n",
       "\n",
       "    metropolitan statistical area/micropolitan statistical area  \n",
       "626                                              46520           \n",
       "630                                              46520           \n",
       "631                                              46520           \n",
       "632                                              46520           \n",
       "633                                              46520           \n",
       "634                                              46520           \n",
       "635                                              46520           \n",
       "636                                              46520           \n",
       "637                                              46520           \n",
       "638                                              46520           \n",
       "\n",
       "[10 rows x 43 columns]"
      ],
      "text/html": "<div>\n<style scoped>\n    .dataframe tbody tr th:only-of-type {\n        vertical-align: middle;\n    }\n\n    .dataframe tbody tr th {\n        vertical-align: top;\n    }\n\n    .dataframe thead th {\n        text-align: right;\n    }\n</style>\n<table border=\"1\" class=\"dataframe\">\n  <thead>\n    <tr style=\"text-align: right;\">\n      <th></th>\n      <th>GEO_ID</th>\n      <th>NAME</th>\n      <th>NAICS2017_LABEL</th>\n      <th>SEX_LABEL</th>\n      <th>ETH_GROUP_LABEL</th>\n      <th>RACE_GROUP_LABEL</th>\n      <th>VET_GROUP_LABEL</th>\n      <th>QDESC_LABEL</th>\n      <th>BUSCHAR_LABEL</th>\n      <th>YEAR</th>\n      <th>...</th>\n      <th>RCPPDEMP_PCT_S_F</th>\n      <th>EMP_S</th>\n      <th>EMP_S_F</th>\n      <th>EMP_PCT_S</th>\n      <th>EMP_PCT_S_F</th>\n      <th>PAYANN_S</th>\n      <th>PAYANN_S_F</th>\n      <th>PAYANN_PCT_S</th>\n      <th>PAYANN_PCT_S_F</th>\n      <th>metropolitan statistical area/micropolitan statistical area</th>\n    </tr>\n  </thead>\n  <tbody>\n    <tr>\n      <th>626</th>\n      <td>310M400US46520</td>\n      <td>Urban Honolulu, HI Metro Area</td>\n      <td>Total for all sectors</td>\n      <td>Total</td>\n      <td>Total</td>\n      <td>Total</td>\n      <td>Total</td>\n      <td>OWNRNUM</td>\n      <td>11 or more people</td>\n      <td>2018</td>\n      <td>...</td>\n      <td>S</td>\n      <td>13.4</td>\n      <td>None</td>\n      <td>27.8</td>\n      <td>None</td>\n      <td>14.8</td>\n      <td>None</td>\n      <td>22.4</td>\n      <td>None</td>\n      <td>46520</td>\n    </tr>\n    <tr>\n      <th>630</th>\n      <td>310M400US46520</td>\n      <td>Urban Honolulu, HI Metro Area</td>\n      <td>Total for all sectors</td>\n      <td>Total</td>\n      <td>Total</td>\n      <td>Total</td>\n      <td>Total</td>\n      <td>OWNRNUM</td>\n      <td>All firms</td>\n      <td>2018</td>\n      <td>...</td>\n      <td>S</td>\n      <td>5.0</td>\n      <td>None</td>\n      <td>0.0</td>\n      <td>X</td>\n      <td>5.3</td>\n      <td>None</td>\n      <td>0.0</td>\n      <td>X</td>\n      <td>46520</td>\n    </tr>\n    <tr>\n      <th>631</th>\n      <td>310M400US46520</td>\n      <td>Urban Honolulu, HI Metro Area</td>\n      <td>Total for all sectors</td>\n      <td>Total</td>\n      <td>Total</td>\n      <td>Total</td>\n      <td>Total</td>\n      <td>OWNRNUM</td>\n      <td>1 person</td>\n      <td>2018</td>\n      <td>...</td>\n      <td>S</td>\n      <td>8.0</td>\n      <td>None</td>\n      <td>40.8</td>\n      <td>None</td>\n      <td>8.4</td>\n      <td>None</td>\n      <td>52.6</td>\n      <td>None</td>\n      <td>46520</td>\n    </tr>\n    <tr>\n      <th>632</th>\n      <td>310M400US46520</td>\n      <td>Urban Honolulu, HI Metro Area</td>\n      <td>Total for all sectors</td>\n      <td>Total</td>\n      <td>Total</td>\n      <td>Total</td>\n      <td>Total</td>\n      <td>OWNRNUM</td>\n      <td>2 to 4 people</td>\n      <td>2018</td>\n      <td>...</td>\n      <td>S</td>\n      <td>18.7</td>\n      <td>None</td>\n      <td>50.8</td>\n      <td>None</td>\n      <td>20.6</td>\n      <td>None</td>\n      <td>51.5</td>\n      <td>None</td>\n      <td>46520</td>\n    </tr>\n    <tr>\n      <th>633</th>\n      <td>310M400US46520</td>\n      <td>Urban Honolulu, HI Metro Area</td>\n      <td>Total for all sectors</td>\n      <td>Total</td>\n      <td>Total</td>\n      <td>Total</td>\n      <td>Total</td>\n      <td>OWNRNUM</td>\n      <td>5 to 10 people</td>\n      <td>2018</td>\n      <td>...</td>\n      <td>D</td>\n      <td>0.0</td>\n      <td>D</td>\n      <td>0.0</td>\n      <td>D</td>\n      <td>0.0</td>\n      <td>D</td>\n      <td>0.0</td>\n      <td>D</td>\n      <td>46520</td>\n    </tr>\n    <tr>\n      <th>634</th>\n      <td>310M400US46520</td>\n      <td>Urban Honolulu, HI Metro Area</td>\n      <td>Total for all sectors</td>\n      <td>Total</td>\n      <td>Total</td>\n      <td>Total</td>\n      <td>Total</td>\n      <td>OWNRNUM</td>\n      <td>Unknown number of owners</td>\n      <td>2018</td>\n      <td>...</td>\n      <td>S</td>\n      <td>8.0</td>\n      <td>None</td>\n      <td>52.0</td>\n      <td>None</td>\n      <td>4.1</td>\n      <td>None</td>\n      <td>65.1</td>\n      <td>None</td>\n      <td>46520</td>\n    </tr>\n    <tr>\n      <th>635</th>\n      <td>310M400US46520</td>\n      <td>Urban Honolulu, HI Metro Area</td>\n      <td>Total for all sectors</td>\n      <td>Total</td>\n      <td>Total</td>\n      <td>Total</td>\n      <td>Total</td>\n      <td>OWNRNUM</td>\n      <td>Total reporting</td>\n      <td>2018</td>\n      <td>...</td>\n      <td>S</td>\n      <td>4.0</td>\n      <td>None</td>\n      <td>0.0</td>\n      <td>None</td>\n      <td>4.7</td>\n      <td>None</td>\n      <td>0.0</td>\n      <td>None</td>\n      <td>46520</td>\n    </tr>\n    <tr>\n      <th>636</th>\n      <td>310M400US46520</td>\n      <td>Urban Honolulu, HI Metro Area</td>\n      <td>Total for all sectors</td>\n      <td>Total</td>\n      <td>Total</td>\n      <td>Total</td>\n      <td>Total</td>\n      <td>OWNRNUM</td>\n      <td>Item not reported</td>\n      <td>2018</td>\n      <td>...</td>\n      <td>S</td>\n      <td>4.6</td>\n      <td>None</td>\n      <td>0.0</td>\n      <td>X</td>\n      <td>6.3</td>\n      <td>None</td>\n      <td>0.0</td>\n      <td>X</td>\n      <td>46520</td>\n    </tr>\n    <tr>\n      <th>637</th>\n      <td>310M400US46520</td>\n      <td>Urban Honolulu, HI Metro Area</td>\n      <td>Total for all sectors</td>\n      <td>Total</td>\n      <td>Total</td>\n      <td>Total</td>\n      <td>Total</td>\n      <td>FAMOWN</td>\n      <td>All firms</td>\n      <td>2018</td>\n      <td>...</td>\n      <td>S</td>\n      <td>5.0</td>\n      <td>None</td>\n      <td>0.0</td>\n      <td>X</td>\n      <td>5.3</td>\n      <td>None</td>\n      <td>0.0</td>\n      <td>X</td>\n      <td>46520</td>\n    </tr>\n    <tr>\n      <th>638</th>\n      <td>310M400US46520</td>\n      <td>Urban Honolulu, HI Metro Area</td>\n      <td>Total for all sectors</td>\n      <td>Total</td>\n      <td>Total</td>\n      <td>Total</td>\n      <td>Total</td>\n      <td>FAMOWN</td>\n      <td>Family-owned</td>\n      <td>2018</td>\n      <td>...</td>\n      <td>S</td>\n      <td>22.7</td>\n      <td>None</td>\n      <td>8.0</td>\n      <td>None</td>\n      <td>23.2</td>\n      <td>None</td>\n      <td>5.7</td>\n      <td>None</td>\n      <td>46520</td>\n    </tr>\n  </tbody>\n</table>\n<p>10 rows × 43 columns</p>\n</div>"
     },
     "metadata": {},
     "execution_count": 42
    }
   ],
   "source": [
    "df_metro_b.head(10)"
   ]
  },
  {
   "cell_type": "code",
   "execution_count": 43,
   "metadata": {},
   "outputs": [
    {
     "output_type": "execute_result",
     "data": {
      "text/plain": [
       "             GEO_ID                           NAME        NAICS2017_LABEL  \\\n",
       "664  310M400US46520  Urban Honolulu, HI Metro Area  Total for all sectors   \n",
       "665  310M400US46520  Urban Honolulu, HI Metro Area  Total for all sectors   \n",
       "666  310M400US46520  Urban Honolulu, HI Metro Area  Total for all sectors   \n",
       "667  310M400US46520  Urban Honolulu, HI Metro Area  Total for all sectors   \n",
       "668  310M400US46520  Urban Honolulu, HI Metro Area  Total for all sectors   \n",
       "669  310M400US46520  Urban Honolulu, HI Metro Area  Total for all sectors   \n",
       "670  310M400US46520  Urban Honolulu, HI Metro Area  Total for all sectors   \n",
       "671  310M400US46520  Urban Honolulu, HI Metro Area  Total for all sectors   \n",
       "672  310M400US46520  Urban Honolulu, HI Metro Area  Total for all sectors   \n",
       "673  310M400US46520  Urban Honolulu, HI Metro Area  Total for all sectors   \n",
       "\n",
       "    SEX_LABEL ETH_GROUP_LABEL RACE_GROUP_LABEL VET_GROUP_LABEL QDESC_LABEL  \\\n",
       "664     Total           Total            Total           Total     WORKERS   \n",
       "665     Total           Total            Total           Total     WORKERS   \n",
       "666     Total           Total            Total           Total     WORKERS   \n",
       "667     Total           Total            Total           Total     WORKERS   \n",
       "668     Total           Total            Total           Total    CEASEOPS   \n",
       "669     Total           Total            Total           Total     WORKERS   \n",
       "670     Total           Total            Total           Total    CEASEOPS   \n",
       "671     Total           Total            Total           Total    CEASEOPS   \n",
       "672     Total           Total            Total           Total    CEASEOPS   \n",
       "673     Total           Total            Total           Total    CEASEOPS   \n",
       "\n",
       "                                         BUSCHAR_LABEL  YEAR  ...  \\\n",
       "664  Leased employees from leasing service or profe...  2018  ...   \n",
       "665  Contractors, subcontractors, independent contr...  2018  ...   \n",
       "666                                  None of the above  2018  ...   \n",
       "667                                    Total reporting  2018  ...   \n",
       "668                    Business operations have ceased  2018  ...   \n",
       "669                                  Item not reported  2018  ...   \n",
       "670                                          All firms  2018  ...   \n",
       "671                    Business is currently operating  2018  ...   \n",
       "672                                    Total reporting  2018  ...   \n",
       "673                      Operating status not reported  2018  ...   \n",
       "\n",
       "    RCPPDEMP_PCT_S_F EMP_S EMP_S_F EMP_PCT_S EMP_PCT_S_F PAYANN_S PAYANN_S_F  \\\n",
       "664                S   1.1    None      32.7        None      0.7       None   \n",
       "665                S   8.0    None      52.2        None      6.7       None   \n",
       "666                D   0.0       D       0.0           D      0.0          D   \n",
       "667                S   4.4    None       0.0        None      5.0       None   \n",
       "668                S  10.9    None       3.3        None     12.9       None   \n",
       "669                S   4.0    None       0.0           X      5.5       None   \n",
       "670                S   5.0    None       0.0           X      5.3       None   \n",
       "671                S   3.8    None       3.2        None      4.3       None   \n",
       "672                S   3.7    None       0.0        None      4.3       None   \n",
       "673                D   0.0       D       0.0           D      0.0          D   \n",
       "\n",
       "    PAYANN_PCT_S PAYANN_PCT_S_F  \\\n",
       "664         34.2           None   \n",
       "665         53.4           None   \n",
       "666          0.0              D   \n",
       "667          0.0           None   \n",
       "668          0.4           None   \n",
       "669          0.0              X   \n",
       "670          0.0              X   \n",
       "671          0.4           None   \n",
       "672          0.0           None   \n",
       "673          0.0              D   \n",
       "\n",
       "    metropolitan statistical area/micropolitan statistical area  \n",
       "664                                              46520           \n",
       "665                                              46520           \n",
       "666                                              46520           \n",
       "667                                              46520           \n",
       "668                                              46520           \n",
       "669                                              46520           \n",
       "670                                              46520           \n",
       "671                                              46520           \n",
       "672                                              46520           \n",
       "673                                              46520           \n",
       "\n",
       "[10 rows x 43 columns]"
      ],
      "text/html": "<div>\n<style scoped>\n    .dataframe tbody tr th:only-of-type {\n        vertical-align: middle;\n    }\n\n    .dataframe tbody tr th {\n        vertical-align: top;\n    }\n\n    .dataframe thead th {\n        text-align: right;\n    }\n</style>\n<table border=\"1\" class=\"dataframe\">\n  <thead>\n    <tr style=\"text-align: right;\">\n      <th></th>\n      <th>GEO_ID</th>\n      <th>NAME</th>\n      <th>NAICS2017_LABEL</th>\n      <th>SEX_LABEL</th>\n      <th>ETH_GROUP_LABEL</th>\n      <th>RACE_GROUP_LABEL</th>\n      <th>VET_GROUP_LABEL</th>\n      <th>QDESC_LABEL</th>\n      <th>BUSCHAR_LABEL</th>\n      <th>YEAR</th>\n      <th>...</th>\n      <th>RCPPDEMP_PCT_S_F</th>\n      <th>EMP_S</th>\n      <th>EMP_S_F</th>\n      <th>EMP_PCT_S</th>\n      <th>EMP_PCT_S_F</th>\n      <th>PAYANN_S</th>\n      <th>PAYANN_S_F</th>\n      <th>PAYANN_PCT_S</th>\n      <th>PAYANN_PCT_S_F</th>\n      <th>metropolitan statistical area/micropolitan statistical area</th>\n    </tr>\n  </thead>\n  <tbody>\n    <tr>\n      <th>664</th>\n      <td>310M400US46520</td>\n      <td>Urban Honolulu, HI Metro Area</td>\n      <td>Total for all sectors</td>\n      <td>Total</td>\n      <td>Total</td>\n      <td>Total</td>\n      <td>Total</td>\n      <td>WORKERS</td>\n      <td>Leased employees from leasing service or profe...</td>\n      <td>2018</td>\n      <td>...</td>\n      <td>S</td>\n      <td>1.1</td>\n      <td>None</td>\n      <td>32.7</td>\n      <td>None</td>\n      <td>0.7</td>\n      <td>None</td>\n      <td>34.2</td>\n      <td>None</td>\n      <td>46520</td>\n    </tr>\n    <tr>\n      <th>665</th>\n      <td>310M400US46520</td>\n      <td>Urban Honolulu, HI Metro Area</td>\n      <td>Total for all sectors</td>\n      <td>Total</td>\n      <td>Total</td>\n      <td>Total</td>\n      <td>Total</td>\n      <td>WORKERS</td>\n      <td>Contractors, subcontractors, independent contr...</td>\n      <td>2018</td>\n      <td>...</td>\n      <td>S</td>\n      <td>8.0</td>\n      <td>None</td>\n      <td>52.2</td>\n      <td>None</td>\n      <td>6.7</td>\n      <td>None</td>\n      <td>53.4</td>\n      <td>None</td>\n      <td>46520</td>\n    </tr>\n    <tr>\n      <th>666</th>\n      <td>310M400US46520</td>\n      <td>Urban Honolulu, HI Metro Area</td>\n      <td>Total for all sectors</td>\n      <td>Total</td>\n      <td>Total</td>\n      <td>Total</td>\n      <td>Total</td>\n      <td>WORKERS</td>\n      <td>None of the above</td>\n      <td>2018</td>\n      <td>...</td>\n      <td>D</td>\n      <td>0.0</td>\n      <td>D</td>\n      <td>0.0</td>\n      <td>D</td>\n      <td>0.0</td>\n      <td>D</td>\n      <td>0.0</td>\n      <td>D</td>\n      <td>46520</td>\n    </tr>\n    <tr>\n      <th>667</th>\n      <td>310M400US46520</td>\n      <td>Urban Honolulu, HI Metro Area</td>\n      <td>Total for all sectors</td>\n      <td>Total</td>\n      <td>Total</td>\n      <td>Total</td>\n      <td>Total</td>\n      <td>WORKERS</td>\n      <td>Total reporting</td>\n      <td>2018</td>\n      <td>...</td>\n      <td>S</td>\n      <td>4.4</td>\n      <td>None</td>\n      <td>0.0</td>\n      <td>None</td>\n      <td>5.0</td>\n      <td>None</td>\n      <td>0.0</td>\n      <td>None</td>\n      <td>46520</td>\n    </tr>\n    <tr>\n      <th>668</th>\n      <td>310M400US46520</td>\n      <td>Urban Honolulu, HI Metro Area</td>\n      <td>Total for all sectors</td>\n      <td>Total</td>\n      <td>Total</td>\n      <td>Total</td>\n      <td>Total</td>\n      <td>CEASEOPS</td>\n      <td>Business operations have ceased</td>\n      <td>2018</td>\n      <td>...</td>\n      <td>S</td>\n      <td>10.9</td>\n      <td>None</td>\n      <td>3.3</td>\n      <td>None</td>\n      <td>12.9</td>\n      <td>None</td>\n      <td>0.4</td>\n      <td>None</td>\n      <td>46520</td>\n    </tr>\n    <tr>\n      <th>669</th>\n      <td>310M400US46520</td>\n      <td>Urban Honolulu, HI Metro Area</td>\n      <td>Total for all sectors</td>\n      <td>Total</td>\n      <td>Total</td>\n      <td>Total</td>\n      <td>Total</td>\n      <td>WORKERS</td>\n      <td>Item not reported</td>\n      <td>2018</td>\n      <td>...</td>\n      <td>S</td>\n      <td>4.0</td>\n      <td>None</td>\n      <td>0.0</td>\n      <td>X</td>\n      <td>5.5</td>\n      <td>None</td>\n      <td>0.0</td>\n      <td>X</td>\n      <td>46520</td>\n    </tr>\n    <tr>\n      <th>670</th>\n      <td>310M400US46520</td>\n      <td>Urban Honolulu, HI Metro Area</td>\n      <td>Total for all sectors</td>\n      <td>Total</td>\n      <td>Total</td>\n      <td>Total</td>\n      <td>Total</td>\n      <td>CEASEOPS</td>\n      <td>All firms</td>\n      <td>2018</td>\n      <td>...</td>\n      <td>S</td>\n      <td>5.0</td>\n      <td>None</td>\n      <td>0.0</td>\n      <td>X</td>\n      <td>5.3</td>\n      <td>None</td>\n      <td>0.0</td>\n      <td>X</td>\n      <td>46520</td>\n    </tr>\n    <tr>\n      <th>671</th>\n      <td>310M400US46520</td>\n      <td>Urban Honolulu, HI Metro Area</td>\n      <td>Total for all sectors</td>\n      <td>Total</td>\n      <td>Total</td>\n      <td>Total</td>\n      <td>Total</td>\n      <td>CEASEOPS</td>\n      <td>Business is currently operating</td>\n      <td>2018</td>\n      <td>...</td>\n      <td>S</td>\n      <td>3.8</td>\n      <td>None</td>\n      <td>3.2</td>\n      <td>None</td>\n      <td>4.3</td>\n      <td>None</td>\n      <td>0.4</td>\n      <td>None</td>\n      <td>46520</td>\n    </tr>\n    <tr>\n      <th>672</th>\n      <td>310M400US46520</td>\n      <td>Urban Honolulu, HI Metro Area</td>\n      <td>Total for all sectors</td>\n      <td>Total</td>\n      <td>Total</td>\n      <td>Total</td>\n      <td>Total</td>\n      <td>CEASEOPS</td>\n      <td>Total reporting</td>\n      <td>2018</td>\n      <td>...</td>\n      <td>S</td>\n      <td>3.7</td>\n      <td>None</td>\n      <td>0.0</td>\n      <td>None</td>\n      <td>4.3</td>\n      <td>None</td>\n      <td>0.0</td>\n      <td>None</td>\n      <td>46520</td>\n    </tr>\n    <tr>\n      <th>673</th>\n      <td>310M400US46520</td>\n      <td>Urban Honolulu, HI Metro Area</td>\n      <td>Total for all sectors</td>\n      <td>Total</td>\n      <td>Total</td>\n      <td>Total</td>\n      <td>Total</td>\n      <td>CEASEOPS</td>\n      <td>Operating status not reported</td>\n      <td>2018</td>\n      <td>...</td>\n      <td>D</td>\n      <td>0.0</td>\n      <td>D</td>\n      <td>0.0</td>\n      <td>D</td>\n      <td>0.0</td>\n      <td>D</td>\n      <td>0.0</td>\n      <td>D</td>\n      <td>46520</td>\n    </tr>\n  </tbody>\n</table>\n<p>10 rows × 43 columns</p>\n</div>"
     },
     "metadata": {},
     "execution_count": 43
    }
   ],
   "source": [
    "df_metro_b.tail(10)"
   ]
  },
  {
   "cell_type": "code",
   "execution_count": 44,
   "metadata": {},
   "outputs": [
    {
     "output_type": "stream",
     "name": "stdout",
     "text": [
      "<class 'pandas.core.frame.DataFrame'>\nInt64Index: 45 entries, 626 to 673\nData columns (total 43 columns):\n #   Column                                                       Non-Null Count  Dtype \n---  ------                                                       --------------  ----- \n 0   GEO_ID                                                       45 non-null     object\n 1   NAME                                                         45 non-null     object\n 2   NAICS2017_LABEL                                              45 non-null     object\n 3   SEX_LABEL                                                    45 non-null     object\n 4   ETH_GROUP_LABEL                                              45 non-null     object\n 5   RACE_GROUP_LABEL                                             45 non-null     object\n 6   VET_GROUP_LABEL                                              45 non-null     object\n 7   QDESC_LABEL                                                  45 non-null     object\n 8   BUSCHAR_LABEL                                                45 non-null     object\n 9   YEAR                                                         45 non-null     object\n 10  FIRMPDEMP                                                    45 non-null     object\n 11  FIRMPDEMP_F                                                  5 non-null      object\n 12  FIRMPDEMP_PCT                                                45 non-null     object\n 13  FIRMPDEMP_PCT_F                                              18 non-null     object\n 14  RCPPDEMP                                                     45 non-null     object\n 15  RCPPDEMP_F                                                   45 non-null     object\n 16  RCPPDEMP_PCT                                                 45 non-null     object\n 17  RCPPDEMP_PCT_F                                               45 non-null     object\n 18  EMP                                                          45 non-null     object\n 19  EMP_F                                                        5 non-null      object\n 20  EMP_PCT                                                      45 non-null     object\n 21  EMP_PCT_F                                                    18 non-null     object\n 22  PAYANN                                                       45 non-null     object\n 23  PAYANN_F                                                     5 non-null      object\n 24  PAYANN_PCT                                                   45 non-null     object\n 25  PAYANN_PCT_F                                                 18 non-null     object\n 26  FIRMPDEMP_S                                                  45 non-null     object\n 27  FIRMPDEMP_S_F                                                5 non-null      object\n 28  FIRMPDEMP_PCT_S                                              45 non-null     object\n 29  FIRMPDEMP_PCT_S_F                                            18 non-null     object\n 30  RCPPDEMP_S                                                   45 non-null     object\n 31  RCPPDEMP_S_F                                                 45 non-null     object\n 32  RCPPDEMP_PCT_S                                               45 non-null     object\n 33  RCPPDEMP_PCT_S_F                                             45 non-null     object\n 34  EMP_S                                                        45 non-null     object\n 35  EMP_S_F                                                      5 non-null      object\n 36  EMP_PCT_S                                                    45 non-null     object\n 37  EMP_PCT_S_F                                                  18 non-null     object\n 38  PAYANN_S                                                     45 non-null     object\n 39  PAYANN_S_F                                                   5 non-null      object\n 40  PAYANN_PCT_S                                                 45 non-null     object\n 41  PAYANN_PCT_S_F                                               18 non-null     object\n 42  metropolitan statistical area/micropolitan statistical area  45 non-null     object\ndtypes: object(43)\nmemory usage: 15.5+ KB\n"
     ]
    }
   ],
   "source": [
    "df_metro_b.info()"
   ]
  },
  {
   "cell_type": "code",
   "execution_count": 45,
   "metadata": {},
   "outputs": [
    {
     "output_type": "execute_result",
     "data": {
      "text/plain": [
       "array(['OWNRNUM', 'FAMOWN', 'SPOUSES', 'CUST', 'WORKERS', 'CEASEOPS'],\n",
       "      dtype=object)"
      ]
     },
     "metadata": {},
     "execution_count": 45
    }
   ],
   "source": [
    "df_metro_b.QDESC_LABEL.unique()"
   ]
  },
  {
   "cell_type": "code",
   "execution_count": 46,
   "metadata": {},
   "outputs": [
    {
     "output_type": "stream",
     "name": "stderr",
     "text": [
      "C:\\Users\\nicho\\anaconda3\\lib\\site-packages\\pandas\\core\\generic.py:5168: SettingWithCopyWarning: \nA value is trying to be set on a copy of a slice from a DataFrame.\nTry using .loc[row_indexer,col_indexer] = value instead\n\nSee the caveats in the documentation: https://pandas.pydata.org/pandas-docs/stable/user_guide/indexing.html#returning-a-view-versus-a-copy\n  self[name] = value\n"
     ]
    }
   ],
   "source": [
    "df_metro_b.FIRMPDEMP = df_metro_b.FIRMPDEMP.astype(float)\n",
    "df_metro_b.EMP = df_metro_b.EMP.astype(float)\n",
    "df_metro_b.PAYANN = df_metro_b.PAYANN.astype(float)"
   ]
  },
  {
   "cell_type": "code",
   "execution_count": 47,
   "metadata": {},
   "outputs": [
    {
     "output_type": "stream",
     "name": "stdout",
     "text": [
      "<class 'pandas.core.frame.DataFrame'>\nInt64Index: 45 entries, 626 to 673\nData columns (total 43 columns):\n #   Column                                                       Non-Null Count  Dtype  \n---  ------                                                       --------------  -----  \n 0   GEO_ID                                                       45 non-null     object \n 1   NAME                                                         45 non-null     object \n 2   NAICS2017_LABEL                                              45 non-null     object \n 3   SEX_LABEL                                                    45 non-null     object \n 4   ETH_GROUP_LABEL                                              45 non-null     object \n 5   RACE_GROUP_LABEL                                             45 non-null     object \n 6   VET_GROUP_LABEL                                              45 non-null     object \n 7   QDESC_LABEL                                                  45 non-null     object \n 8   BUSCHAR_LABEL                                                45 non-null     object \n 9   YEAR                                                         45 non-null     object \n 10  FIRMPDEMP                                                    45 non-null     float64\n 11  FIRMPDEMP_F                                                  5 non-null      object \n 12  FIRMPDEMP_PCT                                                45 non-null     object \n 13  FIRMPDEMP_PCT_F                                              18 non-null     object \n 14  RCPPDEMP                                                     45 non-null     object \n 15  RCPPDEMP_F                                                   45 non-null     object \n 16  RCPPDEMP_PCT                                                 45 non-null     object \n 17  RCPPDEMP_PCT_F                                               45 non-null     object \n 18  EMP                                                          45 non-null     float64\n 19  EMP_F                                                        5 non-null      object \n 20  EMP_PCT                                                      45 non-null     object \n 21  EMP_PCT_F                                                    18 non-null     object \n 22  PAYANN                                                       45 non-null     float64\n 23  PAYANN_F                                                     5 non-null      object \n 24  PAYANN_PCT                                                   45 non-null     object \n 25  PAYANN_PCT_F                                                 18 non-null     object \n 26  FIRMPDEMP_S                                                  45 non-null     object \n 27  FIRMPDEMP_S_F                                                5 non-null      object \n 28  FIRMPDEMP_PCT_S                                              45 non-null     object \n 29  FIRMPDEMP_PCT_S_F                                            18 non-null     object \n 30  RCPPDEMP_S                                                   45 non-null     object \n 31  RCPPDEMP_S_F                                                 45 non-null     object \n 32  RCPPDEMP_PCT_S                                               45 non-null     object \n 33  RCPPDEMP_PCT_S_F                                             45 non-null     object \n 34  EMP_S                                                        45 non-null     object \n 35  EMP_S_F                                                      5 non-null      object \n 36  EMP_PCT_S                                                    45 non-null     object \n 37  EMP_PCT_S_F                                                  18 non-null     object \n 38  PAYANN_S                                                     45 non-null     object \n 39  PAYANN_S_F                                                   5 non-null      object \n 40  PAYANN_PCT_S                                                 45 non-null     object \n 41  PAYANN_PCT_S_F                                               18 non-null     object \n 42  metropolitan statistical area/micropolitan statistical area  45 non-null     object \ndtypes: float64(3), object(40)\nmemory usage: 15.5+ KB\n"
     ]
    }
   ],
   "source": [
    "df_metro_b.info()"
   ]
  },
  {
   "cell_type": "code",
   "execution_count": 48,
   "metadata": {},
   "outputs": [
    {
     "output_type": "execute_result",
     "data": {
      "text/plain": [
       "array(['Total for all sectors'], dtype=object)"
      ]
     },
     "metadata": {},
     "execution_count": 48
    }
   ],
   "source": [
    "df_metro_b['NAICS2017_LABEL'].unique()"
   ]
  },
  {
   "cell_type": "code",
   "execution_count": 49,
   "metadata": {},
   "outputs": [
    {
     "output_type": "execute_result",
     "data": {
      "text/plain": [
       "(45, 43)"
      ]
     },
     "metadata": {},
     "execution_count": 49
    }
   ],
   "source": [
    "df_metro_b.shape"
   ]
  },
  {
   "cell_type": "code",
   "execution_count": 51,
   "metadata": {},
   "outputs": [
    {
     "output_type": "stream",
     "name": "stderr",
     "text": [
      "C:\\Users\\nicho\\anaconda3\\lib\\site-packages\\pandas\\core\\frame.py:4296: SettingWithCopyWarning: \nA value is trying to be set on a copy of a slice from a DataFrame\n\nSee the caveats in the documentation: https://pandas.pydata.org/pandas-docs/stable/user_guide/indexing.html#returning-a-view-versus-a-copy\n  return super().rename(\n"
     ]
    }
   ],
   "source": [
    "df_metro_b.rename(columns = {'FIRMPDEMP': 'Number of employer firms', 'EMP': 'Number of Employees', 'PAYANN': 'Annual payroll ($10-Millions)'}, inplace=True)"
   ]
  },
  {
   "cell_type": "code",
   "execution_count": 52,
   "metadata": {},
   "outputs": [
    {
     "output_type": "stream",
     "name": "stdout",
     "text": [
      "<class 'pandas.core.frame.DataFrame'>\nInt64Index: 45 entries, 626 to 673\nData columns (total 43 columns):\n #   Column                                                       Non-Null Count  Dtype  \n---  ------                                                       --------------  -----  \n 0   GEO_ID                                                       45 non-null     object \n 1   NAME                                                         45 non-null     object \n 2   NAICS2017_LABEL                                              45 non-null     object \n 3   SEX_LABEL                                                    45 non-null     object \n 4   ETH_GROUP_LABEL                                              45 non-null     object \n 5   RACE_GROUP_LABEL                                             45 non-null     object \n 6   VET_GROUP_LABEL                                              45 non-null     object \n 7   QDESC_LABEL                                                  45 non-null     object \n 8   BUSCHAR_LABEL                                                45 non-null     object \n 9   YEAR                                                         45 non-null     object \n 10  Number of employer firms                                     45 non-null     float64\n 11  FIRMPDEMP_F                                                  5 non-null      object \n 12  FIRMPDEMP_PCT                                                45 non-null     object \n 13  FIRMPDEMP_PCT_F                                              18 non-null     object \n 14  RCPPDEMP                                                     45 non-null     object \n 15  RCPPDEMP_F                                                   45 non-null     object \n 16  RCPPDEMP_PCT                                                 45 non-null     object \n 17  RCPPDEMP_PCT_F                                               45 non-null     object \n 18  Number of Employees                                          45 non-null     float64\n 19  EMP_F                                                        5 non-null      object \n 20  EMP_PCT                                                      45 non-null     object \n 21  EMP_PCT_F                                                    18 non-null     object \n 22  Annual payroll ($10-Millions)                                45 non-null     float64\n 23  PAYANN_F                                                     5 non-null      object \n 24  PAYANN_PCT                                                   45 non-null     object \n 25  PAYANN_PCT_F                                                 18 non-null     object \n 26  FIRMPDEMP_S                                                  45 non-null     object \n 27  FIRMPDEMP_S_F                                                5 non-null      object \n 28  FIRMPDEMP_PCT_S                                              45 non-null     object \n 29  FIRMPDEMP_PCT_S_F                                            18 non-null     object \n 30  RCPPDEMP_S                                                   45 non-null     object \n 31  RCPPDEMP_S_F                                                 45 non-null     object \n 32  RCPPDEMP_PCT_S                                               45 non-null     object \n 33  RCPPDEMP_PCT_S_F                                             45 non-null     object \n 34  EMP_S                                                        45 non-null     object \n 35  EMP_S_F                                                      5 non-null      object \n 36  EMP_PCT_S                                                    45 non-null     object \n 37  EMP_PCT_S_F                                                  18 non-null     object \n 38  PAYANN_S                                                     45 non-null     object \n 39  PAYANN_S_F                                                   5 non-null      object \n 40  PAYANN_PCT_S                                                 45 non-null     object \n 41  PAYANN_PCT_S_F                                               18 non-null     object \n 42  metropolitan statistical area/micropolitan statistical area  45 non-null     object \ndtypes: float64(3), object(40)\nmemory usage: 15.5+ KB\n"
     ]
    }
   ],
   "source": [
    "df_metro_b.info()"
   ]
  },
  {
   "cell_type": "code",
   "execution_count": 54,
   "metadata": {},
   "outputs": [
    {
     "output_type": "execute_result",
     "data": {
      "text/plain": [
       "                               Number of employer firms  Number of Employees  \\\n",
       "Number of employer firms                       1.000000             0.947510   \n",
       "Number of Employees                            0.947510             1.000000   \n",
       "Annual payroll ($10-Millions)                  0.934994             0.998126   \n",
       "\n",
       "                               Annual payroll ($10-Millions)  \n",
       "Number of employer firms                            0.934994  \n",
       "Number of Employees                                 0.998126  \n",
       "Annual payroll ($10-Millions)                       1.000000  "
      ],
      "text/html": "<div>\n<style scoped>\n    .dataframe tbody tr th:only-of-type {\n        vertical-align: middle;\n    }\n\n    .dataframe tbody tr th {\n        vertical-align: top;\n    }\n\n    .dataframe thead th {\n        text-align: right;\n    }\n</style>\n<table border=\"1\" class=\"dataframe\">\n  <thead>\n    <tr style=\"text-align: right;\">\n      <th></th>\n      <th>Number of employer firms</th>\n      <th>Number of Employees</th>\n      <th>Annual payroll ($10-Millions)</th>\n    </tr>\n  </thead>\n  <tbody>\n    <tr>\n      <th>Number of employer firms</th>\n      <td>1.000000</td>\n      <td>0.947510</td>\n      <td>0.934994</td>\n    </tr>\n    <tr>\n      <th>Number of Employees</th>\n      <td>0.947510</td>\n      <td>1.000000</td>\n      <td>0.998126</td>\n    </tr>\n    <tr>\n      <th>Annual payroll ($10-Millions)</th>\n      <td>0.934994</td>\n      <td>0.998126</td>\n      <td>1.000000</td>\n    </tr>\n  </tbody>\n</table>\n</div>"
     },
     "metadata": {},
     "execution_count": 54
    }
   ],
   "source": [
    "df_metro_b_corr = df_metro_b[['Number of employer firms', 'Number of Employees', 'Annual payroll ($10-Millions)']]\n",
    "\n",
    "df_metro_b_corr.corr()"
   ]
  },
  {
   "cell_type": "code",
   "execution_count": 55,
   "metadata": {},
   "outputs": [
    {
     "output_type": "display_data",
     "data": {
      "text/plain": "<Figure size 1152x864 with 2 Axes>",
      "image/svg+xml": "<?xml version=\"1.0\" encoding=\"utf-8\" standalone=\"no\"?>\r\n<!DOCTYPE svg PUBLIC \"-//W3C//DTD SVG 1.1//EN\"\r\n  \"http://www.w3.org/Graphics/SVG/1.1/DTD/svg11.dtd\">\r\n<!-- Created with matplotlib (https://matplotlib.org/) -->\r\n<svg height=\"700.976563pt\" version=\"1.1\" viewBox=\"0 0 851.83975 700.976563\" width=\"851.83975pt\" xmlns=\"http://www.w3.org/2000/svg\" xmlns:xlink=\"http://www.w3.org/1999/xlink\">\r\n <metadata>\r\n  <rdf:RDF xmlns:cc=\"http://creativecommons.org/ns#\" xmlns:dc=\"http://purl.org/dc/elements/1.1/\" xmlns:rdf=\"http://www.w3.org/1999/02/22-rdf-syntax-ns#\">\r\n   <cc:Work>\r\n    <dc:type rdf:resource=\"http://purl.org/dc/dcmitype/StillImage\"/>\r\n    <dc:date>2021-06-26T00:26:13.795583</dc:date>\r\n    <dc:format>image/svg+xml</dc:format>\r\n    <dc:creator>\r\n     <cc:Agent>\r\n      <dc:title>Matplotlib v3.3.2, https://matplotlib.org/</dc:title>\r\n     </cc:Agent>\r\n    </dc:creator>\r\n   </cc:Work>\r\n  </rdf:RDF>\r\n </metadata>\r\n <defs>\r\n  <style type=\"text/css\">*{stroke-linecap:butt;stroke-linejoin:round;}</style>\r\n </defs>\r\n <g id=\"figure_1\">\r\n  <g id=\"patch_1\">\r\n   <path d=\"M 0 700.976563 \r\nL 851.83975 700.976563 \r\nL 851.83975 0 \r\nL 0 0 \r\nz\r\n\" style=\"fill:none;\"/>\r\n  </g>\r\n  <g id=\"axes_1\">\r\n   <g id=\"patch_2\">\r\n    <path d=\"M 23.878125 663.319219 \r\nL 738.118125 663.319219 \r\nL 738.118125 10.999219 \r\nL 23.878125 10.999219 \r\nz\r\n\" style=\"fill:#ffffff;\"/>\r\n   </g>\r\n   <g id=\"QuadMesh_1\">\r\n    <path clip-path=\"url(#p365f5e2224)\" d=\"M 23.878125 10.999219 \r\nL 261.958125 10.999219 \r\nL 261.958125 228.439219 \r\nL 23.878125 228.439219 \r\nL 23.878125 10.999219 \r\n\" style=\"fill:#081d58;\"/>\r\n    <path clip-path=\"url(#p365f5e2224)\" d=\"M 261.958125 10.999219 \r\nL 500.038125 10.999219 \r\nL 500.038125 228.439219 \r\nL 261.958125 228.439219 \r\nL 261.958125 10.999219 \r\n\" style=\"fill:#d9f0b3;\"/>\r\n    <path clip-path=\"url(#p365f5e2224)\" d=\"M 500.038125 10.999219 \r\nL 738.118125 10.999219 \r\nL 738.118125 228.439219 \r\nL 500.038125 228.439219 \r\nL 500.038125 10.999219 \r\n\" style=\"fill:#ffffd9;\"/>\r\n    <path clip-path=\"url(#p365f5e2224)\" d=\"M 23.878125 228.439219 \r\nL 261.958125 228.439219 \r\nL 261.958125 445.879219 \r\nL 23.878125 445.879219 \r\nL 23.878125 228.439219 \r\n\" style=\"fill:#d9f0b3;\"/>\r\n    <path clip-path=\"url(#p365f5e2224)\" d=\"M 261.958125 228.439219 \r\nL 500.038125 228.439219 \r\nL 500.038125 445.879219 \r\nL 261.958125 445.879219 \r\nL 261.958125 228.439219 \r\n\" style=\"fill:#081d58;\"/>\r\n    <path clip-path=\"url(#p365f5e2224)\" d=\"M 500.038125 228.439219 \r\nL 738.118125 228.439219 \r\nL 738.118125 445.879219 \r\nL 500.038125 445.879219 \r\nL 500.038125 228.439219 \r\n\" style=\"fill:#0e2265;\"/>\r\n    <path clip-path=\"url(#p365f5e2224)\" d=\"M 23.878125 445.879219 \r\nL 261.958125 445.879219 \r\nL 261.958125 663.319219 \r\nL 23.878125 663.319219 \r\nL 23.878125 445.879219 \r\n\" style=\"fill:#ffffd9;\"/>\r\n    <path clip-path=\"url(#p365f5e2224)\" d=\"M 261.958125 445.879219 \r\nL 500.038125 445.879219 \r\nL 500.038125 663.319219 \r\nL 261.958125 663.319219 \r\nL 261.958125 445.879219 \r\n\" style=\"fill:#0e2265;\"/>\r\n    <path clip-path=\"url(#p365f5e2224)\" d=\"M 500.038125 445.879219 \r\nL 738.118125 445.879219 \r\nL 738.118125 663.319219 \r\nL 500.038125 663.319219 \r\nL 500.038125 445.879219 \r\n\" style=\"fill:#081d58;\"/>\r\n   </g>\r\n   <g id=\"matplotlib.axis_1\">\r\n    <g id=\"xtick_1\">\r\n     <g id=\"line2d_1\">\r\n      <defs>\r\n       <path d=\"M 0 0 \r\nL 0 3.5 \r\n\" id=\"m8ebbeeb157\" style=\"stroke:#000000;stroke-width:0.8;\"/>\r\n      </defs>\r\n      <g>\r\n       <use style=\"stroke:#000000;stroke-width:0.8;\" x=\"142.918125\" xlink:href=\"#m8ebbeeb157\" y=\"663.319219\"/>\r\n      </g>\r\n     </g>\r\n     <g id=\"text_1\">\r\n      <!-- Number of employer firms -->\r\n      <g transform=\"translate(76.992344 677.917656)scale(0.1 -0.1)\">\r\n       <defs>\r\n        <path d=\"M 9.8125 72.90625 \r\nL 23.09375 72.90625 \r\nL 55.421875 11.921875 \r\nL 55.421875 72.90625 \r\nL 64.984375 72.90625 \r\nL 64.984375 0 \r\nL 51.703125 0 \r\nL 19.390625 60.984375 \r\nL 19.390625 0 \r\nL 9.8125 0 \r\nz\r\n\" id=\"DejaVuSans-78\"/>\r\n        <path d=\"M 8.5 21.578125 \r\nL 8.5 54.6875 \r\nL 17.484375 54.6875 \r\nL 17.484375 21.921875 \r\nQ 17.484375 14.15625 20.5 10.265625 \r\nQ 23.53125 6.390625 29.59375 6.390625 \r\nQ 36.859375 6.390625 41.078125 11.03125 \r\nQ 45.3125 15.671875 45.3125 23.6875 \r\nL 45.3125 54.6875 \r\nL 54.296875 54.6875 \r\nL 54.296875 0 \r\nL 45.3125 0 \r\nL 45.3125 8.40625 \r\nQ 42.046875 3.421875 37.71875 1 \r\nQ 33.40625 -1.421875 27.6875 -1.421875 \r\nQ 18.265625 -1.421875 13.375 4.4375 \r\nQ 8.5 10.296875 8.5 21.578125 \r\nz\r\nM 31.109375 56 \r\nz\r\n\" id=\"DejaVuSans-117\"/>\r\n        <path d=\"M 52 44.1875 \r\nQ 55.375 50.25 60.0625 53.125 \r\nQ 64.75 56 71.09375 56 \r\nQ 79.640625 56 84.28125 50.015625 \r\nQ 88.921875 44.046875 88.921875 33.015625 \r\nL 88.921875 0 \r\nL 79.890625 0 \r\nL 79.890625 32.71875 \r\nQ 79.890625 40.578125 77.09375 44.375 \r\nQ 74.3125 48.1875 68.609375 48.1875 \r\nQ 61.625 48.1875 57.5625 43.546875 \r\nQ 53.515625 38.921875 53.515625 30.90625 \r\nL 53.515625 0 \r\nL 44.484375 0 \r\nL 44.484375 32.71875 \r\nQ 44.484375 40.625 41.703125 44.40625 \r\nQ 38.921875 48.1875 33.109375 48.1875 \r\nQ 26.21875 48.1875 22.15625 43.53125 \r\nQ 18.109375 38.875 18.109375 30.90625 \r\nL 18.109375 0 \r\nL 9.078125 0 \r\nL 9.078125 54.6875 \r\nL 18.109375 54.6875 \r\nL 18.109375 46.1875 \r\nQ 21.1875 51.21875 25.484375 53.609375 \r\nQ 29.78125 56 35.6875 56 \r\nQ 41.65625 56 45.828125 52.96875 \r\nQ 50 49.953125 52 44.1875 \r\nz\r\n\" id=\"DejaVuSans-109\"/>\r\n        <path d=\"M 48.6875 27.296875 \r\nQ 48.6875 37.203125 44.609375 42.84375 \r\nQ 40.53125 48.484375 33.40625 48.484375 \r\nQ 26.265625 48.484375 22.1875 42.84375 \r\nQ 18.109375 37.203125 18.109375 27.296875 \r\nQ 18.109375 17.390625 22.1875 11.75 \r\nQ 26.265625 6.109375 33.40625 6.109375 \r\nQ 40.53125 6.109375 44.609375 11.75 \r\nQ 48.6875 17.390625 48.6875 27.296875 \r\nz\r\nM 18.109375 46.390625 \r\nQ 20.953125 51.265625 25.265625 53.625 \r\nQ 29.59375 56 35.59375 56 \r\nQ 45.5625 56 51.78125 48.09375 \r\nQ 58.015625 40.1875 58.015625 27.296875 \r\nQ 58.015625 14.40625 51.78125 6.484375 \r\nQ 45.5625 -1.421875 35.59375 -1.421875 \r\nQ 29.59375 -1.421875 25.265625 0.953125 \r\nQ 20.953125 3.328125 18.109375 8.203125 \r\nL 18.109375 0 \r\nL 9.078125 0 \r\nL 9.078125 75.984375 \r\nL 18.109375 75.984375 \r\nz\r\n\" id=\"DejaVuSans-98\"/>\r\n        <path d=\"M 56.203125 29.59375 \r\nL 56.203125 25.203125 \r\nL 14.890625 25.203125 \r\nQ 15.484375 15.921875 20.484375 11.0625 \r\nQ 25.484375 6.203125 34.421875 6.203125 \r\nQ 39.59375 6.203125 44.453125 7.46875 \r\nQ 49.3125 8.734375 54.109375 11.28125 \r\nL 54.109375 2.78125 \r\nQ 49.265625 0.734375 44.1875 -0.34375 \r\nQ 39.109375 -1.421875 33.890625 -1.421875 \r\nQ 20.796875 -1.421875 13.15625 6.1875 \r\nQ 5.515625 13.8125 5.515625 26.8125 \r\nQ 5.515625 40.234375 12.765625 48.109375 \r\nQ 20.015625 56 32.328125 56 \r\nQ 43.359375 56 49.78125 48.890625 \r\nQ 56.203125 41.796875 56.203125 29.59375 \r\nz\r\nM 47.21875 32.234375 \r\nQ 47.125 39.59375 43.09375 43.984375 \r\nQ 39.0625 48.390625 32.421875 48.390625 \r\nQ 24.90625 48.390625 20.390625 44.140625 \r\nQ 15.875 39.890625 15.1875 32.171875 \r\nz\r\n\" id=\"DejaVuSans-101\"/>\r\n        <path d=\"M 41.109375 46.296875 \r\nQ 39.59375 47.171875 37.8125 47.578125 \r\nQ 36.03125 48 33.890625 48 \r\nQ 26.265625 48 22.1875 43.046875 \r\nQ 18.109375 38.09375 18.109375 28.8125 \r\nL 18.109375 0 \r\nL 9.078125 0 \r\nL 9.078125 54.6875 \r\nL 18.109375 54.6875 \r\nL 18.109375 46.1875 \r\nQ 20.953125 51.171875 25.484375 53.578125 \r\nQ 30.03125 56 36.53125 56 \r\nQ 37.453125 56 38.578125 55.875 \r\nQ 39.703125 55.765625 41.0625 55.515625 \r\nz\r\n\" id=\"DejaVuSans-114\"/>\r\n        <path id=\"DejaVuSans-32\"/>\r\n        <path d=\"M 30.609375 48.390625 \r\nQ 23.390625 48.390625 19.1875 42.75 \r\nQ 14.984375 37.109375 14.984375 27.296875 \r\nQ 14.984375 17.484375 19.15625 11.84375 \r\nQ 23.34375 6.203125 30.609375 6.203125 \r\nQ 37.796875 6.203125 41.984375 11.859375 \r\nQ 46.1875 17.53125 46.1875 27.296875 \r\nQ 46.1875 37.015625 41.984375 42.703125 \r\nQ 37.796875 48.390625 30.609375 48.390625 \r\nz\r\nM 30.609375 56 \r\nQ 42.328125 56 49.015625 48.375 \r\nQ 55.71875 40.765625 55.71875 27.296875 \r\nQ 55.71875 13.875 49.015625 6.21875 \r\nQ 42.328125 -1.421875 30.609375 -1.421875 \r\nQ 18.84375 -1.421875 12.171875 6.21875 \r\nQ 5.515625 13.875 5.515625 27.296875 \r\nQ 5.515625 40.765625 12.171875 48.375 \r\nQ 18.84375 56 30.609375 56 \r\nz\r\n\" id=\"DejaVuSans-111\"/>\r\n        <path d=\"M 37.109375 75.984375 \r\nL 37.109375 68.5 \r\nL 28.515625 68.5 \r\nQ 23.6875 68.5 21.796875 66.546875 \r\nQ 19.921875 64.59375 19.921875 59.515625 \r\nL 19.921875 54.6875 \r\nL 34.71875 54.6875 \r\nL 34.71875 47.703125 \r\nL 19.921875 47.703125 \r\nL 19.921875 0 \r\nL 10.890625 0 \r\nL 10.890625 47.703125 \r\nL 2.296875 47.703125 \r\nL 2.296875 54.6875 \r\nL 10.890625 54.6875 \r\nL 10.890625 58.5 \r\nQ 10.890625 67.625 15.140625 71.796875 \r\nQ 19.390625 75.984375 28.609375 75.984375 \r\nz\r\n\" id=\"DejaVuSans-102\"/>\r\n        <path d=\"M 18.109375 8.203125 \r\nL 18.109375 -20.796875 \r\nL 9.078125 -20.796875 \r\nL 9.078125 54.6875 \r\nL 18.109375 54.6875 \r\nL 18.109375 46.390625 \r\nQ 20.953125 51.265625 25.265625 53.625 \r\nQ 29.59375 56 35.59375 56 \r\nQ 45.5625 56 51.78125 48.09375 \r\nQ 58.015625 40.1875 58.015625 27.296875 \r\nQ 58.015625 14.40625 51.78125 6.484375 \r\nQ 45.5625 -1.421875 35.59375 -1.421875 \r\nQ 29.59375 -1.421875 25.265625 0.953125 \r\nQ 20.953125 3.328125 18.109375 8.203125 \r\nz\r\nM 48.6875 27.296875 \r\nQ 48.6875 37.203125 44.609375 42.84375 \r\nQ 40.53125 48.484375 33.40625 48.484375 \r\nQ 26.265625 48.484375 22.1875 42.84375 \r\nQ 18.109375 37.203125 18.109375 27.296875 \r\nQ 18.109375 17.390625 22.1875 11.75 \r\nQ 26.265625 6.109375 33.40625 6.109375 \r\nQ 40.53125 6.109375 44.609375 11.75 \r\nQ 48.6875 17.390625 48.6875 27.296875 \r\nz\r\n\" id=\"DejaVuSans-112\"/>\r\n        <path d=\"M 9.421875 75.984375 \r\nL 18.40625 75.984375 \r\nL 18.40625 0 \r\nL 9.421875 0 \r\nz\r\n\" id=\"DejaVuSans-108\"/>\r\n        <path d=\"M 32.171875 -5.078125 \r\nQ 28.375 -14.84375 24.75 -17.8125 \r\nQ 21.140625 -20.796875 15.09375 -20.796875 \r\nL 7.90625 -20.796875 \r\nL 7.90625 -13.28125 \r\nL 13.1875 -13.28125 \r\nQ 16.890625 -13.28125 18.9375 -11.515625 \r\nQ 21 -9.765625 23.484375 -3.21875 \r\nL 25.09375 0.875 \r\nL 2.984375 54.6875 \r\nL 12.5 54.6875 \r\nL 29.59375 11.921875 \r\nL 46.6875 54.6875 \r\nL 56.203125 54.6875 \r\nz\r\n\" id=\"DejaVuSans-121\"/>\r\n        <path d=\"M 9.421875 54.6875 \r\nL 18.40625 54.6875 \r\nL 18.40625 0 \r\nL 9.421875 0 \r\nz\r\nM 9.421875 75.984375 \r\nL 18.40625 75.984375 \r\nL 18.40625 64.59375 \r\nL 9.421875 64.59375 \r\nz\r\n\" id=\"DejaVuSans-105\"/>\r\n        <path d=\"M 44.28125 53.078125 \r\nL 44.28125 44.578125 \r\nQ 40.484375 46.53125 36.375 47.5 \r\nQ 32.28125 48.484375 27.875 48.484375 \r\nQ 21.1875 48.484375 17.84375 46.4375 \r\nQ 14.5 44.390625 14.5 40.28125 \r\nQ 14.5 37.15625 16.890625 35.375 \r\nQ 19.28125 33.59375 26.515625 31.984375 \r\nL 29.59375 31.296875 \r\nQ 39.15625 29.25 43.1875 25.515625 \r\nQ 47.21875 21.78125 47.21875 15.09375 \r\nQ 47.21875 7.46875 41.1875 3.015625 \r\nQ 35.15625 -1.421875 24.609375 -1.421875 \r\nQ 20.21875 -1.421875 15.453125 -0.5625 \r\nQ 10.6875 0.296875 5.421875 2 \r\nL 5.421875 11.28125 \r\nQ 10.40625 8.6875 15.234375 7.390625 \r\nQ 20.0625 6.109375 24.8125 6.109375 \r\nQ 31.15625 6.109375 34.5625 8.28125 \r\nQ 37.984375 10.453125 37.984375 14.40625 \r\nQ 37.984375 18.0625 35.515625 20.015625 \r\nQ 33.0625 21.96875 24.703125 23.78125 \r\nL 21.578125 24.515625 \r\nQ 13.234375 26.265625 9.515625 29.90625 \r\nQ 5.8125 33.546875 5.8125 39.890625 \r\nQ 5.8125 47.609375 11.28125 51.796875 \r\nQ 16.75 56 26.8125 56 \r\nQ 31.78125 56 36.171875 55.265625 \r\nQ 40.578125 54.546875 44.28125 53.078125 \r\nz\r\n\" id=\"DejaVuSans-115\"/>\r\n       </defs>\r\n       <use xlink:href=\"#DejaVuSans-78\"/>\r\n       <use x=\"74.804688\" xlink:href=\"#DejaVuSans-117\"/>\r\n       <use x=\"138.183594\" xlink:href=\"#DejaVuSans-109\"/>\r\n       <use x=\"235.595703\" xlink:href=\"#DejaVuSans-98\"/>\r\n       <use x=\"299.072266\" xlink:href=\"#DejaVuSans-101\"/>\r\n       <use x=\"360.595703\" xlink:href=\"#DejaVuSans-114\"/>\r\n       <use x=\"401.708984\" xlink:href=\"#DejaVuSans-32\"/>\r\n       <use x=\"433.496094\" xlink:href=\"#DejaVuSans-111\"/>\r\n       <use x=\"494.677734\" xlink:href=\"#DejaVuSans-102\"/>\r\n       <use x=\"529.882812\" xlink:href=\"#DejaVuSans-32\"/>\r\n       <use x=\"561.669922\" xlink:href=\"#DejaVuSans-101\"/>\r\n       <use x=\"623.193359\" xlink:href=\"#DejaVuSans-109\"/>\r\n       <use x=\"720.605469\" xlink:href=\"#DejaVuSans-112\"/>\r\n       <use x=\"784.082031\" xlink:href=\"#DejaVuSans-108\"/>\r\n       <use x=\"811.865234\" xlink:href=\"#DejaVuSans-111\"/>\r\n       <use x=\"873.046875\" xlink:href=\"#DejaVuSans-121\"/>\r\n       <use x=\"932.226562\" xlink:href=\"#DejaVuSans-101\"/>\r\n       <use x=\"993.75\" xlink:href=\"#DejaVuSans-114\"/>\r\n       <use x=\"1034.863281\" xlink:href=\"#DejaVuSans-32\"/>\r\n       <use x=\"1066.650391\" xlink:href=\"#DejaVuSans-102\"/>\r\n       <use x=\"1101.855469\" xlink:href=\"#DejaVuSans-105\"/>\r\n       <use x=\"1129.638672\" xlink:href=\"#DejaVuSans-114\"/>\r\n       <use x=\"1169.001953\" xlink:href=\"#DejaVuSans-109\"/>\r\n       <use x=\"1266.414062\" xlink:href=\"#DejaVuSans-115\"/>\r\n      </g>\r\n     </g>\r\n    </g>\r\n    <g id=\"xtick_2\">\r\n     <g id=\"line2d_2\">\r\n      <g>\r\n       <use style=\"stroke:#000000;stroke-width:0.8;\" x=\"380.998125\" xlink:href=\"#m8ebbeeb157\" y=\"663.319219\"/>\r\n      </g>\r\n     </g>\r\n     <g id=\"text_2\">\r\n      <!-- Number of Employees -->\r\n      <g transform=\"translate(325.545 677.917656)scale(0.1 -0.1)\">\r\n       <defs>\r\n        <path d=\"M 9.8125 72.90625 \r\nL 55.90625 72.90625 \r\nL 55.90625 64.59375 \r\nL 19.671875 64.59375 \r\nL 19.671875 43.015625 \r\nL 54.390625 43.015625 \r\nL 54.390625 34.71875 \r\nL 19.671875 34.71875 \r\nL 19.671875 8.296875 \r\nL 56.78125 8.296875 \r\nL 56.78125 0 \r\nL 9.8125 0 \r\nz\r\n\" id=\"DejaVuSans-69\"/>\r\n       </defs>\r\n       <use xlink:href=\"#DejaVuSans-78\"/>\r\n       <use x=\"74.804688\" xlink:href=\"#DejaVuSans-117\"/>\r\n       <use x=\"138.183594\" xlink:href=\"#DejaVuSans-109\"/>\r\n       <use x=\"235.595703\" xlink:href=\"#DejaVuSans-98\"/>\r\n       <use x=\"299.072266\" xlink:href=\"#DejaVuSans-101\"/>\r\n       <use x=\"360.595703\" xlink:href=\"#DejaVuSans-114\"/>\r\n       <use x=\"401.708984\" xlink:href=\"#DejaVuSans-32\"/>\r\n       <use x=\"433.496094\" xlink:href=\"#DejaVuSans-111\"/>\r\n       <use x=\"494.677734\" xlink:href=\"#DejaVuSans-102\"/>\r\n       <use x=\"529.882812\" xlink:href=\"#DejaVuSans-32\"/>\r\n       <use x=\"561.669922\" xlink:href=\"#DejaVuSans-69\"/>\r\n       <use x=\"624.853516\" xlink:href=\"#DejaVuSans-109\"/>\r\n       <use x=\"722.265625\" xlink:href=\"#DejaVuSans-112\"/>\r\n       <use x=\"785.742188\" xlink:href=\"#DejaVuSans-108\"/>\r\n       <use x=\"813.525391\" xlink:href=\"#DejaVuSans-111\"/>\r\n       <use x=\"874.707031\" xlink:href=\"#DejaVuSans-121\"/>\r\n       <use x=\"933.886719\" xlink:href=\"#DejaVuSans-101\"/>\r\n       <use x=\"995.410156\" xlink:href=\"#DejaVuSans-101\"/>\r\n       <use x=\"1056.933594\" xlink:href=\"#DejaVuSans-115\"/>\r\n      </g>\r\n     </g>\r\n    </g>\r\n    <g id=\"xtick_3\">\r\n     <g id=\"line2d_3\">\r\n      <g>\r\n       <use style=\"stroke:#000000;stroke-width:0.8;\" x=\"619.078125\" xlink:href=\"#m8ebbeeb157\" y=\"663.319219\"/>\r\n      </g>\r\n     </g>\r\n     <g id=\"text_3\">\r\n      <!-- Annual payroll ($10-Millions) -->\r\n      <g transform=\"translate(547.589844 677.917656)scale(0.1 -0.1)\">\r\n       <defs>\r\n        <path d=\"M 34.1875 63.1875 \r\nL 20.796875 26.90625 \r\nL 47.609375 26.90625 \r\nz\r\nM 28.609375 72.90625 \r\nL 39.796875 72.90625 \r\nL 67.578125 0 \r\nL 57.328125 0 \r\nL 50.6875 18.703125 \r\nL 17.828125 18.703125 \r\nL 11.1875 0 \r\nL 0.78125 0 \r\nz\r\n\" id=\"DejaVuSans-65\"/>\r\n        <path d=\"M 54.890625 33.015625 \r\nL 54.890625 0 \r\nL 45.90625 0 \r\nL 45.90625 32.71875 \r\nQ 45.90625 40.484375 42.875 44.328125 \r\nQ 39.84375 48.1875 33.796875 48.1875 \r\nQ 26.515625 48.1875 22.3125 43.546875 \r\nQ 18.109375 38.921875 18.109375 30.90625 \r\nL 18.109375 0 \r\nL 9.078125 0 \r\nL 9.078125 54.6875 \r\nL 18.109375 54.6875 \r\nL 18.109375 46.1875 \r\nQ 21.34375 51.125 25.703125 53.5625 \r\nQ 30.078125 56 35.796875 56 \r\nQ 45.21875 56 50.046875 50.171875 \r\nQ 54.890625 44.34375 54.890625 33.015625 \r\nz\r\n\" id=\"DejaVuSans-110\"/>\r\n        <path d=\"M 34.28125 27.484375 \r\nQ 23.390625 27.484375 19.1875 25 \r\nQ 14.984375 22.515625 14.984375 16.5 \r\nQ 14.984375 11.71875 18.140625 8.90625 \r\nQ 21.296875 6.109375 26.703125 6.109375 \r\nQ 34.1875 6.109375 38.703125 11.40625 \r\nQ 43.21875 16.703125 43.21875 25.484375 \r\nL 43.21875 27.484375 \r\nz\r\nM 52.203125 31.203125 \r\nL 52.203125 0 \r\nL 43.21875 0 \r\nL 43.21875 8.296875 \r\nQ 40.140625 3.328125 35.546875 0.953125 \r\nQ 30.953125 -1.421875 24.3125 -1.421875 \r\nQ 15.921875 -1.421875 10.953125 3.296875 \r\nQ 6 8.015625 6 15.921875 \r\nQ 6 25.140625 12.171875 29.828125 \r\nQ 18.359375 34.515625 30.609375 34.515625 \r\nL 43.21875 34.515625 \r\nL 43.21875 35.40625 \r\nQ 43.21875 41.609375 39.140625 45 \r\nQ 35.0625 48.390625 27.6875 48.390625 \r\nQ 23 48.390625 18.546875 47.265625 \r\nQ 14.109375 46.140625 10.015625 43.890625 \r\nL 10.015625 52.203125 \r\nQ 14.9375 54.109375 19.578125 55.046875 \r\nQ 24.21875 56 28.609375 56 \r\nQ 40.484375 56 46.34375 49.84375 \r\nQ 52.203125 43.703125 52.203125 31.203125 \r\nz\r\n\" id=\"DejaVuSans-97\"/>\r\n        <path d=\"M 31 75.875 \r\nQ 24.46875 64.65625 21.28125 53.65625 \r\nQ 18.109375 42.671875 18.109375 31.390625 \r\nQ 18.109375 20.125 21.3125 9.0625 \r\nQ 24.515625 -2 31 -13.1875 \r\nL 23.1875 -13.1875 \r\nQ 15.875 -1.703125 12.234375 9.375 \r\nQ 8.59375 20.453125 8.59375 31.390625 \r\nQ 8.59375 42.28125 12.203125 53.3125 \r\nQ 15.828125 64.359375 23.1875 75.875 \r\nz\r\n\" id=\"DejaVuSans-40\"/>\r\n        <path d=\"M 33.796875 -14.703125 \r\nL 28.90625 -14.703125 \r\nL 28.859375 0 \r\nQ 23.734375 0.09375 18.609375 1.1875 \r\nQ 13.484375 2.296875 8.296875 4.5 \r\nL 8.296875 13.28125 \r\nQ 13.28125 10.15625 18.375 8.5625 \r\nQ 23.484375 6.984375 28.90625 6.9375 \r\nL 28.90625 29.203125 \r\nQ 18.109375 30.953125 13.203125 35.15625 \r\nQ 8.296875 39.359375 8.296875 46.6875 \r\nQ 8.296875 54.640625 13.625 59.21875 \r\nQ 18.953125 63.8125 28.90625 64.5 \r\nL 28.90625 75.984375 \r\nL 33.796875 75.984375 \r\nL 33.796875 64.65625 \r\nQ 38.328125 64.453125 42.578125 63.6875 \r\nQ 46.828125 62.9375 50.875 61.625 \r\nL 50.875 53.078125 \r\nQ 46.828125 55.125 42.546875 56.25 \r\nQ 38.28125 57.375 33.796875 57.5625 \r\nL 33.796875 36.71875 \r\nQ 44.875 35.015625 50.09375 30.609375 \r\nQ 55.328125 26.21875 55.328125 18.609375 \r\nQ 55.328125 10.359375 49.78125 5.59375 \r\nQ 44.234375 0.828125 33.796875 0.09375 \r\nz\r\nM 28.90625 37.59375 \r\nL 28.90625 57.625 \r\nQ 23.25 56.984375 20.265625 54.390625 \r\nQ 17.28125 51.8125 17.28125 47.515625 \r\nQ 17.28125 43.3125 20.03125 40.96875 \r\nQ 22.796875 38.625 28.90625 37.59375 \r\nz\r\nM 33.796875 28.21875 \r\nL 33.796875 7.078125 \r\nQ 39.984375 7.90625 43.140625 10.59375 \r\nQ 46.296875 13.28125 46.296875 17.671875 \r\nQ 46.296875 21.96875 43.28125 24.5 \r\nQ 40.28125 27.046875 33.796875 28.21875 \r\nz\r\n\" id=\"DejaVuSans-36\"/>\r\n        <path d=\"M 12.40625 8.296875 \r\nL 28.515625 8.296875 \r\nL 28.515625 63.921875 \r\nL 10.984375 60.40625 \r\nL 10.984375 69.390625 \r\nL 28.421875 72.90625 \r\nL 38.28125 72.90625 \r\nL 38.28125 8.296875 \r\nL 54.390625 8.296875 \r\nL 54.390625 0 \r\nL 12.40625 0 \r\nz\r\n\" id=\"DejaVuSans-49\"/>\r\n        <path d=\"M 31.78125 66.40625 \r\nQ 24.171875 66.40625 20.328125 58.90625 \r\nQ 16.5 51.421875 16.5 36.375 \r\nQ 16.5 21.390625 20.328125 13.890625 \r\nQ 24.171875 6.390625 31.78125 6.390625 \r\nQ 39.453125 6.390625 43.28125 13.890625 \r\nQ 47.125 21.390625 47.125 36.375 \r\nQ 47.125 51.421875 43.28125 58.90625 \r\nQ 39.453125 66.40625 31.78125 66.40625 \r\nz\r\nM 31.78125 74.21875 \r\nQ 44.046875 74.21875 50.515625 64.515625 \r\nQ 56.984375 54.828125 56.984375 36.375 \r\nQ 56.984375 17.96875 50.515625 8.265625 \r\nQ 44.046875 -1.421875 31.78125 -1.421875 \r\nQ 19.53125 -1.421875 13.0625 8.265625 \r\nQ 6.59375 17.96875 6.59375 36.375 \r\nQ 6.59375 54.828125 13.0625 64.515625 \r\nQ 19.53125 74.21875 31.78125 74.21875 \r\nz\r\n\" id=\"DejaVuSans-48\"/>\r\n        <path d=\"M 4.890625 31.390625 \r\nL 31.203125 31.390625 \r\nL 31.203125 23.390625 \r\nL 4.890625 23.390625 \r\nz\r\n\" id=\"DejaVuSans-45\"/>\r\n        <path d=\"M 9.8125 72.90625 \r\nL 24.515625 72.90625 \r\nL 43.109375 23.296875 \r\nL 61.8125 72.90625 \r\nL 76.515625 72.90625 \r\nL 76.515625 0 \r\nL 66.890625 0 \r\nL 66.890625 64.015625 \r\nL 48.09375 14.015625 \r\nL 38.1875 14.015625 \r\nL 19.390625 64.015625 \r\nL 19.390625 0 \r\nL 9.8125 0 \r\nz\r\n\" id=\"DejaVuSans-77\"/>\r\n        <path d=\"M 8.015625 75.875 \r\nL 15.828125 75.875 \r\nQ 23.140625 64.359375 26.78125 53.3125 \r\nQ 30.421875 42.28125 30.421875 31.390625 \r\nQ 30.421875 20.453125 26.78125 9.375 \r\nQ 23.140625 -1.703125 15.828125 -13.1875 \r\nL 8.015625 -13.1875 \r\nQ 14.5 -2 17.703125 9.0625 \r\nQ 20.90625 20.125 20.90625 31.390625 \r\nQ 20.90625 42.671875 17.703125 53.65625 \r\nQ 14.5 64.65625 8.015625 75.875 \r\nz\r\n\" id=\"DejaVuSans-41\"/>\r\n       </defs>\r\n       <use xlink:href=\"#DejaVuSans-65\"/>\r\n       <use x=\"68.408203\" xlink:href=\"#DejaVuSans-110\"/>\r\n       <use x=\"131.787109\" xlink:href=\"#DejaVuSans-110\"/>\r\n       <use x=\"195.166016\" xlink:href=\"#DejaVuSans-117\"/>\r\n       <use x=\"258.544922\" xlink:href=\"#DejaVuSans-97\"/>\r\n       <use x=\"319.824219\" xlink:href=\"#DejaVuSans-108\"/>\r\n       <use x=\"347.607422\" xlink:href=\"#DejaVuSans-32\"/>\r\n       <use x=\"379.394531\" xlink:href=\"#DejaVuSans-112\"/>\r\n       <use x=\"442.871094\" xlink:href=\"#DejaVuSans-97\"/>\r\n       <use x=\"504.150391\" xlink:href=\"#DejaVuSans-121\"/>\r\n       <use x=\"563.330078\" xlink:href=\"#DejaVuSans-114\"/>\r\n       <use x=\"602.193359\" xlink:href=\"#DejaVuSans-111\"/>\r\n       <use x=\"663.375\" xlink:href=\"#DejaVuSans-108\"/>\r\n       <use x=\"691.158203\" xlink:href=\"#DejaVuSans-108\"/>\r\n       <use x=\"718.941406\" xlink:href=\"#DejaVuSans-32\"/>\r\n       <use x=\"750.728516\" xlink:href=\"#DejaVuSans-40\"/>\r\n       <use x=\"789.742188\" xlink:href=\"#DejaVuSans-36\"/>\r\n       <use x=\"853.365234\" xlink:href=\"#DejaVuSans-49\"/>\r\n       <use x=\"916.988281\" xlink:href=\"#DejaVuSans-48\"/>\r\n       <use x=\"980.611328\" xlink:href=\"#DejaVuSans-45\"/>\r\n       <use x=\"1016.695312\" xlink:href=\"#DejaVuSans-77\"/>\r\n       <use x=\"1102.974609\" xlink:href=\"#DejaVuSans-105\"/>\r\n       <use x=\"1130.757812\" xlink:href=\"#DejaVuSans-108\"/>\r\n       <use x=\"1158.541016\" xlink:href=\"#DejaVuSans-108\"/>\r\n       <use x=\"1186.324219\" xlink:href=\"#DejaVuSans-105\"/>\r\n       <use x=\"1214.107422\" xlink:href=\"#DejaVuSans-111\"/>\r\n       <use x=\"1275.289062\" xlink:href=\"#DejaVuSans-110\"/>\r\n       <use x=\"1338.667969\" xlink:href=\"#DejaVuSans-115\"/>\r\n       <use x=\"1390.767578\" xlink:href=\"#DejaVuSans-41\"/>\r\n      </g>\r\n     </g>\r\n    </g>\r\n   </g>\r\n   <g id=\"matplotlib.axis_2\">\r\n    <g id=\"ytick_1\">\r\n     <g id=\"line2d_4\">\r\n      <defs>\r\n       <path d=\"M 0 0 \r\nL -3.5 0 \r\n\" id=\"mfb52f73ca1\" style=\"stroke:#000000;stroke-width:0.8;\"/>\r\n      </defs>\r\n      <g>\r\n       <use style=\"stroke:#000000;stroke-width:0.8;\" x=\"23.878125\" xlink:href=\"#mfb52f73ca1\" y=\"119.719219\"/>\r\n      </g>\r\n     </g>\r\n     <g id=\"text_4\">\r\n      <!-- Number of employer firms -->\r\n      <g transform=\"translate(14.798438 247.771563)rotate(-90)scale(0.1 -0.1)\">\r\n       <use xlink:href=\"#DejaVuSans-78\"/>\r\n       <use x=\"74.804688\" xlink:href=\"#DejaVuSans-117\"/>\r\n       <use x=\"138.183594\" xlink:href=\"#DejaVuSans-109\"/>\r\n       <use x=\"235.595703\" xlink:href=\"#DejaVuSans-98\"/>\r\n       <use x=\"299.072266\" xlink:href=\"#DejaVuSans-101\"/>\r\n       <use x=\"360.595703\" xlink:href=\"#DejaVuSans-114\"/>\r\n       <use x=\"401.708984\" xlink:href=\"#DejaVuSans-32\"/>\r\n       <use x=\"433.496094\" xlink:href=\"#DejaVuSans-111\"/>\r\n       <use x=\"494.677734\" xlink:href=\"#DejaVuSans-102\"/>\r\n       <use x=\"529.882812\" xlink:href=\"#DejaVuSans-32\"/>\r\n       <use x=\"561.669922\" xlink:href=\"#DejaVuSans-101\"/>\r\n       <use x=\"623.193359\" xlink:href=\"#DejaVuSans-109\"/>\r\n       <use x=\"720.605469\" xlink:href=\"#DejaVuSans-112\"/>\r\n       <use x=\"784.082031\" xlink:href=\"#DejaVuSans-108\"/>\r\n       <use x=\"811.865234\" xlink:href=\"#DejaVuSans-111\"/>\r\n       <use x=\"873.046875\" xlink:href=\"#DejaVuSans-121\"/>\r\n       <use x=\"932.226562\" xlink:href=\"#DejaVuSans-101\"/>\r\n       <use x=\"993.75\" xlink:href=\"#DejaVuSans-114\"/>\r\n       <use x=\"1034.863281\" xlink:href=\"#DejaVuSans-32\"/>\r\n       <use x=\"1066.650391\" xlink:href=\"#DejaVuSans-102\"/>\r\n       <use x=\"1101.855469\" xlink:href=\"#DejaVuSans-105\"/>\r\n       <use x=\"1129.638672\" xlink:href=\"#DejaVuSans-114\"/>\r\n       <use x=\"1169.001953\" xlink:href=\"#DejaVuSans-109\"/>\r\n       <use x=\"1266.414062\" xlink:href=\"#DejaVuSans-115\"/>\r\n      </g>\r\n     </g>\r\n    </g>\r\n    <g id=\"ytick_2\">\r\n     <g id=\"line2d_5\">\r\n      <g>\r\n       <use style=\"stroke:#000000;stroke-width:0.8;\" x=\"23.878125\" xlink:href=\"#mfb52f73ca1\" y=\"337.159219\"/>\r\n      </g>\r\n     </g>\r\n     <g id=\"text_5\">\r\n      <!-- Number of Employees -->\r\n      <g transform=\"translate(14.798438 444.26625)rotate(-90)scale(0.1 -0.1)\">\r\n       <use xlink:href=\"#DejaVuSans-78\"/>\r\n       <use x=\"74.804688\" xlink:href=\"#DejaVuSans-117\"/>\r\n       <use x=\"138.183594\" xlink:href=\"#DejaVuSans-109\"/>\r\n       <use x=\"235.595703\" xlink:href=\"#DejaVuSans-98\"/>\r\n       <use x=\"299.072266\" xlink:href=\"#DejaVuSans-101\"/>\r\n       <use x=\"360.595703\" xlink:href=\"#DejaVuSans-114\"/>\r\n       <use x=\"401.708984\" xlink:href=\"#DejaVuSans-32\"/>\r\n       <use x=\"433.496094\" xlink:href=\"#DejaVuSans-111\"/>\r\n       <use x=\"494.677734\" xlink:href=\"#DejaVuSans-102\"/>\r\n       <use x=\"529.882812\" xlink:href=\"#DejaVuSans-32\"/>\r\n       <use x=\"561.669922\" xlink:href=\"#DejaVuSans-69\"/>\r\n       <use x=\"624.853516\" xlink:href=\"#DejaVuSans-109\"/>\r\n       <use x=\"722.265625\" xlink:href=\"#DejaVuSans-112\"/>\r\n       <use x=\"785.742188\" xlink:href=\"#DejaVuSans-108\"/>\r\n       <use x=\"813.525391\" xlink:href=\"#DejaVuSans-111\"/>\r\n       <use x=\"874.707031\" xlink:href=\"#DejaVuSans-121\"/>\r\n       <use x=\"933.886719\" xlink:href=\"#DejaVuSans-101\"/>\r\n       <use x=\"995.410156\" xlink:href=\"#DejaVuSans-101\"/>\r\n       <use x=\"1056.933594\" xlink:href=\"#DejaVuSans-115\"/>\r\n      </g>\r\n     </g>\r\n    </g>\r\n    <g id=\"ytick_3\">\r\n     <g id=\"line2d_6\">\r\n      <g>\r\n       <use style=\"stroke:#000000;stroke-width:0.8;\" x=\"23.878125\" xlink:href=\"#mfb52f73ca1\" y=\"554.599219\"/>\r\n      </g>\r\n     </g>\r\n     <g id=\"text_6\">\r\n      <!-- Annual payroll ($10-Millions) -->\r\n      <g transform=\"translate(14.798438 693.776563)rotate(-90)scale(0.1 -0.1)\">\r\n       <use xlink:href=\"#DejaVuSans-65\"/>\r\n       <use x=\"68.408203\" xlink:href=\"#DejaVuSans-110\"/>\r\n       <use x=\"131.787109\" xlink:href=\"#DejaVuSans-110\"/>\r\n       <use x=\"195.166016\" xlink:href=\"#DejaVuSans-117\"/>\r\n       <use x=\"258.544922\" xlink:href=\"#DejaVuSans-97\"/>\r\n       <use x=\"319.824219\" xlink:href=\"#DejaVuSans-108\"/>\r\n       <use x=\"347.607422\" xlink:href=\"#DejaVuSans-32\"/>\r\n       <use x=\"379.394531\" xlink:href=\"#DejaVuSans-112\"/>\r\n       <use x=\"442.871094\" xlink:href=\"#DejaVuSans-97\"/>\r\n       <use x=\"504.150391\" xlink:href=\"#DejaVuSans-121\"/>\r\n       <use x=\"563.330078\" xlink:href=\"#DejaVuSans-114\"/>\r\n       <use x=\"602.193359\" xlink:href=\"#DejaVuSans-111\"/>\r\n       <use x=\"663.375\" xlink:href=\"#DejaVuSans-108\"/>\r\n       <use x=\"691.158203\" xlink:href=\"#DejaVuSans-108\"/>\r\n       <use x=\"718.941406\" xlink:href=\"#DejaVuSans-32\"/>\r\n       <use x=\"750.728516\" xlink:href=\"#DejaVuSans-40\"/>\r\n       <use x=\"789.742188\" xlink:href=\"#DejaVuSans-36\"/>\r\n       <use x=\"853.365234\" xlink:href=\"#DejaVuSans-49\"/>\r\n       <use x=\"916.988281\" xlink:href=\"#DejaVuSans-48\"/>\r\n       <use x=\"980.611328\" xlink:href=\"#DejaVuSans-45\"/>\r\n       <use x=\"1016.695312\" xlink:href=\"#DejaVuSans-77\"/>\r\n       <use x=\"1102.974609\" xlink:href=\"#DejaVuSans-105\"/>\r\n       <use x=\"1130.757812\" xlink:href=\"#DejaVuSans-108\"/>\r\n       <use x=\"1158.541016\" xlink:href=\"#DejaVuSans-108\"/>\r\n       <use x=\"1186.324219\" xlink:href=\"#DejaVuSans-105\"/>\r\n       <use x=\"1214.107422\" xlink:href=\"#DejaVuSans-111\"/>\r\n       <use x=\"1275.289062\" xlink:href=\"#DejaVuSans-110\"/>\r\n       <use x=\"1338.667969\" xlink:href=\"#DejaVuSans-115\"/>\r\n       <use x=\"1390.767578\" xlink:href=\"#DejaVuSans-41\"/>\r\n      </g>\r\n     </g>\r\n    </g>\r\n   </g>\r\n   <g id=\"text_7\">\r\n    <!-- 1.00 -->\r\n    <g style=\"fill:#ffffff;\" transform=\"translate(131.785313 122.478594)scale(0.1 -0.1)\">\r\n     <defs>\r\n      <path d=\"M 10.6875 12.40625 \r\nL 21 12.40625 \r\nL 21 0 \r\nL 10.6875 0 \r\nz\r\n\" id=\"DejaVuSans-46\"/>\r\n     </defs>\r\n     <use xlink:href=\"#DejaVuSans-49\"/>\r\n     <use x=\"63.623047\" xlink:href=\"#DejaVuSans-46\"/>\r\n     <use x=\"95.410156\" xlink:href=\"#DejaVuSans-48\"/>\r\n     <use x=\"159.033203\" xlink:href=\"#DejaVuSans-48\"/>\r\n    </g>\r\n   </g>\r\n   <g id=\"text_8\">\r\n    <!-- 0.95 -->\r\n    <g style=\"fill:#262626;\" transform=\"translate(369.865313 122.478594)scale(0.1 -0.1)\">\r\n     <defs>\r\n      <path d=\"M 10.984375 1.515625 \r\nL 10.984375 10.5 \r\nQ 14.703125 8.734375 18.5 7.8125 \r\nQ 22.3125 6.890625 25.984375 6.890625 \r\nQ 35.75 6.890625 40.890625 13.453125 \r\nQ 46.046875 20.015625 46.78125 33.40625 \r\nQ 43.953125 29.203125 39.59375 26.953125 \r\nQ 35.25 24.703125 29.984375 24.703125 \r\nQ 19.046875 24.703125 12.671875 31.3125 \r\nQ 6.296875 37.9375 6.296875 49.421875 \r\nQ 6.296875 60.640625 12.9375 67.421875 \r\nQ 19.578125 74.21875 30.609375 74.21875 \r\nQ 43.265625 74.21875 49.921875 64.515625 \r\nQ 56.59375 54.828125 56.59375 36.375 \r\nQ 56.59375 19.140625 48.40625 8.859375 \r\nQ 40.234375 -1.421875 26.421875 -1.421875 \r\nQ 22.703125 -1.421875 18.890625 -0.6875 \r\nQ 15.09375 0.046875 10.984375 1.515625 \r\nz\r\nM 30.609375 32.421875 \r\nQ 37.25 32.421875 41.125 36.953125 \r\nQ 45.015625 41.5 45.015625 49.421875 \r\nQ 45.015625 57.28125 41.125 61.84375 \r\nQ 37.25 66.40625 30.609375 66.40625 \r\nQ 23.96875 66.40625 20.09375 61.84375 \r\nQ 16.21875 57.28125 16.21875 49.421875 \r\nQ 16.21875 41.5 20.09375 36.953125 \r\nQ 23.96875 32.421875 30.609375 32.421875 \r\nz\r\n\" id=\"DejaVuSans-57\"/>\r\n      <path d=\"M 10.796875 72.90625 \r\nL 49.515625 72.90625 \r\nL 49.515625 64.59375 \r\nL 19.828125 64.59375 \r\nL 19.828125 46.734375 \r\nQ 21.96875 47.46875 24.109375 47.828125 \r\nQ 26.265625 48.1875 28.421875 48.1875 \r\nQ 40.625 48.1875 47.75 41.5 \r\nQ 54.890625 34.8125 54.890625 23.390625 \r\nQ 54.890625 11.625 47.5625 5.09375 \r\nQ 40.234375 -1.421875 26.90625 -1.421875 \r\nQ 22.3125 -1.421875 17.546875 -0.640625 \r\nQ 12.796875 0.140625 7.71875 1.703125 \r\nL 7.71875 11.625 \r\nQ 12.109375 9.234375 16.796875 8.0625 \r\nQ 21.484375 6.890625 26.703125 6.890625 \r\nQ 35.15625 6.890625 40.078125 11.328125 \r\nQ 45.015625 15.765625 45.015625 23.390625 \r\nQ 45.015625 31 40.078125 35.4375 \r\nQ 35.15625 39.890625 26.703125 39.890625 \r\nQ 22.75 39.890625 18.8125 39.015625 \r\nQ 14.890625 38.140625 10.796875 36.28125 \r\nz\r\n\" id=\"DejaVuSans-53\"/>\r\n     </defs>\r\n     <use xlink:href=\"#DejaVuSans-48\"/>\r\n     <use x=\"63.623047\" xlink:href=\"#DejaVuSans-46\"/>\r\n     <use x=\"95.410156\" xlink:href=\"#DejaVuSans-57\"/>\r\n     <use x=\"159.033203\" xlink:href=\"#DejaVuSans-53\"/>\r\n    </g>\r\n   </g>\r\n   <g id=\"text_9\">\r\n    <!-- 0.93 -->\r\n    <g style=\"fill:#262626;\" transform=\"translate(607.945313 122.478594)scale(0.1 -0.1)\">\r\n     <defs>\r\n      <path d=\"M 40.578125 39.3125 \r\nQ 47.65625 37.796875 51.625 33 \r\nQ 55.609375 28.21875 55.609375 21.1875 \r\nQ 55.609375 10.40625 48.1875 4.484375 \r\nQ 40.765625 -1.421875 27.09375 -1.421875 \r\nQ 22.515625 -1.421875 17.65625 -0.515625 \r\nQ 12.796875 0.390625 7.625 2.203125 \r\nL 7.625 11.71875 \r\nQ 11.71875 9.328125 16.59375 8.109375 \r\nQ 21.484375 6.890625 26.8125 6.890625 \r\nQ 36.078125 6.890625 40.9375 10.546875 \r\nQ 45.796875 14.203125 45.796875 21.1875 \r\nQ 45.796875 27.640625 41.28125 31.265625 \r\nQ 36.765625 34.90625 28.71875 34.90625 \r\nL 20.21875 34.90625 \r\nL 20.21875 43.015625 \r\nL 29.109375 43.015625 \r\nQ 36.375 43.015625 40.234375 45.921875 \r\nQ 44.09375 48.828125 44.09375 54.296875 \r\nQ 44.09375 59.90625 40.109375 62.90625 \r\nQ 36.140625 65.921875 28.71875 65.921875 \r\nQ 24.65625 65.921875 20.015625 65.03125 \r\nQ 15.375 64.15625 9.8125 62.3125 \r\nL 9.8125 71.09375 \r\nQ 15.4375 72.65625 20.34375 73.4375 \r\nQ 25.25 74.21875 29.59375 74.21875 \r\nQ 40.828125 74.21875 47.359375 69.109375 \r\nQ 53.90625 64.015625 53.90625 55.328125 \r\nQ 53.90625 49.265625 50.4375 45.09375 \r\nQ 46.96875 40.921875 40.578125 39.3125 \r\nz\r\n\" id=\"DejaVuSans-51\"/>\r\n     </defs>\r\n     <use xlink:href=\"#DejaVuSans-48\"/>\r\n     <use x=\"63.623047\" xlink:href=\"#DejaVuSans-46\"/>\r\n     <use x=\"95.410156\" xlink:href=\"#DejaVuSans-57\"/>\r\n     <use x=\"159.033203\" xlink:href=\"#DejaVuSans-51\"/>\r\n    </g>\r\n   </g>\r\n   <g id=\"text_10\">\r\n    <!-- 0.95 -->\r\n    <g style=\"fill:#262626;\" transform=\"translate(131.785313 339.918594)scale(0.1 -0.1)\">\r\n     <use xlink:href=\"#DejaVuSans-48\"/>\r\n     <use x=\"63.623047\" xlink:href=\"#DejaVuSans-46\"/>\r\n     <use x=\"95.410156\" xlink:href=\"#DejaVuSans-57\"/>\r\n     <use x=\"159.033203\" xlink:href=\"#DejaVuSans-53\"/>\r\n    </g>\r\n   </g>\r\n   <g id=\"text_11\">\r\n    <!-- 1.00 -->\r\n    <g style=\"fill:#ffffff;\" transform=\"translate(369.865313 339.918594)scale(0.1 -0.1)\">\r\n     <use xlink:href=\"#DejaVuSans-49\"/>\r\n     <use x=\"63.623047\" xlink:href=\"#DejaVuSans-46\"/>\r\n     <use x=\"95.410156\" xlink:href=\"#DejaVuSans-48\"/>\r\n     <use x=\"159.033203\" xlink:href=\"#DejaVuSans-48\"/>\r\n    </g>\r\n   </g>\r\n   <g id=\"text_12\">\r\n    <!-- 1.00 -->\r\n    <g style=\"fill:#ffffff;\" transform=\"translate(607.945313 339.918594)scale(0.1 -0.1)\">\r\n     <use xlink:href=\"#DejaVuSans-49\"/>\r\n     <use x=\"63.623047\" xlink:href=\"#DejaVuSans-46\"/>\r\n     <use x=\"95.410156\" xlink:href=\"#DejaVuSans-48\"/>\r\n     <use x=\"159.033203\" xlink:href=\"#DejaVuSans-48\"/>\r\n    </g>\r\n   </g>\r\n   <g id=\"text_13\">\r\n    <!-- 0.93 -->\r\n    <g style=\"fill:#262626;\" transform=\"translate(131.785313 557.358594)scale(0.1 -0.1)\">\r\n     <use xlink:href=\"#DejaVuSans-48\"/>\r\n     <use x=\"63.623047\" xlink:href=\"#DejaVuSans-46\"/>\r\n     <use x=\"95.410156\" xlink:href=\"#DejaVuSans-57\"/>\r\n     <use x=\"159.033203\" xlink:href=\"#DejaVuSans-51\"/>\r\n    </g>\r\n   </g>\r\n   <g id=\"text_14\">\r\n    <!-- 1.00 -->\r\n    <g style=\"fill:#ffffff;\" transform=\"translate(369.865313 557.358594)scale(0.1 -0.1)\">\r\n     <use xlink:href=\"#DejaVuSans-49\"/>\r\n     <use x=\"63.623047\" xlink:href=\"#DejaVuSans-46\"/>\r\n     <use x=\"95.410156\" xlink:href=\"#DejaVuSans-48\"/>\r\n     <use x=\"159.033203\" xlink:href=\"#DejaVuSans-48\"/>\r\n    </g>\r\n   </g>\r\n   <g id=\"text_15\">\r\n    <!-- 1.00 -->\r\n    <g style=\"fill:#ffffff;\" transform=\"translate(607.945313 557.358594)scale(0.1 -0.1)\">\r\n     <use xlink:href=\"#DejaVuSans-49\"/>\r\n     <use x=\"63.623047\" xlink:href=\"#DejaVuSans-46\"/>\r\n     <use x=\"95.410156\" xlink:href=\"#DejaVuSans-48\"/>\r\n     <use x=\"159.033203\" xlink:href=\"#DejaVuSans-48\"/>\r\n    </g>\r\n   </g>\r\n  </g>\r\n  <g id=\"axes_2\">\r\n   <g id=\"patch_3\">\r\n    <path clip-path=\"url(#p989ffdc1f2)\" d=\"M 782.758125 663.319219 \r\nL 782.758125 660.771094 \r\nL 782.758125 13.547344 \r\nL 782.758125 10.999219 \r\nL 815.374125 10.999219 \r\nL 815.374125 13.547344 \r\nL 815.374125 660.771094 \r\nL 815.374125 663.319219 \r\nz\r\n\" style=\"fill:#ffffff;stroke:#ffffff;stroke-linejoin:miter;stroke-width:0.01;\"/>\r\n   </g>\r\n   <image height=\"652\" id=\"image0df0eb5210\" transform=\"scale(1 -1)translate(0 -652)\" width=\"32\" x=\"783\" xlink:href=\"data:image/png;base64,\r\niVBORw0KGgoAAAANSUhEUgAAACAAAAKMCAYAAACKO7pIAAADI0lEQVR4nO3cgY0jMQwEQe2D+ef3wXh5YfQCKiVwjeFwSMk+P7v/94TnX/nHzzln9qQCfECBc94UIFcgB5hdJrxcgRxAEkrCHEAS5gBywDDKAWZvj2ImzAEMIybMASQhE+YAktBWnAO4nucAusAwygEMI0mYA0hCCuQAhtHsSsL2MGEOIIqZMAcQxdowB5ADE1+OewVygGlz8AsKxB7sFcgB5AAT5gCz+6QAuQI5gC6Y9/YkzAGY0DjOAZiQCXMAd0MmzAEkoYtJDsCEOYCbERPmAEpgI8oBmNAsyAGYUBLmAEzobpgDeCXLAUSxJMwBmFAS5gBuRhTIAea9fSmdHxPGRw7kAPYBSZgDiGJJmAMoAQVygPndPoyYMAdQAltxDiAJcwA5QIEcQAncjnMAb0TaMAeYXwzQK8CENYAkZMIcwEaUA+gCCuQAhpGdMAeQAxTIASShj2xyADmQA/hfMybMAUQxE+YANiJtmAPIAQrkAJJQEuYAciAHkANMmAOIYibMASShNswB5IDH6hyACSVhDsCEOYCNSA7kAHJAG+YATEiBHMDvlFIgB1CCHGA2rsEXFGgBcgVygNn4avQBBZgwPpZSJswBlIACOcBsHIUfUIAJ46MEOYCNiAlzACWgQA7ggcI7YQ4gByiQA9gJmTAHMI5zAF1AgRzAUsqEOYASzGscx2fO9SY8t39olQPMuX0c5wDz3N4FkjAHEMUUyAEMoznW8vjMw4SSMD5KYBbkAIZRDqALJGEO4IHCA0UOIAfMghyACe2EOYAHCm2YAxhGOYAolgM5gBxgwhxgntuv50yYAyiBV7IcwDjWhjmAHMgB5IAPrXIAOaANcwCvZEyYAyiBWZADuBnlAHJADuQAcsA3KHIAOaANcwAmtJDkAHJAG+YAciAHkANyIAdwM/J5QQ5gGFEgB5ADTJgDzMa/mv0BBeI+zBXIAfxicw4gB+bcrkAOIIq1YQ6gBNowB2BCO2EOwIQ5gChmwhxACebc3oY5ABNSIAdQgtn4KxS5AjkAE1IgB1CCHMDdkAlzACVwN8wBvBVrwxxACSwkOQAT5gB/FXbmofqApBgAAAAASUVORK5CYII=\" y=\"-10\"/>\r\n   <g id=\"matplotlib.axis_3\"/>\r\n   <g id=\"matplotlib.axis_4\">\r\n    <g id=\"ytick_4\">\r\n     <g id=\"line2d_7\">\r\n      <defs>\r\n       <path d=\"M 0 0 \r\nL 3.5 0 \r\n\" id=\"mf7f9fd3c3b\" style=\"stroke:#000000;stroke-width:0.8;\"/>\r\n      </defs>\r\n      <g>\r\n       <use style=\"stroke:#000000;stroke-width:0.8;\" x=\"815.374125\" xlink:href=\"#mf7f9fd3c3b\" y=\"613.082245\"/>\r\n      </g>\r\n     </g>\r\n     <g id=\"text_16\">\r\n      <!-- 0.94 -->\r\n      <g transform=\"translate(822.374125 616.881464)scale(0.1 -0.1)\">\r\n       <defs>\r\n        <path d=\"M 37.796875 64.3125 \r\nL 12.890625 25.390625 \r\nL 37.796875 25.390625 \r\nz\r\nM 35.203125 72.90625 \r\nL 47.609375 72.90625 \r\nL 47.609375 25.390625 \r\nL 58.015625 25.390625 \r\nL 58.015625 17.1875 \r\nL 47.609375 17.1875 \r\nL 47.609375 0 \r\nL 37.796875 0 \r\nL 37.796875 17.1875 \r\nL 4.890625 17.1875 \r\nL 4.890625 26.703125 \r\nz\r\n\" id=\"DejaVuSans-52\"/>\r\n       </defs>\r\n       <use xlink:href=\"#DejaVuSans-48\"/>\r\n       <use x=\"63.623047\" xlink:href=\"#DejaVuSans-46\"/>\r\n       <use x=\"95.410156\" xlink:href=\"#DejaVuSans-57\"/>\r\n       <use x=\"159.033203\" xlink:href=\"#DejaVuSans-52\"/>\r\n      </g>\r\n     </g>\r\n    </g>\r\n    <g id=\"ytick_5\">\r\n     <g id=\"line2d_8\">\r\n      <g>\r\n       <use style=\"stroke:#000000;stroke-width:0.8;\" x=\"815.374125\" xlink:href=\"#mf7f9fd3c3b\" y=\"512.735074\"/>\r\n      </g>\r\n     </g>\r\n     <g id=\"text_17\">\r\n      <!-- 0.95 -->\r\n      <g transform=\"translate(822.374125 516.534293)scale(0.1 -0.1)\">\r\n       <use xlink:href=\"#DejaVuSans-48\"/>\r\n       <use x=\"63.623047\" xlink:href=\"#DejaVuSans-46\"/>\r\n       <use x=\"95.410156\" xlink:href=\"#DejaVuSans-57\"/>\r\n       <use x=\"159.033203\" xlink:href=\"#DejaVuSans-53\"/>\r\n      </g>\r\n     </g>\r\n    </g>\r\n    <g id=\"ytick_6\">\r\n     <g id=\"line2d_9\">\r\n      <g>\r\n       <use style=\"stroke:#000000;stroke-width:0.8;\" x=\"815.374125\" xlink:href=\"#mf7f9fd3c3b\" y=\"412.387903\"/>\r\n      </g>\r\n     </g>\r\n     <g id=\"text_18\">\r\n      <!-- 0.96 -->\r\n      <g transform=\"translate(822.374125 416.187122)scale(0.1 -0.1)\">\r\n       <defs>\r\n        <path d=\"M 33.015625 40.375 \r\nQ 26.375 40.375 22.484375 35.828125 \r\nQ 18.609375 31.296875 18.609375 23.390625 \r\nQ 18.609375 15.53125 22.484375 10.953125 \r\nQ 26.375 6.390625 33.015625 6.390625 \r\nQ 39.65625 6.390625 43.53125 10.953125 \r\nQ 47.40625 15.53125 47.40625 23.390625 \r\nQ 47.40625 31.296875 43.53125 35.828125 \r\nQ 39.65625 40.375 33.015625 40.375 \r\nz\r\nM 52.59375 71.296875 \r\nL 52.59375 62.3125 \r\nQ 48.875 64.0625 45.09375 64.984375 \r\nQ 41.3125 65.921875 37.59375 65.921875 \r\nQ 27.828125 65.921875 22.671875 59.328125 \r\nQ 17.53125 52.734375 16.796875 39.40625 \r\nQ 19.671875 43.65625 24.015625 45.921875 \r\nQ 28.375 48.1875 33.59375 48.1875 \r\nQ 44.578125 48.1875 50.953125 41.515625 \r\nQ 57.328125 34.859375 57.328125 23.390625 \r\nQ 57.328125 12.15625 50.6875 5.359375 \r\nQ 44.046875 -1.421875 33.015625 -1.421875 \r\nQ 20.359375 -1.421875 13.671875 8.265625 \r\nQ 6.984375 17.96875 6.984375 36.375 \r\nQ 6.984375 53.65625 15.1875 63.9375 \r\nQ 23.390625 74.21875 37.203125 74.21875 \r\nQ 40.921875 74.21875 44.703125 73.484375 \r\nQ 48.484375 72.75 52.59375 71.296875 \r\nz\r\n\" id=\"DejaVuSans-54\"/>\r\n       </defs>\r\n       <use xlink:href=\"#DejaVuSans-48\"/>\r\n       <use x=\"63.623047\" xlink:href=\"#DejaVuSans-46\"/>\r\n       <use x=\"95.410156\" xlink:href=\"#DejaVuSans-57\"/>\r\n       <use x=\"159.033203\" xlink:href=\"#DejaVuSans-54\"/>\r\n      </g>\r\n     </g>\r\n    </g>\r\n    <g id=\"ytick_7\">\r\n     <g id=\"line2d_10\">\r\n      <g>\r\n       <use style=\"stroke:#000000;stroke-width:0.8;\" x=\"815.374125\" xlink:href=\"#mf7f9fd3c3b\" y=\"312.040732\"/>\r\n      </g>\r\n     </g>\r\n     <g id=\"text_19\">\r\n      <!-- 0.97 -->\r\n      <g transform=\"translate(822.374125 315.839951)scale(0.1 -0.1)\">\r\n       <defs>\r\n        <path d=\"M 8.203125 72.90625 \r\nL 55.078125 72.90625 \r\nL 55.078125 68.703125 \r\nL 28.609375 0 \r\nL 18.3125 0 \r\nL 43.21875 64.59375 \r\nL 8.203125 64.59375 \r\nz\r\n\" id=\"DejaVuSans-55\"/>\r\n       </defs>\r\n       <use xlink:href=\"#DejaVuSans-48\"/>\r\n       <use x=\"63.623047\" xlink:href=\"#DejaVuSans-46\"/>\r\n       <use x=\"95.410156\" xlink:href=\"#DejaVuSans-57\"/>\r\n       <use x=\"159.033203\" xlink:href=\"#DejaVuSans-55\"/>\r\n      </g>\r\n     </g>\r\n    </g>\r\n    <g id=\"ytick_8\">\r\n     <g id=\"line2d_11\">\r\n      <g>\r\n       <use style=\"stroke:#000000;stroke-width:0.8;\" x=\"815.374125\" xlink:href=\"#mf7f9fd3c3b\" y=\"211.693561\"/>\r\n      </g>\r\n     </g>\r\n     <g id=\"text_20\">\r\n      <!-- 0.98 -->\r\n      <g transform=\"translate(822.374125 215.49278)scale(0.1 -0.1)\">\r\n       <defs>\r\n        <path d=\"M 31.78125 34.625 \r\nQ 24.75 34.625 20.71875 30.859375 \r\nQ 16.703125 27.09375 16.703125 20.515625 \r\nQ 16.703125 13.921875 20.71875 10.15625 \r\nQ 24.75 6.390625 31.78125 6.390625 \r\nQ 38.8125 6.390625 42.859375 10.171875 \r\nQ 46.921875 13.96875 46.921875 20.515625 \r\nQ 46.921875 27.09375 42.890625 30.859375 \r\nQ 38.875 34.625 31.78125 34.625 \r\nz\r\nM 21.921875 38.8125 \r\nQ 15.578125 40.375 12.03125 44.71875 \r\nQ 8.5 49.078125 8.5 55.328125 \r\nQ 8.5 64.0625 14.71875 69.140625 \r\nQ 20.953125 74.21875 31.78125 74.21875 \r\nQ 42.671875 74.21875 48.875 69.140625 \r\nQ 55.078125 64.0625 55.078125 55.328125 \r\nQ 55.078125 49.078125 51.53125 44.71875 \r\nQ 48 40.375 41.703125 38.8125 \r\nQ 48.828125 37.15625 52.796875 32.3125 \r\nQ 56.78125 27.484375 56.78125 20.515625 \r\nQ 56.78125 9.90625 50.3125 4.234375 \r\nQ 43.84375 -1.421875 31.78125 -1.421875 \r\nQ 19.734375 -1.421875 13.25 4.234375 \r\nQ 6.78125 9.90625 6.78125 20.515625 \r\nQ 6.78125 27.484375 10.78125 32.3125 \r\nQ 14.796875 37.15625 21.921875 38.8125 \r\nz\r\nM 18.3125 54.390625 \r\nQ 18.3125 48.734375 21.84375 45.5625 \r\nQ 25.390625 42.390625 31.78125 42.390625 \r\nQ 38.140625 42.390625 41.71875 45.5625 \r\nQ 45.3125 48.734375 45.3125 54.390625 \r\nQ 45.3125 60.0625 41.71875 63.234375 \r\nQ 38.140625 66.40625 31.78125 66.40625 \r\nQ 25.390625 66.40625 21.84375 63.234375 \r\nQ 18.3125 60.0625 18.3125 54.390625 \r\nz\r\n\" id=\"DejaVuSans-56\"/>\r\n       </defs>\r\n       <use xlink:href=\"#DejaVuSans-48\"/>\r\n       <use x=\"63.623047\" xlink:href=\"#DejaVuSans-46\"/>\r\n       <use x=\"95.410156\" xlink:href=\"#DejaVuSans-57\"/>\r\n       <use x=\"159.033203\" xlink:href=\"#DejaVuSans-56\"/>\r\n      </g>\r\n     </g>\r\n    </g>\r\n    <g id=\"ytick_9\">\r\n     <g id=\"line2d_12\">\r\n      <g>\r\n       <use style=\"stroke:#000000;stroke-width:0.8;\" x=\"815.374125\" xlink:href=\"#mf7f9fd3c3b\" y=\"111.34639\"/>\r\n      </g>\r\n     </g>\r\n     <g id=\"text_21\">\r\n      <!-- 0.99 -->\r\n      <g transform=\"translate(822.374125 115.145609)scale(0.1 -0.1)\">\r\n       <use xlink:href=\"#DejaVuSans-48\"/>\r\n       <use x=\"63.623047\" xlink:href=\"#DejaVuSans-46\"/>\r\n       <use x=\"95.410156\" xlink:href=\"#DejaVuSans-57\"/>\r\n       <use x=\"159.033203\" xlink:href=\"#DejaVuSans-57\"/>\r\n      </g>\r\n     </g>\r\n    </g>\r\n    <g id=\"ytick_10\">\r\n     <g id=\"line2d_13\">\r\n      <g>\r\n       <use style=\"stroke:#000000;stroke-width:0.8;\" x=\"815.374125\" xlink:href=\"#mf7f9fd3c3b\" y=\"10.999219\"/>\r\n      </g>\r\n     </g>\r\n     <g id=\"text_22\">\r\n      <!-- 1.00 -->\r\n      <g transform=\"translate(822.374125 14.798438)scale(0.1 -0.1)\">\r\n       <use xlink:href=\"#DejaVuSans-49\"/>\r\n       <use x=\"63.623047\" xlink:href=\"#DejaVuSans-46\"/>\r\n       <use x=\"95.410156\" xlink:href=\"#DejaVuSans-48\"/>\r\n       <use x=\"159.033203\" xlink:href=\"#DejaVuSans-48\"/>\r\n      </g>\r\n     </g>\r\n    </g>\r\n   </g>\r\n   <g id=\"patch_4\">\r\n    <path d=\"M 782.758125 663.319219 \r\nL 782.758125 660.771094 \r\nL 782.758125 13.547344 \r\nL 782.758125 10.999219 \r\nL 815.374125 10.999219 \r\nL 815.374125 13.547344 \r\nL 815.374125 660.771094 \r\nL 815.374125 663.319219 \r\nz\r\n\" style=\"fill:none;\"/>\r\n   </g>\r\n  </g>\r\n </g>\r\n <defs>\r\n  <clipPath id=\"p365f5e2224\">\r\n   <rect height=\"652.32\" width=\"714.24\" x=\"23.878125\" y=\"10.999219\"/>\r\n  </clipPath>\r\n  <clipPath id=\"p989ffdc1f2\">\r\n   <rect height=\"652.32\" width=\"32.616\" x=\"782.758125\" y=\"10.999219\"/>\r\n  </clipPath>\r\n </defs>\r\n</svg>\r\n",
      "image/png": "[encoded data removed]"
     },
     "metadata": {
      "needs_background": "light"
     }
    }
   ],
   "source": [
    "\n",
    "\n",
    "plt.figure(figsize=(16, 12))\n",
    "sns.heatmap(df_metro_b_corr.corr(), cmap='YlGnBu'\n",
    ", annot=True, fmt='.2f');\n"
   ]
  },
  {
   "cell_type": "code",
   "execution_count": 169,
   "metadata": {},
   "outputs": [
    {
     "output_type": "display_data",
     "data": {
      "text/plain": "<Figure size 648x648 with 12 Axes>",
      "image/svg+xml": "<?xml version=\"1.0\" encoding=\"utf-8\" standalone=\"no\"?>\r\n<!DOCTYPE svg PUBLIC \"-//W3C//DTD SVG 1.1//EN\"\r\n  \"http://www.w3.org/Graphics/SVG/1.1/DTD/svg11.dtd\">\r\n<!-- Created with matplotlib (https://matplotlib.org/) -->\r\n<svg height=\"634.406094pt\" version=\"1.1\" viewBox=\"0 0 648.278438 634.406094\" width=\"648.278438pt\" xmlns=\"http://www.w3.org/2000/svg\" xmlns:xlink=\"http://www.w3.org/1999/xlink\">\r\n <metadata>\r\n  <rdf:RDF xmlns:cc=\"http://creativecommons.org/ns#\" xmlns:dc=\"http://purl.org/dc/elements/1.1/\" xmlns:rdf=\"http://www.w3.org/1999/02/22-rdf-syntax-ns#\">\r\n   <cc:Work>\r\n    <dc:type rdf:resource=\"http://purl.org/dc/dcmitype/StillImage\"/>\r\n    <dc:date>2021-06-25T14:50:34.609556</dc:date>\r\n    <dc:format>image/svg+xml</dc:format>\r\n    <dc:creator>\r\n     <cc:Agent>\r\n      <dc:title>Matplotlib v3.3.2, https://matplotlib.org/</dc:title>\r\n     </cc:Agent>\r\n    </dc:creator>\r\n   </cc:Work>\r\n  </rdf:RDF>\r\n </metadata>\r\n <defs>\r\n  <style type=\"text/css\">*{stroke-linecap:butt;stroke-linejoin:round;}</style>\r\n </defs>\r\n <g id=\"figure_1\">\r\n  <g id=\"patch_1\">\r\n   <path d=\"M 0 634.406094 \r\nL 648.278438 634.406094 \r\nL 648.278438 0 \r\nL 0 0 \r\nz\r\n\" style=\"fill:#ffffff;\"/>\r\n  </g>\r\n  <g id=\"axes_1\">\r\n   <g id=\"patch_2\">\r\n    <path d=\"M 68.663438 191.38 \r\nL 241.135104 191.38 \r\nL 241.135104 7.2 \r\nL 68.663438 7.2 \r\nz\r\n\" style=\"fill:#eaeaf2;\"/>\r\n   </g>\r\n   <g id=\"matplotlib.axis_1\">\r\n    <g id=\"xtick_1\">\r\n     <g id=\"line2d_1\">\r\n      <path clip-path=\"url(#p96228d9a27)\" d=\"M 76.503059 191.38 \r\nL 76.503059 7.2 \r\n\" style=\"fill:none;stroke:#ffffff;stroke-linecap:round;\"/>\r\n     </g>\r\n    </g>\r\n    <g id=\"xtick_2\">\r\n     <g id=\"line2d_2\">\r\n      <path clip-path=\"url(#p96228d9a27)\" d=\"M 125.482324 191.38 \r\nL 125.482324 7.2 \r\n\" style=\"fill:none;stroke:#ffffff;stroke-linecap:round;\"/>\r\n     </g>\r\n    </g>\r\n    <g id=\"xtick_3\">\r\n     <g id=\"line2d_3\">\r\n      <path clip-path=\"url(#p96228d9a27)\" d=\"M 174.461589 191.38 \r\nL 174.461589 7.2 \r\n\" style=\"fill:none;stroke:#ffffff;stroke-linecap:round;\"/>\r\n     </g>\r\n    </g>\r\n    <g id=\"xtick_4\">\r\n     <g id=\"line2d_4\">\r\n      <path clip-path=\"url(#p96228d9a27)\" d=\"M 223.440855 191.38 \r\nL 223.440855 7.2 \r\n\" style=\"fill:none;stroke:#ffffff;stroke-linecap:round;\"/>\r\n     </g>\r\n    </g>\r\n   </g>\r\n   <g id=\"matplotlib.axis_2\">\r\n    <g id=\"ytick_1\">\r\n     <g id=\"line2d_5\">\r\n      <path clip-path=\"url(#p96228d9a27)\" d=\"M 68.663438 183.008182 \r\nL 241.135104 183.008182 \r\n\" style=\"fill:none;stroke:#ffffff;stroke-linecap:round;\"/>\r\n     </g>\r\n     <g id=\"text_1\">\r\n      <!-- 0 -->\r\n      <g style=\"fill:#262626;\" transform=\"translate(53.046406 186.944979)scale(0.11 -0.11)\">\r\n       <defs>\r\n        <path d=\"M 4.15625 35.296875 \r\nQ 4.15625 48 6.765625 55.734375 \r\nQ 9.375 63.484375 14.515625 67.671875 \r\nQ 19.671875 71.875 27.484375 71.875 \r\nQ 33.25 71.875 37.59375 69.546875 \r\nQ 41.9375 67.234375 44.765625 62.859375 \r\nQ 47.609375 58.5 49.21875 52.21875 \r\nQ 50.828125 45.953125 50.828125 35.296875 \r\nQ 50.828125 22.703125 48.234375 14.96875 \r\nQ 45.65625 7.234375 40.5 3 \r\nQ 35.359375 -1.21875 27.484375 -1.21875 \r\nQ 17.140625 -1.21875 11.234375 6.203125 \r\nQ 4.15625 15.140625 4.15625 35.296875 \r\nz\r\nM 13.1875 35.296875 \r\nQ 13.1875 17.671875 17.3125 11.828125 \r\nQ 21.4375 6 27.484375 6 \r\nQ 33.546875 6 37.671875 11.859375 \r\nQ 41.796875 17.71875 41.796875 35.296875 \r\nQ 41.796875 52.984375 37.671875 58.78125 \r\nQ 33.546875 64.59375 27.390625 64.59375 \r\nQ 21.34375 64.59375 17.71875 59.46875 \r\nQ 13.1875 52.9375 13.1875 35.296875 \r\nz\r\n\" id=\"ArialMT-48\"/>\r\n       </defs>\r\n       <use xlink:href=\"#ArialMT-48\"/>\r\n      </g>\r\n     </g>\r\n    </g>\r\n    <g id=\"ytick_2\">\r\n     <g id=\"line2d_6\">\r\n      <path clip-path=\"url(#p96228d9a27)\" d=\"M 68.663438 156.856057 \r\nL 241.135104 156.856057 \r\n\" style=\"fill:none;stroke:#ffffff;stroke-linecap:round;\"/>\r\n     </g>\r\n     <g id=\"text_2\">\r\n      <!-- 2500 -->\r\n      <g style=\"fill:#262626;\" transform=\"translate(34.695312 160.792854)scale(0.11 -0.11)\">\r\n       <defs>\r\n        <path d=\"M 50.34375 8.453125 \r\nL 50.34375 0 \r\nL 3.03125 0 \r\nQ 2.9375 3.171875 4.046875 6.109375 \r\nQ 5.859375 10.9375 9.828125 15.625 \r\nQ 13.8125 20.3125 21.34375 26.46875 \r\nQ 33.015625 36.03125 37.109375 41.625 \r\nQ 41.21875 47.21875 41.21875 52.203125 \r\nQ 41.21875 57.421875 37.46875 61 \r\nQ 33.734375 64.59375 27.734375 64.59375 \r\nQ 21.390625 64.59375 17.578125 60.78125 \r\nQ 13.765625 56.984375 13.71875 50.25 \r\nL 4.6875 51.171875 \r\nQ 5.609375 61.28125 11.65625 66.578125 \r\nQ 17.71875 71.875 27.9375 71.875 \r\nQ 38.234375 71.875 44.234375 66.15625 \r\nQ 50.25 60.453125 50.25 52 \r\nQ 50.25 47.703125 48.484375 43.546875 \r\nQ 46.734375 39.40625 42.65625 34.8125 \r\nQ 38.578125 30.21875 29.109375 22.21875 \r\nQ 21.1875 15.578125 18.9375 13.203125 \r\nQ 16.703125 10.84375 15.234375 8.453125 \r\nz\r\n\" id=\"ArialMT-50\"/>\r\n        <path d=\"M 4.15625 18.75 \r\nL 13.375 19.53125 \r\nQ 14.40625 12.796875 18.140625 9.390625 \r\nQ 21.875 6 27.15625 6 \r\nQ 33.5 6 37.890625 10.78125 \r\nQ 42.28125 15.578125 42.28125 23.484375 \r\nQ 42.28125 31 38.0625 35.34375 \r\nQ 33.84375 39.703125 27 39.703125 \r\nQ 22.75 39.703125 19.328125 37.765625 \r\nQ 15.921875 35.84375 13.96875 32.765625 \r\nL 5.71875 33.84375 \r\nL 12.640625 70.609375 \r\nL 48.25 70.609375 \r\nL 48.25 62.203125 \r\nL 19.671875 62.203125 \r\nL 15.828125 42.96875 \r\nQ 22.265625 47.46875 29.34375 47.46875 \r\nQ 38.71875 47.46875 45.15625 40.96875 \r\nQ 51.609375 34.46875 51.609375 24.265625 \r\nQ 51.609375 14.546875 45.953125 7.46875 \r\nQ 39.0625 -1.21875 27.15625 -1.21875 \r\nQ 17.390625 -1.21875 11.203125 4.25 \r\nQ 5.03125 9.71875 4.15625 18.75 \r\nz\r\n\" id=\"ArialMT-53\"/>\r\n       </defs>\r\n       <use xlink:href=\"#ArialMT-50\"/>\r\n       <use x=\"55.615234\" xlink:href=\"#ArialMT-53\"/>\r\n       <use x=\"111.230469\" xlink:href=\"#ArialMT-48\"/>\r\n       <use x=\"166.845703\" xlink:href=\"#ArialMT-48\"/>\r\n      </g>\r\n     </g>\r\n    </g>\r\n    <g id=\"ytick_3\">\r\n     <g id=\"line2d_7\">\r\n      <path clip-path=\"url(#p96228d9a27)\" d=\"M 68.663438 130.703932 \r\nL 241.135104 130.703932 \r\n\" style=\"fill:none;stroke:#ffffff;stroke-linecap:round;\"/>\r\n     </g>\r\n     <g id=\"text_3\">\r\n      <!-- 5000 -->\r\n      <g style=\"fill:#262626;\" transform=\"translate(34.695312 134.640729)scale(0.11 -0.11)\">\r\n       <use xlink:href=\"#ArialMT-53\"/>\r\n       <use x=\"55.615234\" xlink:href=\"#ArialMT-48\"/>\r\n       <use x=\"111.230469\" xlink:href=\"#ArialMT-48\"/>\r\n       <use x=\"166.845703\" xlink:href=\"#ArialMT-48\"/>\r\n      </g>\r\n     </g>\r\n    </g>\r\n    <g id=\"ytick_4\">\r\n     <g id=\"line2d_8\">\r\n      <path clip-path=\"url(#p96228d9a27)\" d=\"M 68.663438 104.551808 \r\nL 241.135104 104.551808 \r\n\" style=\"fill:none;stroke:#ffffff;stroke-linecap:round;\"/>\r\n     </g>\r\n     <g id=\"text_4\">\r\n      <!-- 7500 -->\r\n      <g style=\"fill:#262626;\" transform=\"translate(34.695312 108.488604)scale(0.11 -0.11)\">\r\n       <defs>\r\n        <path d=\"M 4.734375 62.203125 \r\nL 4.734375 70.65625 \r\nL 51.078125 70.65625 \r\nL 51.078125 63.8125 \r\nQ 44.234375 56.546875 37.515625 44.484375 \r\nQ 30.8125 32.421875 27.15625 19.671875 \r\nQ 24.515625 10.6875 23.78125 0 \r\nL 14.75 0 \r\nQ 14.890625 8.453125 18.0625 20.40625 \r\nQ 21.234375 32.375 27.171875 43.484375 \r\nQ 33.109375 54.59375 39.796875 62.203125 \r\nz\r\n\" id=\"ArialMT-55\"/>\r\n       </defs>\r\n       <use xlink:href=\"#ArialMT-55\"/>\r\n       <use x=\"55.615234\" xlink:href=\"#ArialMT-53\"/>\r\n       <use x=\"111.230469\" xlink:href=\"#ArialMT-48\"/>\r\n       <use x=\"166.845703\" xlink:href=\"#ArialMT-48\"/>\r\n      </g>\r\n     </g>\r\n    </g>\r\n    <g id=\"ytick_5\">\r\n     <g id=\"line2d_9\">\r\n      <path clip-path=\"url(#p96228d9a27)\" d=\"M 68.663438 78.399683 \r\nL 241.135104 78.399683 \r\n\" style=\"fill:none;stroke:#ffffff;stroke-linecap:round;\"/>\r\n     </g>\r\n     <g id=\"text_5\">\r\n      <!-- 10000 -->\r\n      <g style=\"fill:#262626;\" transform=\"translate(28.578281 82.33648)scale(0.11 -0.11)\">\r\n       <defs>\r\n        <path d=\"M 37.25 0 \r\nL 28.46875 0 \r\nL 28.46875 56 \r\nQ 25.296875 52.984375 20.140625 49.953125 \r\nQ 14.984375 46.921875 10.890625 45.40625 \r\nL 10.890625 53.90625 \r\nQ 18.265625 57.375 23.78125 62.296875 \r\nQ 29.296875 67.234375 31.59375 71.875 \r\nL 37.25 71.875 \r\nz\r\n\" id=\"ArialMT-49\"/>\r\n       </defs>\r\n       <use xlink:href=\"#ArialMT-49\"/>\r\n       <use x=\"55.615234\" xlink:href=\"#ArialMT-48\"/>\r\n       <use x=\"111.230469\" xlink:href=\"#ArialMT-48\"/>\r\n       <use x=\"166.845703\" xlink:href=\"#ArialMT-48\"/>\r\n       <use x=\"222.460938\" xlink:href=\"#ArialMT-48\"/>\r\n      </g>\r\n     </g>\r\n    </g>\r\n    <g id=\"ytick_6\">\r\n     <g id=\"line2d_10\">\r\n      <path clip-path=\"url(#p96228d9a27)\" d=\"M 68.663438 52.247558 \r\nL 241.135104 52.247558 \r\n\" style=\"fill:none;stroke:#ffffff;stroke-linecap:round;\"/>\r\n     </g>\r\n     <g id=\"text_6\">\r\n      <!-- 12500 -->\r\n      <g style=\"fill:#262626;\" transform=\"translate(28.578281 56.184355)scale(0.11 -0.11)\">\r\n       <use xlink:href=\"#ArialMT-49\"/>\r\n       <use x=\"55.615234\" xlink:href=\"#ArialMT-50\"/>\r\n       <use x=\"111.230469\" xlink:href=\"#ArialMT-53\"/>\r\n       <use x=\"166.845703\" xlink:href=\"#ArialMT-48\"/>\r\n       <use x=\"222.460938\" xlink:href=\"#ArialMT-48\"/>\r\n      </g>\r\n     </g>\r\n    </g>\r\n    <g id=\"ytick_7\">\r\n     <g id=\"line2d_11\">\r\n      <path clip-path=\"url(#p96228d9a27)\" d=\"M 68.663438 26.095433 \r\nL 241.135104 26.095433 \r\n\" style=\"fill:none;stroke:#ffffff;stroke-linecap:round;\"/>\r\n     </g>\r\n     <g id=\"text_7\">\r\n      <!-- 15000 -->\r\n      <g style=\"fill:#262626;\" transform=\"translate(28.578281 30.03223)scale(0.11 -0.11)\">\r\n       <use xlink:href=\"#ArialMT-49\"/>\r\n       <use x=\"55.615234\" xlink:href=\"#ArialMT-53\"/>\r\n       <use x=\"111.230469\" xlink:href=\"#ArialMT-48\"/>\r\n       <use x=\"166.845703\" xlink:href=\"#ArialMT-48\"/>\r\n       <use x=\"222.460938\" xlink:href=\"#ArialMT-48\"/>\r\n      </g>\r\n     </g>\r\n    </g>\r\n    <g id=\"text_8\">\r\n     <!-- Number of employer firms -->\r\n     <g style=\"fill:#262626;\" transform=\"translate(22.052656 168.303125)rotate(-90)scale(0.12 -0.12)\">\r\n      <defs>\r\n       <path d=\"M 7.625 0 \r\nL 7.625 71.578125 \r\nL 17.328125 71.578125 \r\nL 54.9375 15.375 \r\nL 54.9375 71.578125 \r\nL 64.015625 71.578125 \r\nL 64.015625 0 \r\nL 54.296875 0 \r\nL 16.703125 56.25 \r\nL 16.703125 0 \r\nz\r\n\" id=\"ArialMT-78\"/>\r\n       <path d=\"M 40.578125 0 \r\nL 40.578125 7.625 \r\nQ 34.515625 -1.171875 24.125 -1.171875 \r\nQ 19.53125 -1.171875 15.546875 0.578125 \r\nQ 11.578125 2.34375 9.640625 5 \r\nQ 7.71875 7.671875 6.9375 11.53125 \r\nQ 6.390625 14.109375 6.390625 19.734375 \r\nL 6.390625 51.859375 \r\nL 15.1875 51.859375 \r\nL 15.1875 23.09375 \r\nQ 15.1875 16.21875 15.71875 13.8125 \r\nQ 16.546875 10.359375 19.234375 8.375 \r\nQ 21.921875 6.390625 25.875 6.390625 \r\nQ 29.828125 6.390625 33.296875 8.421875 \r\nQ 36.765625 10.453125 38.203125 13.9375 \r\nQ 39.65625 17.4375 39.65625 24.078125 \r\nL 39.65625 51.859375 \r\nL 48.4375 51.859375 \r\nL 48.4375 0 \r\nz\r\n\" id=\"ArialMT-117\"/>\r\n       <path d=\"M 6.59375 0 \r\nL 6.59375 51.859375 \r\nL 14.453125 51.859375 \r\nL 14.453125 44.578125 \r\nQ 16.890625 48.390625 20.9375 50.703125 \r\nQ 25 53.03125 30.171875 53.03125 \r\nQ 35.9375 53.03125 39.625 50.640625 \r\nQ 43.3125 48.25 44.828125 43.953125 \r\nQ 50.984375 53.03125 60.84375 53.03125 \r\nQ 68.5625 53.03125 72.703125 48.75 \r\nQ 76.859375 44.484375 76.859375 35.59375 \r\nL 76.859375 0 \r\nL 68.109375 0 \r\nL 68.109375 32.671875 \r\nQ 68.109375 37.9375 67.25 40.25 \r\nQ 66.40625 42.578125 64.15625 43.984375 \r\nQ 61.921875 45.40625 58.890625 45.40625 \r\nQ 53.421875 45.40625 49.796875 41.765625 \r\nQ 46.1875 38.140625 46.1875 30.125 \r\nL 46.1875 0 \r\nL 37.40625 0 \r\nL 37.40625 33.6875 \r\nQ 37.40625 39.546875 35.25 42.46875 \r\nQ 33.109375 45.40625 28.21875 45.40625 \r\nQ 24.515625 45.40625 21.359375 43.453125 \r\nQ 18.21875 41.5 16.796875 37.734375 \r\nQ 15.375 33.984375 15.375 26.90625 \r\nL 15.375 0 \r\nz\r\n\" id=\"ArialMT-109\"/>\r\n       <path d=\"M 14.703125 0 \r\nL 6.546875 0 \r\nL 6.546875 71.578125 \r\nL 15.328125 71.578125 \r\nL 15.328125 46.046875 \r\nQ 20.90625 53.03125 29.546875 53.03125 \r\nQ 34.328125 53.03125 38.59375 51.09375 \r\nQ 42.875 49.171875 45.625 45.671875 \r\nQ 48.390625 42.1875 49.953125 37.25 \r\nQ 51.515625 32.328125 51.515625 26.703125 \r\nQ 51.515625 13.375 44.921875 6.09375 \r\nQ 38.328125 -1.171875 29.109375 -1.171875 \r\nQ 19.921875 -1.171875 14.703125 6.5 \r\nz\r\nM 14.59375 26.3125 \r\nQ 14.59375 17 17.140625 12.84375 \r\nQ 21.296875 6.0625 28.375 6.0625 \r\nQ 34.125 6.0625 38.328125 11.0625 \r\nQ 42.53125 16.0625 42.53125 25.984375 \r\nQ 42.53125 36.140625 38.5 40.96875 \r\nQ 34.46875 45.796875 28.765625 45.796875 \r\nQ 23 45.796875 18.796875 40.796875 \r\nQ 14.59375 35.796875 14.59375 26.3125 \r\nz\r\n\" id=\"ArialMT-98\"/>\r\n       <path d=\"M 42.09375 16.703125 \r\nL 51.171875 15.578125 \r\nQ 49.03125 7.625 43.21875 3.21875 \r\nQ 37.40625 -1.171875 28.375 -1.171875 \r\nQ 17 -1.171875 10.328125 5.828125 \r\nQ 3.65625 12.84375 3.65625 25.484375 \r\nQ 3.65625 38.578125 10.390625 45.796875 \r\nQ 17.140625 53.03125 27.875 53.03125 \r\nQ 38.28125 53.03125 44.875 45.953125 \r\nQ 51.46875 38.875 51.46875 26.03125 \r\nQ 51.46875 25.25 51.421875 23.6875 \r\nL 12.75 23.6875 \r\nQ 13.234375 15.140625 17.578125 10.59375 \r\nQ 21.921875 6.0625 28.421875 6.0625 \r\nQ 33.25 6.0625 36.671875 8.59375 \r\nQ 40.09375 11.140625 42.09375 16.703125 \r\nz\r\nM 13.234375 30.90625 \r\nL 42.1875 30.90625 \r\nQ 41.609375 37.453125 38.875 40.71875 \r\nQ 34.671875 45.796875 27.984375 45.796875 \r\nQ 21.921875 45.796875 17.796875 41.75 \r\nQ 13.671875 37.703125 13.234375 30.90625 \r\nz\r\n\" id=\"ArialMT-101\"/>\r\n       <path d=\"M 6.5 0 \r\nL 6.5 51.859375 \r\nL 14.40625 51.859375 \r\nL 14.40625 44 \r\nQ 17.4375 49.515625 20 51.265625 \r\nQ 22.5625 53.03125 25.640625 53.03125 \r\nQ 30.078125 53.03125 34.671875 50.203125 \r\nL 31.640625 42.046875 \r\nQ 28.421875 43.953125 25.203125 43.953125 \r\nQ 22.3125 43.953125 20.015625 42.21875 \r\nQ 17.71875 40.484375 16.75 37.40625 \r\nQ 15.28125 32.71875 15.28125 27.15625 \r\nL 15.28125 0 \r\nz\r\n\" id=\"ArialMT-114\"/>\r\n       <path id=\"ArialMT-32\"/>\r\n       <path d=\"M 3.328125 25.921875 \r\nQ 3.328125 40.328125 11.328125 47.265625 \r\nQ 18.015625 53.03125 27.640625 53.03125 \r\nQ 38.328125 53.03125 45.109375 46.015625 \r\nQ 51.90625 39.015625 51.90625 26.65625 \r\nQ 51.90625 16.65625 48.90625 10.90625 \r\nQ 45.90625 5.171875 40.15625 2 \r\nQ 34.421875 -1.171875 27.640625 -1.171875 \r\nQ 16.75 -1.171875 10.03125 5.8125 \r\nQ 3.328125 12.796875 3.328125 25.921875 \r\nz\r\nM 12.359375 25.921875 \r\nQ 12.359375 15.96875 16.703125 11.015625 \r\nQ 21.046875 6.0625 27.640625 6.0625 \r\nQ 34.1875 6.0625 38.53125 11.03125 \r\nQ 42.875 16.015625 42.875 26.21875 \r\nQ 42.875 35.84375 38.5 40.796875 \r\nQ 34.125 45.75 27.640625 45.75 \r\nQ 21.046875 45.75 16.703125 40.8125 \r\nQ 12.359375 35.890625 12.359375 25.921875 \r\nz\r\n\" id=\"ArialMT-111\"/>\r\n       <path d=\"M 8.6875 0 \r\nL 8.6875 45.015625 \r\nL 0.921875 45.015625 \r\nL 0.921875 51.859375 \r\nL 8.6875 51.859375 \r\nL 8.6875 57.375 \r\nQ 8.6875 62.59375 9.625 65.140625 \r\nQ 10.890625 68.5625 14.078125 70.671875 \r\nQ 17.28125 72.796875 23.046875 72.796875 \r\nQ 26.765625 72.796875 31.25 71.921875 \r\nL 29.9375 64.265625 \r\nQ 27.203125 64.75 24.75 64.75 \r\nQ 20.75 64.75 19.09375 63.03125 \r\nQ 17.4375 61.328125 17.4375 56.640625 \r\nL 17.4375 51.859375 \r\nL 27.546875 51.859375 \r\nL 27.546875 45.015625 \r\nL 17.4375 45.015625 \r\nL 17.4375 0 \r\nz\r\n\" id=\"ArialMT-102\"/>\r\n       <path d=\"M 6.59375 -19.875 \r\nL 6.59375 51.859375 \r\nL 14.59375 51.859375 \r\nL 14.59375 45.125 \r\nQ 17.4375 49.078125 21 51.046875 \r\nQ 24.5625 53.03125 29.640625 53.03125 \r\nQ 36.28125 53.03125 41.359375 49.609375 \r\nQ 46.4375 46.1875 49.015625 39.953125 \r\nQ 51.609375 33.734375 51.609375 26.3125 \r\nQ 51.609375 18.359375 48.75 11.984375 \r\nQ 45.90625 5.609375 40.453125 2.21875 \r\nQ 35.015625 -1.171875 29 -1.171875 \r\nQ 24.609375 -1.171875 21.109375 0.6875 \r\nQ 17.625 2.546875 15.375 5.375 \r\nL 15.375 -19.875 \r\nz\r\nM 14.546875 25.640625 \r\nQ 14.546875 15.625 18.59375 10.84375 \r\nQ 22.65625 6.0625 28.421875 6.0625 \r\nQ 34.28125 6.0625 38.453125 11.015625 \r\nQ 42.625 15.96875 42.625 26.375 \r\nQ 42.625 36.28125 38.546875 41.203125 \r\nQ 34.46875 46.140625 28.8125 46.140625 \r\nQ 23.1875 46.140625 18.859375 40.890625 \r\nQ 14.546875 35.640625 14.546875 25.640625 \r\nz\r\n\" id=\"ArialMT-112\"/>\r\n       <path d=\"M 6.390625 0 \r\nL 6.390625 71.578125 \r\nL 15.1875 71.578125 \r\nL 15.1875 0 \r\nz\r\n\" id=\"ArialMT-108\"/>\r\n       <path d=\"M 6.203125 -19.96875 \r\nL 5.21875 -11.71875 \r\nQ 8.109375 -12.5 10.25 -12.5 \r\nQ 13.1875 -12.5 14.9375 -11.515625 \r\nQ 16.703125 -10.546875 17.828125 -8.796875 \r\nQ 18.65625 -7.46875 20.515625 -2.25 \r\nQ 20.75 -1.515625 21.296875 -0.09375 \r\nL 1.609375 51.859375 \r\nL 11.078125 51.859375 \r\nL 21.875 21.828125 \r\nQ 23.96875 16.109375 25.640625 9.8125 \r\nQ 27.15625 15.875 29.25 21.625 \r\nL 40.328125 51.859375 \r\nL 49.125 51.859375 \r\nL 29.390625 -0.875 \r\nQ 26.21875 -9.421875 24.46875 -12.640625 \r\nQ 22.125 -17 19.09375 -19.015625 \r\nQ 16.0625 -21.046875 11.859375 -21.046875 \r\nQ 9.328125 -21.046875 6.203125 -19.96875 \r\nz\r\n\" id=\"ArialMT-121\"/>\r\n       <path d=\"M 6.640625 61.46875 \r\nL 6.640625 71.578125 \r\nL 15.4375 71.578125 \r\nL 15.4375 61.46875 \r\nz\r\nM 6.640625 0 \r\nL 6.640625 51.859375 \r\nL 15.4375 51.859375 \r\nL 15.4375 0 \r\nz\r\n\" id=\"ArialMT-105\"/>\r\n       <path d=\"M 3.078125 15.484375 \r\nL 11.765625 16.84375 \r\nQ 12.5 11.625 15.84375 8.84375 \r\nQ 19.1875 6.0625 25.203125 6.0625 \r\nQ 31.25 6.0625 34.171875 8.515625 \r\nQ 37.109375 10.984375 37.109375 14.3125 \r\nQ 37.109375 17.28125 34.515625 19 \r\nQ 32.71875 20.171875 25.53125 21.96875 \r\nQ 15.875 24.421875 12.140625 26.203125 \r\nQ 8.40625 27.984375 6.46875 31.125 \r\nQ 4.546875 34.28125 4.546875 38.09375 \r\nQ 4.546875 41.546875 6.125 44.5 \r\nQ 7.71875 47.46875 10.453125 49.421875 \r\nQ 12.5 50.921875 16.03125 51.96875 \r\nQ 19.578125 53.03125 23.640625 53.03125 \r\nQ 29.734375 53.03125 34.34375 51.265625 \r\nQ 38.96875 49.515625 41.15625 46.5 \r\nQ 43.359375 43.5 44.1875 38.484375 \r\nL 35.59375 37.3125 \r\nQ 35.015625 41.3125 32.203125 43.546875 \r\nQ 29.390625 45.796875 24.265625 45.796875 \r\nQ 18.21875 45.796875 15.625 43.796875 \r\nQ 13.03125 41.796875 13.03125 39.109375 \r\nQ 13.03125 37.40625 14.109375 36.03125 \r\nQ 15.1875 34.625 17.484375 33.6875 \r\nQ 18.796875 33.203125 25.25 31.453125 \r\nQ 34.578125 28.953125 38.25 27.359375 \r\nQ 41.9375 25.78125 44.03125 22.75 \r\nQ 46.140625 19.734375 46.140625 15.234375 \r\nQ 46.140625 10.84375 43.578125 6.953125 \r\nQ 41.015625 3.078125 36.171875 0.953125 \r\nQ 31.34375 -1.171875 25.25 -1.171875 \r\nQ 15.140625 -1.171875 9.84375 3.03125 \r\nQ 4.546875 7.234375 3.078125 15.484375 \r\nz\r\n\" id=\"ArialMT-115\"/>\r\n      </defs>\r\n      <use xlink:href=\"#ArialMT-78\"/>\r\n      <use x=\"72.216797\" xlink:href=\"#ArialMT-117\"/>\r\n      <use x=\"127.832031\" xlink:href=\"#ArialMT-109\"/>\r\n      <use x=\"211.132812\" xlink:href=\"#ArialMT-98\"/>\r\n      <use x=\"266.748047\" xlink:href=\"#ArialMT-101\"/>\r\n      <use x=\"322.363281\" xlink:href=\"#ArialMT-114\"/>\r\n      <use x=\"355.664062\" xlink:href=\"#ArialMT-32\"/>\r\n      <use x=\"383.447266\" xlink:href=\"#ArialMT-111\"/>\r\n      <use x=\"439.0625\" xlink:href=\"#ArialMT-102\"/>\r\n      <use x=\"466.845703\" xlink:href=\"#ArialMT-32\"/>\r\n      <use x=\"494.628906\" xlink:href=\"#ArialMT-101\"/>\r\n      <use x=\"550.244141\" xlink:href=\"#ArialMT-109\"/>\r\n      <use x=\"633.544922\" xlink:href=\"#ArialMT-112\"/>\r\n      <use x=\"689.160156\" xlink:href=\"#ArialMT-108\"/>\r\n      <use x=\"711.376953\" xlink:href=\"#ArialMT-111\"/>\r\n      <use x=\"766.992188\" xlink:href=\"#ArialMT-121\"/>\r\n      <use x=\"816.992188\" xlink:href=\"#ArialMT-101\"/>\r\n      <use x=\"872.607422\" xlink:href=\"#ArialMT-114\"/>\r\n      <use x=\"905.908203\" xlink:href=\"#ArialMT-32\"/>\r\n      <use x=\"933.691406\" xlink:href=\"#ArialMT-102\"/>\r\n      <use x=\"961.474609\" xlink:href=\"#ArialMT-105\"/>\r\n      <use x=\"983.691406\" xlink:href=\"#ArialMT-114\"/>\r\n      <use x=\"1016.992188\" xlink:href=\"#ArialMT-109\"/>\r\n      <use x=\"1100.292969\" xlink:href=\"#ArialMT-115\"/>\r\n     </g>\r\n    </g>\r\n   </g>\r\n   <g id=\"patch_3\">\r\n    <path d=\"M 68.663438 191.38 \r\nL 68.663438 7.2 \r\n\" style=\"fill:none;stroke:#ffffff;stroke-linecap:square;stroke-linejoin:miter;stroke-width:1.25;\"/>\r\n   </g>\r\n   <g id=\"patch_4\">\r\n    <path d=\"M 68.663438 191.38 \r\nL 241.135104 191.38 \r\n\" style=\"fill:none;stroke:#ffffff;stroke-linecap:square;stroke-linejoin:miter;stroke-width:1.25;\"/>\r\n   </g>\r\n  </g>\r\n  <g id=\"axes_2\">\r\n   <g id=\"patch_5\">\r\n    <path d=\"M 268.635104 191.38 \r\nL 441.106771 191.38 \r\nL 441.106771 7.2 \r\nL 268.635104 7.2 \r\nz\r\n\" style=\"fill:#eaeaf2;\"/>\r\n   </g>\r\n   <g id=\"matplotlib.axis_3\">\r\n    <g id=\"xtick_5\">\r\n     <g id=\"line2d_12\">\r\n      <path clip-path=\"url(#pac8d37c2b2)\" d=\"M 276.474725 191.38 \r\nL 276.474725 7.2 \r\n\" style=\"fill:none;stroke:#ffffff;stroke-linecap:round;\"/>\r\n     </g>\r\n    </g>\r\n    <g id=\"xtick_6\">\r\n     <g id=\"line2d_13\">\r\n      <path clip-path=\"url(#pac8d37c2b2)\" d=\"M 321.771603 191.38 \r\nL 321.771603 7.2 \r\n\" style=\"fill:none;stroke:#ffffff;stroke-linecap:round;\"/>\r\n     </g>\r\n    </g>\r\n    <g id=\"xtick_7\">\r\n     <g id=\"line2d_14\">\r\n      <path clip-path=\"url(#pac8d37c2b2)\" d=\"M 367.068481 191.38 \r\nL 367.068481 7.2 \r\n\" style=\"fill:none;stroke:#ffffff;stroke-linecap:round;\"/>\r\n     </g>\r\n    </g>\r\n    <g id=\"xtick_8\">\r\n     <g id=\"line2d_15\">\r\n      <path clip-path=\"url(#pac8d37c2b2)\" d=\"M 412.365358 191.38 \r\nL 412.365358 7.2 \r\n\" style=\"fill:none;stroke:#ffffff;stroke-linecap:round;\"/>\r\n     </g>\r\n    </g>\r\n   </g>\r\n   <g id=\"matplotlib.axis_4\">\r\n    <g id=\"ytick_8\">\r\n     <g id=\"line2d_16\">\r\n      <path clip-path=\"url(#pac8d37c2b2)\" d=\"M 268.635104 183.008182 \r\nL 441.106771 183.008182 \r\n\" style=\"fill:none;stroke:#ffffff;stroke-linecap:round;\"/>\r\n     </g>\r\n    </g>\r\n    <g id=\"ytick_9\">\r\n     <g id=\"line2d_17\">\r\n      <path clip-path=\"url(#pac8d37c2b2)\" d=\"M 268.635104 156.856057 \r\nL 441.106771 156.856057 \r\n\" style=\"fill:none;stroke:#ffffff;stroke-linecap:round;\"/>\r\n     </g>\r\n    </g>\r\n    <g id=\"ytick_10\">\r\n     <g id=\"line2d_18\">\r\n      <path clip-path=\"url(#pac8d37c2b2)\" d=\"M 268.635104 130.703932 \r\nL 441.106771 130.703932 \r\n\" style=\"fill:none;stroke:#ffffff;stroke-linecap:round;\"/>\r\n     </g>\r\n    </g>\r\n    <g id=\"ytick_11\">\r\n     <g id=\"line2d_19\">\r\n      <path clip-path=\"url(#pac8d37c2b2)\" d=\"M 268.635104 104.551808 \r\nL 441.106771 104.551808 \r\n\" style=\"fill:none;stroke:#ffffff;stroke-linecap:round;\"/>\r\n     </g>\r\n    </g>\r\n    <g id=\"ytick_12\">\r\n     <g id=\"line2d_20\">\r\n      <path clip-path=\"url(#pac8d37c2b2)\" d=\"M 268.635104 78.399683 \r\nL 441.106771 78.399683 \r\n\" style=\"fill:none;stroke:#ffffff;stroke-linecap:round;\"/>\r\n     </g>\r\n    </g>\r\n    <g id=\"ytick_13\">\r\n     <g id=\"line2d_21\">\r\n      <path clip-path=\"url(#pac8d37c2b2)\" d=\"M 268.635104 52.247558 \r\nL 441.106771 52.247558 \r\n\" style=\"fill:none;stroke:#ffffff;stroke-linecap:round;\"/>\r\n     </g>\r\n    </g>\r\n    <g id=\"ytick_14\">\r\n     <g id=\"line2d_22\">\r\n      <path clip-path=\"url(#pac8d37c2b2)\" d=\"M 268.635104 26.095433 \r\nL 441.106771 26.095433 \r\n\" style=\"fill:none;stroke:#ffffff;stroke-linecap:round;\"/>\r\n     </g>\r\n    </g>\r\n   </g>\r\n   <g id=\"PathCollection_1\">\r\n    <defs>\r\n     <path d=\"M 0 3 \r\nC 0.795609 3 1.55874 2.683901 2.12132 2.12132 \r\nC 2.683901 1.55874 3 0.795609 3 0 \r\nC 3 -0.795609 2.683901 -1.55874 2.12132 -2.12132 \r\nC 1.55874 -2.683901 0.795609 -3 0 -3 \r\nC -0.795609 -3 -1.55874 -2.683901 -2.12132 -2.12132 \r\nC -2.683901 -1.55874 -3 -0.795609 -3 0 \r\nC -3 0.795609 -2.683901 1.55874 -2.12132 2.12132 \r\nC -1.55874 2.683901 -0.795609 3 0 3 \r\nz\r\n\" id=\"m0691d803c0\" style=\"stroke:#4c72b0;\"/>\r\n    </defs>\r\n    <g clip-path=\"url(#pac8d37c2b2)\">\r\n     <use style=\"fill:#4c72b0;stroke:#4c72b0;\" x=\"433.26715\" xlink:href=\"#m0691d803c0\" y=\"15.571818\"/>\r\n     <use style=\"fill:#4c72b0;stroke:#4c72b0;\" x=\"287.677549\" xlink:href=\"#m0691d803c0\" y=\"140.495288\"/>\r\n     <use style=\"fill:#4c72b0;stroke:#4c72b0;\" x=\"285.659573\" xlink:href=\"#m0691d803c0\" y=\"163.059341\"/>\r\n     <use style=\"fill:#4c72b0;stroke:#4c72b0;\" x=\"276.474725\" xlink:href=\"#m0691d803c0\" y=\"183.008182\"/>\r\n     <use style=\"fill:#4c72b0;stroke:#4c72b0;\" x=\"292.598149\" xlink:href=\"#m0691d803c0\" y=\"180.058222\"/>\r\n     <use style=\"fill:#4c72b0;stroke:#4c72b0;\" x=\"302.217847\" xlink:href=\"#m0691d803c0\" y=\"178.708773\"/>\r\n     <use style=\"fill:#4c72b0;stroke:#4c72b0;\" x=\"341.583551\" xlink:href=\"#m0691d803c0\" y=\"109.960067\"/>\r\n     <use style=\"fill:#4c72b0;stroke:#4c72b0;\" x=\"284.979667\" xlink:href=\"#m0691d803c0\" y=\"177.118723\"/>\r\n     <use style=\"fill:#4c72b0;stroke:#4c72b0;\" x=\"433.26715\" xlink:href=\"#m0691d803c0\" y=\"15.571818\"/>\r\n     <use style=\"fill:#4c72b0;stroke:#4c72b0;\" x=\"283.445915\" xlink:href=\"#m0691d803c0\" y=\"166.898473\"/>\r\n     <use style=\"fill:#4c72b0;stroke:#4c72b0;\" x=\"289.401095\" xlink:href=\"#m0691d803c0\" y=\"133.601588\"/>\r\n     <use style=\"fill:#4c72b0;stroke:#4c72b0;\" x=\"296.372285\" xlink:href=\"#m0691d803c0\" y=\"117.50234\"/>\r\n     <use style=\"fill:#4c72b0;stroke:#4c72b0;\" x=\"277.083968\" xlink:href=\"#m0691d803c0\" y=\"180.319743\"/>\r\n     <use style=\"fill:#4c72b0;stroke:#4c72b0;\" x=\"329.581238\" xlink:href=\"#m0691d803c0\" y=\"172.264889\"/>\r\n     <use style=\"fill:#4c72b0;stroke:#4c72b0;\" x=\"433.26715\" xlink:href=\"#m0691d803c0\" y=\"15.571818\"/>\r\n     <use style=\"fill:#4c72b0;stroke:#4c72b0;\" x=\"278.596431\" xlink:href=\"#m0691d803c0\" y=\"177.150106\"/>\r\n     <use style=\"fill:#4c72b0;stroke:#4c72b0;\" x=\"276.474725\" xlink:href=\"#m0691d803c0\" y=\"183.008182\"/>\r\n     <use style=\"fill:#4c72b0;stroke:#4c72b0;\" x=\"276.474725\" xlink:href=\"#m0691d803c0\" y=\"183.008182\"/>\r\n     <use style=\"fill:#4c72b0;stroke:#4c72b0;\" x=\"290.536688\" xlink:href=\"#m0691d803c0\" y=\"131.310662\"/>\r\n     <use style=\"fill:#4c72b0;stroke:#4c72b0;\" x=\"294.53142\" xlink:href=\"#m0691d803c0\" y=\"122.010966\"/>\r\n     <use style=\"fill:#4c72b0;stroke:#4c72b0;\" x=\"278.924833\" xlink:href=\"#m0691d803c0\" y=\"175.800656\"/>\r\n     <use style=\"fill:#4c72b0;stroke:#4c72b0;\" x=\"329.581238\" xlink:href=\"#m0691d803c0\" y=\"172.264889\"/>\r\n     <use style=\"fill:#4c72b0;stroke:#4c72b0;\" x=\"433.26715\" xlink:href=\"#m0691d803c0\" y=\"15.571818\"/>\r\n     <use style=\"fill:#4c72b0;stroke:#4c72b0;\" x=\"283.771599\" xlink:href=\"#m0691d803c0\" y=\"179.566562\"/>\r\n     <use style=\"fill:#4c72b0;stroke:#4c72b0;\" x=\"282.005927\" xlink:href=\"#m0691d803c0\" y=\"177.171028\"/>\r\n     <use style=\"fill:#4c72b0;stroke:#4c72b0;\" x=\"305.433925\" xlink:href=\"#m0691d803c0\" y=\"150.652773\"/>\r\n     <use style=\"fill:#4c72b0;stroke:#4c72b0;\" x=\"278.832428\" xlink:href=\"#m0691d803c0\" y=\"179.200432\"/>\r\n     <use style=\"fill:#4c72b0;stroke:#4c72b0;\" x=\"324.689628\" xlink:href=\"#m0691d803c0\" y=\"136.509704\"/>\r\n     <use style=\"fill:#4c72b0;stroke:#4c72b0;\" x=\"338.162278\" xlink:href=\"#m0691d803c0\" y=\"116.529481\"/>\r\n     <use style=\"fill:#4c72b0;stroke:#4c72b0;\" x=\"288.40094\" xlink:href=\"#m0691d803c0\" y=\"170.538849\"/>\r\n     <use style=\"fill:#4c72b0;stroke:#4c72b0;\" x=\"433.26715\" xlink:href=\"#m0691d803c0\" y=\"15.571818\"/>\r\n     <use style=\"fill:#4c72b0;stroke:#4c72b0;\" x=\"336.190505\" xlink:href=\"#m0691d803c0\" y=\"128.203789\"/>\r\n     <use style=\"fill:#4c72b0;stroke:#4c72b0;\" x=\"329.589391\" xlink:href=\"#m0691d803c0\" y=\"145.652487\"/>\r\n     <use style=\"fill:#4c72b0;stroke:#4c72b0;\" x=\"278.944764\" xlink:href=\"#m0691d803c0\" y=\"182.024862\"/>\r\n     <use style=\"fill:#4c72b0;stroke:#4c72b0;\" x=\"302.472415\" xlink:href=\"#m0691d803c0\" y=\"177.014115\"/>\r\n     <use style=\"fill:#4c72b0;stroke:#4c72b0;\" x=\"285.92003\" xlink:href=\"#m0691d803c0\" y=\"181.75288\"/>\r\n     <use style=\"fill:#4c72b0;stroke:#4c72b0;\" x=\"317.862935\" xlink:href=\"#m0691d803c0\" y=\"157.839377\"/>\r\n     <use style=\"fill:#4c72b0;stroke:#4c72b0;\" x=\"276.474725\" xlink:href=\"#m0691d803c0\" y=\"183.008182\"/>\r\n     <use style=\"fill:#4c72b0;stroke:#4c72b0;\" x=\"338.134647\" xlink:href=\"#m0691d803c0\" y=\"116.550402\"/>\r\n     <use style=\"fill:#4c72b0;stroke:#4c72b0;\" x=\"288.428571\" xlink:href=\"#m0691d803c0\" y=\"170.517927\"/>\r\n     <use style=\"fill:#4c72b0;stroke:#4c72b0;\" x=\"433.26715\" xlink:href=\"#m0691d803c0\" y=\"15.571818\"/>\r\n     <use style=\"fill:#4c72b0;stroke:#4c72b0;\" x=\"347.729885\" xlink:href=\"#m0691d803c0\" y=\"107.491306\"/>\r\n     <use style=\"fill:#4c72b0;stroke:#4c72b0;\" x=\"278.668453\" xlink:href=\"#m0691d803c0\" y=\"179.692092\"/>\r\n     <use style=\"fill:#4c72b0;stroke:#4c72b0;\" x=\"349.923613\" xlink:href=\"#m0691d803c0\" y=\"104.185678\"/>\r\n     <use style=\"fill:#4c72b0;stroke:#4c72b0;\" x=\"276.474725\" xlink:href=\"#m0691d803c0\" y=\"183.008182\"/>\r\n    </g>\r\n   </g>\r\n   <g id=\"patch_6\">\r\n    <path d=\"M 268.635104 191.38 \r\nL 268.635104 7.2 \r\n\" style=\"fill:none;stroke:#ffffff;stroke-linecap:square;stroke-linejoin:miter;stroke-width:1.25;\"/>\r\n   </g>\r\n   <g id=\"patch_7\">\r\n    <path d=\"M 268.635104 191.38 \r\nL 441.106771 191.38 \r\n\" style=\"fill:none;stroke:#ffffff;stroke-linecap:square;stroke-linejoin:miter;stroke-width:1.25;\"/>\r\n   </g>\r\n  </g>\r\n  <g id=\"axes_3\">\r\n   <g id=\"patch_8\">\r\n    <path d=\"M 468.606771 191.38 \r\nL 641.078438 191.38 \r\nL 641.078438 7.2 \r\nL 468.606771 7.2 \r\nz\r\n\" style=\"fill:#eaeaf2;\"/>\r\n   </g>\r\n   <g id=\"matplotlib.axis_5\">\r\n    <g id=\"xtick_9\">\r\n     <g id=\"line2d_23\">\r\n      <path clip-path=\"url(#p7c4fa886cc)\" d=\"M 476.446392 191.38 \r\nL 476.446392 7.2 \r\n\" style=\"fill:none;stroke:#ffffff;stroke-linecap:round;\"/>\r\n     </g>\r\n    </g>\r\n    <g id=\"xtick_10\">\r\n     <g id=\"line2d_24\">\r\n      <path clip-path=\"url(#p7c4fa886cc)\" d=\"M 522.836709 191.38 \r\nL 522.836709 7.2 \r\n\" style=\"fill:none;stroke:#ffffff;stroke-linecap:round;\"/>\r\n     </g>\r\n    </g>\r\n    <g id=\"xtick_11\">\r\n     <g id=\"line2d_25\">\r\n      <path clip-path=\"url(#p7c4fa886cc)\" d=\"M 569.227026 191.38 \r\nL 569.227026 7.2 \r\n\" style=\"fill:none;stroke:#ffffff;stroke-linecap:round;\"/>\r\n     </g>\r\n    </g>\r\n    <g id=\"xtick_12\">\r\n     <g id=\"line2d_26\">\r\n      <path clip-path=\"url(#p7c4fa886cc)\" d=\"M 615.617343 191.38 \r\nL 615.617343 7.2 \r\n\" style=\"fill:none;stroke:#ffffff;stroke-linecap:round;\"/>\r\n     </g>\r\n    </g>\r\n   </g>\r\n   <g id=\"matplotlib.axis_6\">\r\n    <g id=\"ytick_15\">\r\n     <g id=\"line2d_27\">\r\n      <path clip-path=\"url(#p7c4fa886cc)\" d=\"M 468.606771 183.008182 \r\nL 641.078438 183.008182 \r\n\" style=\"fill:none;stroke:#ffffff;stroke-linecap:round;\"/>\r\n     </g>\r\n    </g>\r\n    <g id=\"ytick_16\">\r\n     <g id=\"line2d_28\">\r\n      <path clip-path=\"url(#p7c4fa886cc)\" d=\"M 468.606771 156.856057 \r\nL 641.078438 156.856057 \r\n\" style=\"fill:none;stroke:#ffffff;stroke-linecap:round;\"/>\r\n     </g>\r\n    </g>\r\n    <g id=\"ytick_17\">\r\n     <g id=\"line2d_29\">\r\n      <path clip-path=\"url(#p7c4fa886cc)\" d=\"M 468.606771 130.703932 \r\nL 641.078438 130.703932 \r\n\" style=\"fill:none;stroke:#ffffff;stroke-linecap:round;\"/>\r\n     </g>\r\n    </g>\r\n    <g id=\"ytick_18\">\r\n     <g id=\"line2d_30\">\r\n      <path clip-path=\"url(#p7c4fa886cc)\" d=\"M 468.606771 104.551808 \r\nL 641.078438 104.551808 \r\n\" style=\"fill:none;stroke:#ffffff;stroke-linecap:round;\"/>\r\n     </g>\r\n    </g>\r\n    <g id=\"ytick_19\">\r\n     <g id=\"line2d_31\">\r\n      <path clip-path=\"url(#p7c4fa886cc)\" d=\"M 468.606771 78.399683 \r\nL 641.078438 78.399683 \r\n\" style=\"fill:none;stroke:#ffffff;stroke-linecap:round;\"/>\r\n     </g>\r\n    </g>\r\n    <g id=\"ytick_20\">\r\n     <g id=\"line2d_32\">\r\n      <path clip-path=\"url(#p7c4fa886cc)\" d=\"M 468.606771 52.247558 \r\nL 641.078438 52.247558 \r\n\" style=\"fill:none;stroke:#ffffff;stroke-linecap:round;\"/>\r\n     </g>\r\n    </g>\r\n    <g id=\"ytick_21\">\r\n     <g id=\"line2d_33\">\r\n      <path clip-path=\"url(#p7c4fa886cc)\" d=\"M 468.606771 26.095433 \r\nL 641.078438 26.095433 \r\n\" style=\"fill:none;stroke:#ffffff;stroke-linecap:round;\"/>\r\n     </g>\r\n    </g>\r\n   </g>\r\n   <g id=\"PathCollection_2\">\r\n    <g clip-path=\"url(#p7c4fa886cc)\">\r\n     <use style=\"fill:#4c72b0;stroke:#4c72b0;\" x=\"633.238816\" xlink:href=\"#m0691d803c0\" y=\"15.571818\"/>\r\n     <use style=\"fill:#4c72b0;stroke:#4c72b0;\" x=\"488.173614\" xlink:href=\"#m0691d803c0\" y=\"140.495288\"/>\r\n     <use style=\"fill:#4c72b0;stroke:#4c72b0;\" x=\"484.36225\" xlink:href=\"#m0691d803c0\" y=\"163.059341\"/>\r\n     <use style=\"fill:#4c72b0;stroke:#4c72b0;\" x=\"476.446392\" xlink:href=\"#m0691d803c0\" y=\"183.008182\"/>\r\n     <use style=\"fill:#4c72b0;stroke:#4c72b0;\" x=\"496.563859\" xlink:href=\"#m0691d803c0\" y=\"180.058222\"/>\r\n     <use style=\"fill:#4c72b0;stroke:#4c72b0;\" x=\"505.897276\" xlink:href=\"#m0691d803c0\" y=\"178.708773\"/>\r\n     <use style=\"fill:#4c72b0;stroke:#4c72b0;\" x=\"548.124637\" xlink:href=\"#m0691d803c0\" y=\"109.960067\"/>\r\n     <use style=\"fill:#4c72b0;stroke:#4c72b0;\" x=\"484.153039\" xlink:href=\"#m0691d803c0\" y=\"177.118723\"/>\r\n     <use style=\"fill:#4c72b0;stroke:#4c72b0;\" x=\"633.238816\" xlink:href=\"#m0691d803c0\" y=\"15.571818\"/>\r\n     <use style=\"fill:#4c72b0;stroke:#4c72b0;\" x=\"481.383723\" xlink:href=\"#m0691d803c0\" y=\"166.898473\"/>\r\n     <use style=\"fill:#4c72b0;stroke:#4c72b0;\" x=\"489.527005\" xlink:href=\"#m0691d803c0\" y=\"133.601588\"/>\r\n     <use style=\"fill:#4c72b0;stroke:#4c72b0;\" x=\"494.464335\" xlink:href=\"#m0691d803c0\" y=\"117.50234\"/>\r\n     <use style=\"fill:#4c72b0;stroke:#4c72b0;\" x=\"476.759555\" xlink:href=\"#m0691d803c0\" y=\"180.319743\"/>\r\n     <use style=\"fill:#4c72b0;stroke:#4c72b0;\" x=\"537.500187\" xlink:href=\"#m0691d803c0\" y=\"172.264889\"/>\r\n     <use style=\"fill:#4c72b0;stroke:#4c72b0;\" x=\"633.238816\" xlink:href=\"#m0691d803c0\" y=\"15.571818\"/>\r\n     <use style=\"fill:#4c72b0;stroke:#4c72b0;\" x=\"478.283578\" xlink:href=\"#m0691d803c0\" y=\"177.150106\"/>\r\n     <use style=\"fill:#4c72b0;stroke:#4c72b0;\" x=\"476.446392\" xlink:href=\"#m0691d803c0\" y=\"183.008182\"/>\r\n     <use style=\"fill:#4c72b0;stroke:#4c72b0;\" x=\"476.446392\" xlink:href=\"#m0691d803c0\" y=\"183.008182\"/>\r\n     <use style=\"fill:#4c72b0;stroke:#4c72b0;\" x=\"490.649511\" xlink:href=\"#m0691d803c0\" y=\"131.310662\"/>\r\n     <use style=\"fill:#4c72b0;stroke:#4c72b0;\" x=\"493.56106\" xlink:href=\"#m0691d803c0\" y=\"122.010966\"/>\r\n     <use style=\"fill:#4c72b0;stroke:#4c72b0;\" x=\"477.66283\" xlink:href=\"#m0691d803c0\" y=\"175.800656\"/>\r\n     <use style=\"fill:#4c72b0;stroke:#4c72b0;\" x=\"537.500187\" xlink:href=\"#m0691d803c0\" y=\"172.264889\"/>\r\n     <use style=\"fill:#4c72b0;stroke:#4c72b0;\" x=\"633.238816\" xlink:href=\"#m0691d803c0\" y=\"15.571818\"/>\r\n     <use style=\"fill:#4c72b0;stroke:#4c72b0;\" x=\"485.552403\" xlink:href=\"#m0691d803c0\" y=\"179.566562\"/>\r\n     <use style=\"fill:#4c72b0;stroke:#4c72b0;\" x=\"484.510903\" xlink:href=\"#m0691d803c0\" y=\"177.171028\"/>\r\n     <use style=\"fill:#4c72b0;stroke:#4c72b0;\" x=\"509.893848\" xlink:href=\"#m0691d803c0\" y=\"150.652773\"/>\r\n     <use style=\"fill:#4c72b0;stroke:#4c72b0;\" x=\"479.677904\" xlink:href=\"#m0691d803c0\" y=\"179.200432\"/>\r\n     <use style=\"fill:#4c72b0;stroke:#4c72b0;\" x=\"526.468273\" xlink:href=\"#m0691d803c0\" y=\"136.509704\"/>\r\n     <use style=\"fill:#4c72b0;stroke:#4c72b0;\" x=\"544.935293\" xlink:href=\"#m0691d803c0\" y=\"116.529481\"/>\r\n     <use style=\"fill:#4c72b0;stroke:#4c72b0;\" x=\"487.342383\" xlink:href=\"#m0691d803c0\" y=\"170.538849\"/>\r\n     <use style=\"fill:#4c72b0;stroke:#4c72b0;\" x=\"633.238816\" xlink:href=\"#m0691d803c0\" y=\"15.571818\"/>\r\n     <use style=\"fill:#4c72b0;stroke:#4c72b0;\" x=\"543.26706\" xlink:href=\"#m0691d803c0\" y=\"128.203789\"/>\r\n     <use style=\"fill:#4c72b0;stroke:#4c72b0;\" x=\"532.707798\" xlink:href=\"#m0691d803c0\" y=\"145.652487\"/>\r\n     <use style=\"fill:#4c72b0;stroke:#4c72b0;\" x=\"478.758578\" xlink:href=\"#m0691d803c0\" y=\"182.024862\"/>\r\n     <use style=\"fill:#4c72b0;stroke:#4c72b0;\" x=\"506.376228\" xlink:href=\"#m0691d803c0\" y=\"177.014115\"/>\r\n     <use style=\"fill:#4c72b0;stroke:#4c72b0;\" x=\"487.36247\" xlink:href=\"#m0691d803c0\" y=\"181.75288\"/>\r\n     <use style=\"fill:#4c72b0;stroke:#4c72b0;\" x=\"527.47356\" xlink:href=\"#m0691d803c0\" y=\"157.839377\"/>\r\n     <use style=\"fill:#4c72b0;stroke:#4c72b0;\" x=\"476.446392\" xlink:href=\"#m0691d803c0\" y=\"183.008182\"/>\r\n     <use style=\"fill:#4c72b0;stroke:#4c72b0;\" x=\"544.941732\" xlink:href=\"#m0691d803c0\" y=\"116.550402\"/>\r\n     <use style=\"fill:#4c72b0;stroke:#4c72b0;\" x=\"487.335953\" xlink:href=\"#m0691d803c0\" y=\"170.517927\"/>\r\n     <use style=\"fill:#4c72b0;stroke:#4c72b0;\" x=\"633.238816\" xlink:href=\"#m0691d803c0\" y=\"15.571818\"/>\r\n     <use style=\"fill:#4c72b0;stroke:#4c72b0;\" x=\"555.008746\" xlink:href=\"#m0691d803c0\" y=\"107.491306\"/>\r\n     <use style=\"fill:#4c72b0;stroke:#4c72b0;\" x=\"477.101897\" xlink:href=\"#m0691d803c0\" y=\"179.692092\"/>\r\n     <use style=\"fill:#4c72b0;stroke:#4c72b0;\" x=\"555.664251\" xlink:href=\"#m0691d803c0\" y=\"104.185678\"/>\r\n     <use style=\"fill:#4c72b0;stroke:#4c72b0;\" x=\"476.446392\" xlink:href=\"#m0691d803c0\" y=\"183.008182\"/>\r\n    </g>\r\n   </g>\r\n   <g id=\"patch_9\">\r\n    <path d=\"M 468.606771 191.38 \r\nL 468.606771 7.2 \r\n\" style=\"fill:none;stroke:#ffffff;stroke-linecap:square;stroke-linejoin:miter;stroke-width:1.25;\"/>\r\n   </g>\r\n   <g id=\"patch_10\">\r\n    <path d=\"M 468.606771 191.38 \r\nL 641.078438 191.38 \r\n\" style=\"fill:none;stroke:#ffffff;stroke-linecap:square;stroke-linejoin:miter;stroke-width:1.25;\"/>\r\n   </g>\r\n  </g>\r\n  <g id=\"axes_4\">\r\n   <g id=\"patch_11\">\r\n    <path d=\"M 68.663438 391.56 \r\nL 241.135104 391.56 \r\nL 241.135104 207.38 \r\nL 68.663438 207.38 \r\nz\r\n\" style=\"fill:#eaeaf2;\"/>\r\n   </g>\r\n   <g id=\"matplotlib.axis_7\">\r\n    <g id=\"xtick_13\">\r\n     <g id=\"line2d_34\">\r\n      <path clip-path=\"url(#pff2fb6feb5)\" d=\"M 76.503059 391.56 \r\nL 76.503059 207.38 \r\n\" style=\"fill:none;stroke:#ffffff;stroke-linecap:round;\"/>\r\n     </g>\r\n    </g>\r\n    <g id=\"xtick_14\">\r\n     <g id=\"line2d_35\">\r\n      <path clip-path=\"url(#pff2fb6feb5)\" d=\"M 125.482324 391.56 \r\nL 125.482324 207.38 \r\n\" style=\"fill:none;stroke:#ffffff;stroke-linecap:round;\"/>\r\n     </g>\r\n    </g>\r\n    <g id=\"xtick_15\">\r\n     <g id=\"line2d_36\">\r\n      <path clip-path=\"url(#pff2fb6feb5)\" d=\"M 174.461589 391.56 \r\nL 174.461589 207.38 \r\n\" style=\"fill:none;stroke:#ffffff;stroke-linecap:round;\"/>\r\n     </g>\r\n    </g>\r\n    <g id=\"xtick_16\">\r\n     <g id=\"line2d_37\">\r\n      <path clip-path=\"url(#pff2fb6feb5)\" d=\"M 223.440855 391.56 \r\nL 223.440855 207.38 \r\n\" style=\"fill:none;stroke:#ffffff;stroke-linecap:round;\"/>\r\n     </g>\r\n    </g>\r\n   </g>\r\n   <g id=\"matplotlib.axis_8\">\r\n    <g id=\"ytick_22\">\r\n     <g id=\"line2d_38\">\r\n      <path clip-path=\"url(#pff2fb6feb5)\" d=\"M 68.663438 383.188182 \r\nL 241.135104 383.188182 \r\n\" style=\"fill:none;stroke:#ffffff;stroke-linecap:round;\"/>\r\n     </g>\r\n     <g id=\"text_9\">\r\n      <!-- 0 -->\r\n      <g style=\"fill:#262626;\" transform=\"translate(53.046406 387.124979)scale(0.11 -0.11)\">\r\n       <use xlink:href=\"#ArialMT-48\"/>\r\n      </g>\r\n     </g>\r\n    </g>\r\n    <g id=\"ytick_23\">\r\n     <g id=\"line2d_39\">\r\n      <path clip-path=\"url(#pff2fb6feb5)\" d=\"M 68.663438 359.002241 \r\nL 241.135104 359.002241 \r\n\" style=\"fill:none;stroke:#ffffff;stroke-linecap:round;\"/>\r\n     </g>\r\n     <g id=\"text_10\">\r\n      <!-- 50000 -->\r\n      <g style=\"fill:#262626;\" transform=\"translate(28.578281 362.939038)scale(0.11 -0.11)\">\r\n       <use xlink:href=\"#ArialMT-53\"/>\r\n       <use x=\"55.615234\" xlink:href=\"#ArialMT-48\"/>\r\n       <use x=\"111.230469\" xlink:href=\"#ArialMT-48\"/>\r\n       <use x=\"166.845703\" xlink:href=\"#ArialMT-48\"/>\r\n       <use x=\"222.460938\" xlink:href=\"#ArialMT-48\"/>\r\n      </g>\r\n     </g>\r\n    </g>\r\n    <g id=\"ytick_24\">\r\n     <g id=\"line2d_40\">\r\n      <path clip-path=\"url(#pff2fb6feb5)\" d=\"M 68.663438 334.816301 \r\nL 241.135104 334.816301 \r\n\" style=\"fill:none;stroke:#ffffff;stroke-linecap:round;\"/>\r\n     </g>\r\n     <g id=\"text_11\">\r\n      <!-- 100000 -->\r\n      <g style=\"fill:#262626;\" transform=\"translate(22.46125 338.753098)scale(0.11 -0.11)\">\r\n       <use xlink:href=\"#ArialMT-49\"/>\r\n       <use x=\"55.615234\" xlink:href=\"#ArialMT-48\"/>\r\n       <use x=\"111.230469\" xlink:href=\"#ArialMT-48\"/>\r\n       <use x=\"166.845703\" xlink:href=\"#ArialMT-48\"/>\r\n       <use x=\"222.460938\" xlink:href=\"#ArialMT-48\"/>\r\n       <use x=\"278.076172\" xlink:href=\"#ArialMT-48\"/>\r\n      </g>\r\n     </g>\r\n    </g>\r\n    <g id=\"ytick_25\">\r\n     <g id=\"line2d_41\">\r\n      <path clip-path=\"url(#pff2fb6feb5)\" d=\"M 68.663438 310.63036 \r\nL 241.135104 310.63036 \r\n\" style=\"fill:none;stroke:#ffffff;stroke-linecap:round;\"/>\r\n     </g>\r\n     <g id=\"text_12\">\r\n      <!-- 150000 -->\r\n      <g style=\"fill:#262626;\" transform=\"translate(22.46125 314.567157)scale(0.11 -0.11)\">\r\n       <use xlink:href=\"#ArialMT-49\"/>\r\n       <use x=\"55.615234\" xlink:href=\"#ArialMT-53\"/>\r\n       <use x=\"111.230469\" xlink:href=\"#ArialMT-48\"/>\r\n       <use x=\"166.845703\" xlink:href=\"#ArialMT-48\"/>\r\n       <use x=\"222.460938\" xlink:href=\"#ArialMT-48\"/>\r\n       <use x=\"278.076172\" xlink:href=\"#ArialMT-48\"/>\r\n      </g>\r\n     </g>\r\n    </g>\r\n    <g id=\"ytick_26\">\r\n     <g id=\"line2d_42\">\r\n      <path clip-path=\"url(#pff2fb6feb5)\" d=\"M 68.663438 286.44442 \r\nL 241.135104 286.44442 \r\n\" style=\"fill:none;stroke:#ffffff;stroke-linecap:round;\"/>\r\n     </g>\r\n     <g id=\"text_13\">\r\n      <!-- 200000 -->\r\n      <g style=\"fill:#262626;\" transform=\"translate(22.46125 290.381217)scale(0.11 -0.11)\">\r\n       <use xlink:href=\"#ArialMT-50\"/>\r\n       <use x=\"55.615234\" xlink:href=\"#ArialMT-48\"/>\r\n       <use x=\"111.230469\" xlink:href=\"#ArialMT-48\"/>\r\n       <use x=\"166.845703\" xlink:href=\"#ArialMT-48\"/>\r\n       <use x=\"222.460938\" xlink:href=\"#ArialMT-48\"/>\r\n       <use x=\"278.076172\" xlink:href=\"#ArialMT-48\"/>\r\n      </g>\r\n     </g>\r\n    </g>\r\n    <g id=\"ytick_27\">\r\n     <g id=\"line2d_43\">\r\n      <path clip-path=\"url(#pff2fb6feb5)\" d=\"M 68.663438 262.258479 \r\nL 241.135104 262.258479 \r\n\" style=\"fill:none;stroke:#ffffff;stroke-linecap:round;\"/>\r\n     </g>\r\n     <g id=\"text_14\">\r\n      <!-- 250000 -->\r\n      <g style=\"fill:#262626;\" transform=\"translate(22.46125 266.195276)scale(0.11 -0.11)\">\r\n       <use xlink:href=\"#ArialMT-50\"/>\r\n       <use x=\"55.615234\" xlink:href=\"#ArialMT-53\"/>\r\n       <use x=\"111.230469\" xlink:href=\"#ArialMT-48\"/>\r\n       <use x=\"166.845703\" xlink:href=\"#ArialMT-48\"/>\r\n       <use x=\"222.460938\" xlink:href=\"#ArialMT-48\"/>\r\n       <use x=\"278.076172\" xlink:href=\"#ArialMT-48\"/>\r\n      </g>\r\n     </g>\r\n    </g>\r\n    <g id=\"ytick_28\">\r\n     <g id=\"line2d_44\">\r\n      <path clip-path=\"url(#pff2fb6feb5)\" d=\"M 68.663438 238.072539 \r\nL 241.135104 238.072539 \r\n\" style=\"fill:none;stroke:#ffffff;stroke-linecap:round;\"/>\r\n     </g>\r\n     <g id=\"text_15\">\r\n      <!-- 300000 -->\r\n      <g style=\"fill:#262626;\" transform=\"translate(22.46125 242.009336)scale(0.11 -0.11)\">\r\n       <defs>\r\n        <path d=\"M 4.203125 18.890625 \r\nL 12.984375 20.0625 \r\nQ 14.5 12.59375 18.140625 9.296875 \r\nQ 21.78125 6 27 6 \r\nQ 33.203125 6 37.46875 10.296875 \r\nQ 41.75 14.59375 41.75 20.953125 \r\nQ 41.75 27 37.796875 30.921875 \r\nQ 33.84375 34.859375 27.734375 34.859375 \r\nQ 25.25 34.859375 21.53125 33.890625 \r\nL 22.515625 41.609375 \r\nQ 23.390625 41.5 23.921875 41.5 \r\nQ 29.546875 41.5 34.03125 44.421875 \r\nQ 38.53125 47.359375 38.53125 53.46875 \r\nQ 38.53125 58.296875 35.25 61.46875 \r\nQ 31.984375 64.65625 26.8125 64.65625 \r\nQ 21.6875 64.65625 18.265625 61.421875 \r\nQ 14.84375 58.203125 13.875 51.765625 \r\nL 5.078125 53.328125 \r\nQ 6.6875 62.15625 12.390625 67.015625 \r\nQ 18.109375 71.875 26.609375 71.875 \r\nQ 32.46875 71.875 37.390625 69.359375 \r\nQ 42.328125 66.84375 44.9375 62.5 \r\nQ 47.5625 58.15625 47.5625 53.265625 \r\nQ 47.5625 48.640625 45.0625 44.828125 \r\nQ 42.578125 41.015625 37.703125 38.765625 \r\nQ 44.046875 37.3125 47.5625 32.6875 \r\nQ 51.078125 28.078125 51.078125 21.140625 \r\nQ 51.078125 11.765625 44.234375 5.25 \r\nQ 37.40625 -1.265625 26.953125 -1.265625 \r\nQ 17.53125 -1.265625 11.296875 4.34375 \r\nQ 5.078125 9.96875 4.203125 18.890625 \r\nz\r\n\" id=\"ArialMT-51\"/>\r\n       </defs>\r\n       <use xlink:href=\"#ArialMT-51\"/>\r\n       <use x=\"55.615234\" xlink:href=\"#ArialMT-48\"/>\r\n       <use x=\"111.230469\" xlink:href=\"#ArialMT-48\"/>\r\n       <use x=\"166.845703\" xlink:href=\"#ArialMT-48\"/>\r\n       <use x=\"222.460938\" xlink:href=\"#ArialMT-48\"/>\r\n       <use x=\"278.076172\" xlink:href=\"#ArialMT-48\"/>\r\n      </g>\r\n     </g>\r\n    </g>\r\n    <g id=\"ytick_29\">\r\n     <g id=\"line2d_45\">\r\n      <path clip-path=\"url(#pff2fb6feb5)\" d=\"M 68.663438 213.886598 \r\nL 241.135104 213.886598 \r\n\" style=\"fill:none;stroke:#ffffff;stroke-linecap:round;\"/>\r\n     </g>\r\n     <g id=\"text_16\">\r\n      <!-- 350000 -->\r\n      <g style=\"fill:#262626;\" transform=\"translate(22.46125 217.823395)scale(0.11 -0.11)\">\r\n       <use xlink:href=\"#ArialMT-51\"/>\r\n       <use x=\"55.615234\" xlink:href=\"#ArialMT-53\"/>\r\n       <use x=\"111.230469\" xlink:href=\"#ArialMT-48\"/>\r\n       <use x=\"166.845703\" xlink:href=\"#ArialMT-48\"/>\r\n       <use x=\"222.460938\" xlink:href=\"#ArialMT-48\"/>\r\n       <use x=\"278.076172\" xlink:href=\"#ArialMT-48\"/>\r\n      </g>\r\n     </g>\r\n    </g>\r\n    <g id=\"text_17\">\r\n     <!-- Number of Employees -->\r\n     <g style=\"fill:#262626;\" transform=\"translate(15.935625 358.825)rotate(-90)scale(0.12 -0.12)\">\r\n      <defs>\r\n       <path d=\"M 7.90625 0 \r\nL 7.90625 71.578125 \r\nL 59.671875 71.578125 \r\nL 59.671875 63.140625 \r\nL 17.390625 63.140625 \r\nL 17.390625 41.21875 \r\nL 56.984375 41.21875 \r\nL 56.984375 32.8125 \r\nL 17.390625 32.8125 \r\nL 17.390625 8.453125 \r\nL 61.328125 8.453125 \r\nL 61.328125 0 \r\nz\r\n\" id=\"ArialMT-69\"/>\r\n      </defs>\r\n      <use xlink:href=\"#ArialMT-78\"/>\r\n      <use x=\"72.216797\" xlink:href=\"#ArialMT-117\"/>\r\n      <use x=\"127.832031\" xlink:href=\"#ArialMT-109\"/>\r\n      <use x=\"211.132812\" xlink:href=\"#ArialMT-98\"/>\r\n      <use x=\"266.748047\" xlink:href=\"#ArialMT-101\"/>\r\n      <use x=\"322.363281\" xlink:href=\"#ArialMT-114\"/>\r\n      <use x=\"355.664062\" xlink:href=\"#ArialMT-32\"/>\r\n      <use x=\"383.447266\" xlink:href=\"#ArialMT-111\"/>\r\n      <use x=\"439.0625\" xlink:href=\"#ArialMT-102\"/>\r\n      <use x=\"466.845703\" xlink:href=\"#ArialMT-32\"/>\r\n      <use x=\"494.628906\" xlink:href=\"#ArialMT-69\"/>\r\n      <use x=\"561.328125\" xlink:href=\"#ArialMT-109\"/>\r\n      <use x=\"644.628906\" xlink:href=\"#ArialMT-112\"/>\r\n      <use x=\"700.244141\" xlink:href=\"#ArialMT-108\"/>\r\n      <use x=\"722.460938\" xlink:href=\"#ArialMT-111\"/>\r\n      <use x=\"778.076172\" xlink:href=\"#ArialMT-121\"/>\r\n      <use x=\"828.076172\" xlink:href=\"#ArialMT-101\"/>\r\n      <use x=\"883.691406\" xlink:href=\"#ArialMT-101\"/>\r\n      <use x=\"939.306641\" xlink:href=\"#ArialMT-115\"/>\r\n     </g>\r\n    </g>\r\n   </g>\r\n   <g id=\"PathCollection_3\">\r\n    <g clip-path=\"url(#pff2fb6feb5)\">\r\n     <use style=\"fill:#4c72b0;stroke:#4c72b0;\" x=\"233.295483\" xlink:href=\"#m0691d803c0\" y=\"215.751818\"/>\r\n     <use style=\"fill:#4c72b0;stroke:#4c72b0;\" x=\"116.313406\" xlink:href=\"#m0691d803c0\" y=\"371.224848\"/>\r\n     <use style=\"fill:#4c72b0;stroke:#4c72b0;\" x=\"95.183751\" xlink:href=\"#m0691d803c0\" y=\"373.379816\"/>\r\n     <use style=\"fill:#4c72b0;stroke:#4c72b0;\" x=\"76.503059\" xlink:href=\"#m0691d803c0\" y=\"383.188182\"/>\r\n     <use style=\"fill:#4c72b0;stroke:#4c72b0;\" x=\"79.265489\" xlink:href=\"#m0691d803c0\" y=\"365.970211\"/>\r\n     <use style=\"fill:#4c72b0;stroke:#4c72b0;\" x=\"80.529154\" xlink:href=\"#m0691d803c0\" y=\"355.697474\"/>\r\n     <use style=\"fill:#4c72b0;stroke:#4c72b0;\" x=\"144.907501\" xlink:href=\"#m0691d803c0\" y=\"313.659408\"/>\r\n     <use style=\"fill:#4c72b0;stroke:#4c72b0;\" x=\"82.018124\" xlink:href=\"#m0691d803c0\" y=\"374.105877\"/>\r\n     <use style=\"fill:#4c72b0;stroke:#4c72b0;\" x=\"233.295483\" xlink:href=\"#m0691d803c0\" y=\"215.751818\"/>\r\n     <use style=\"fill:#4c72b0;stroke:#4c72b0;\" x=\"91.588672\" xlink:href=\"#m0691d803c0\" y=\"375.743749\"/>\r\n     <use style=\"fill:#4c72b0;stroke:#4c72b0;\" x=\"122.768873\" xlink:href=\"#m0691d803c0\" y=\"369.384298\"/>\r\n     <use style=\"fill:#4c72b0;stroke:#4c72b0;\" x=\"137.844691\" xlink:href=\"#m0691d803c0\" y=\"361.939866\"/>\r\n     <use style=\"fill:#4c72b0;stroke:#4c72b0;\" x=\"79.020593\" xlink:href=\"#m0691d803c0\" y=\"382.53758\"/>\r\n     <use style=\"fill:#4c72b0;stroke:#4c72b0;\" x=\"86.5634\" xlink:href=\"#m0691d803c0\" y=\"326.476505\"/>\r\n     <use style=\"fill:#4c72b0;stroke:#4c72b0;\" x=\"233.295483\" xlink:href=\"#m0691d803c0\" y=\"215.751818\"/>\r\n     <use style=\"fill:#4c72b0;stroke:#4c72b0;\" x=\"81.988736\" xlink:href=\"#m0691d803c0\" y=\"380.922443\"/>\r\n     <use style=\"fill:#4c72b0;stroke:#4c72b0;\" x=\"76.503059\" xlink:href=\"#m0691d803c0\" y=\"383.188182\"/>\r\n     <use style=\"fill:#4c72b0;stroke:#4c72b0;\" x=\"76.503059\" xlink:href=\"#m0691d803c0\" y=\"383.188182\"/>\r\n     <use style=\"fill:#4c72b0;stroke:#4c72b0;\" x=\"124.914165\" xlink:href=\"#m0691d803c0\" y=\"368.171615\"/>\r\n     <use style=\"fill:#4c72b0;stroke:#4c72b0;\" x=\"133.622678\" xlink:href=\"#m0691d803c0\" y=\"363.905699\"/>\r\n     <use style=\"fill:#4c72b0;stroke:#4c72b0;\" x=\"83.252401\" xlink:href=\"#m0691d803c0\" y=\"380.571747\"/>\r\n     <use style=\"fill:#4c72b0;stroke:#4c72b0;\" x=\"86.5634\" xlink:href=\"#m0691d803c0\" y=\"326.476505\"/>\r\n     <use style=\"fill:#4c72b0;stroke:#4c72b0;\" x=\"233.295483\" xlink:href=\"#m0691d803c0\" y=\"215.751818\"/>\r\n     <use style=\"fill:#4c72b0;stroke:#4c72b0;\" x=\"79.725894\" xlink:href=\"#m0691d803c0\" y=\"375.395956\"/>\r\n     <use style=\"fill:#4c72b0;stroke:#4c72b0;\" x=\"81.969145\" xlink:href=\"#m0691d803c0\" y=\"377.281491\"/>\r\n     <use style=\"fill:#4c72b0;stroke:#4c72b0;\" x=\"106.801632\" xlink:href=\"#m0691d803c0\" y=\"352.263071\"/>\r\n     <use style=\"fill:#4c72b0;stroke:#4c72b0;\" x=\"80.068749\" xlink:href=\"#m0691d803c0\" y=\"380.670425\"/>\r\n     <use style=\"fill:#4c72b0;stroke:#4c72b0;\" x=\"120.045626\" xlink:href=\"#m0691d803c0\" y=\"331.700184\"/>\r\n     <use style=\"fill:#4c72b0;stroke:#4c72b0;\" x=\"138.755705\" xlink:href=\"#m0691d803c0\" y=\"317.312936\"/>\r\n     <use style=\"fill:#4c72b0;stroke:#4c72b0;\" x=\"88.179716\" xlink:href=\"#m0691d803c0\" y=\"370.452349\"/>\r\n     <use style=\"fill:#4c72b0;stroke:#4c72b0;\" x=\"233.295483\" xlink:href=\"#m0691d803c0\" y=\"215.751818\"/>\r\n     <use style=\"fill:#4c72b0;stroke:#4c72b0;\" x=\"127.823533\" xlink:href=\"#m0691d803c0\" y=\"319.418564\"/>\r\n     <use style=\"fill:#4c72b0;stroke:#4c72b0;\" x=\"111.48405\" xlink:href=\"#m0691d803c0\" y=\"326.467798\"/>\r\n     <use style=\"fill:#4c72b0;stroke:#4c72b0;\" x=\"77.423869\" xlink:href=\"#m0691d803c0\" y=\"380.550463\"/>\r\n     <use style=\"fill:#4c72b0;stroke:#4c72b0;\" x=\"82.116083\" xlink:href=\"#m0691d803c0\" y=\"355.425624\"/>\r\n     <use style=\"fill:#4c72b0;stroke:#4c72b0;\" x=\"77.678561\" xlink:href=\"#m0691d803c0\" y=\"373.101677\"/>\r\n     <use style=\"fill:#4c72b0;stroke:#4c72b0;\" x=\"100.071881\" xlink:href=\"#m0691d803c0\" y=\"338.99031\"/>\r\n     <use style=\"fill:#4c72b0;stroke:#4c72b0;\" x=\"76.503059\" xlink:href=\"#m0691d803c0\" y=\"383.188182\"/>\r\n     <use style=\"fill:#4c72b0;stroke:#4c72b0;\" x=\"138.736113\" xlink:href=\"#m0691d803c0\" y=\"317.342443\"/>\r\n     <use style=\"fill:#4c72b0;stroke:#4c72b0;\" x=\"88.199307\" xlink:href=\"#m0691d803c0\" y=\"370.422842\"/>\r\n     <use style=\"fill:#4c72b0;stroke:#4c72b0;\" x=\"233.295483\" xlink:href=\"#m0691d803c0\" y=\"215.751818\"/>\r\n     <use style=\"fill:#4c72b0;stroke:#4c72b0;\" x=\"147.219322\" xlink:href=\"#m0691d803c0\" y=\"307.095827\"/>\r\n     <use style=\"fill:#4c72b0;stroke:#4c72b0;\" x=\"79.608344\" xlink:href=\"#m0691d803c0\" y=\"380.845532\"/>\r\n     <use style=\"fill:#4c72b0;stroke:#4c72b0;\" x=\"150.314812\" xlink:href=\"#m0691d803c0\" y=\"304.753177\"/>\r\n     <use style=\"fill:#4c72b0;stroke:#4c72b0;\" x=\"76.503059\" xlink:href=\"#m0691d803c0\" y=\"383.188182\"/>\r\n    </g>\r\n   </g>\r\n   <g id=\"patch_12\">\r\n    <path d=\"M 68.663438 391.56 \r\nL 68.663438 207.38 \r\n\" style=\"fill:none;stroke:#ffffff;stroke-linecap:square;stroke-linejoin:miter;stroke-width:1.25;\"/>\r\n   </g>\r\n   <g id=\"patch_13\">\r\n    <path d=\"M 68.663438 391.56 \r\nL 241.135104 391.56 \r\n\" style=\"fill:none;stroke:#ffffff;stroke-linecap:square;stroke-linejoin:miter;stroke-width:1.25;\"/>\r\n   </g>\r\n  </g>\r\n  <g id=\"axes_5\">\r\n   <g id=\"patch_14\">\r\n    <path d=\"M 268.635104 391.56 \r\nL 441.106771 391.56 \r\nL 441.106771 207.38 \r\nL 268.635104 207.38 \r\nz\r\n\" style=\"fill:#eaeaf2;\"/>\r\n   </g>\r\n   <g id=\"matplotlib.axis_9\">\r\n    <g id=\"xtick_17\">\r\n     <g id=\"line2d_46\">\r\n      <path clip-path=\"url(#p90c0034e83)\" d=\"M 276.474725 391.56 \r\nL 276.474725 207.38 \r\n\" style=\"fill:none;stroke:#ffffff;stroke-linecap:round;\"/>\r\n     </g>\r\n    </g>\r\n    <g id=\"xtick_18\">\r\n     <g id=\"line2d_47\">\r\n      <path clip-path=\"url(#p90c0034e83)\" d=\"M 321.771603 391.56 \r\nL 321.771603 207.38 \r\n\" style=\"fill:none;stroke:#ffffff;stroke-linecap:round;\"/>\r\n     </g>\r\n    </g>\r\n    <g id=\"xtick_19\">\r\n     <g id=\"line2d_48\">\r\n      <path clip-path=\"url(#p90c0034e83)\" d=\"M 367.068481 391.56 \r\nL 367.068481 207.38 \r\n\" style=\"fill:none;stroke:#ffffff;stroke-linecap:round;\"/>\r\n     </g>\r\n    </g>\r\n    <g id=\"xtick_20\">\r\n     <g id=\"line2d_49\">\r\n      <path clip-path=\"url(#p90c0034e83)\" d=\"M 412.365358 391.56 \r\nL 412.365358 207.38 \r\n\" style=\"fill:none;stroke:#ffffff;stroke-linecap:round;\"/>\r\n     </g>\r\n    </g>\r\n   </g>\r\n   <g id=\"matplotlib.axis_10\">\r\n    <g id=\"ytick_30\">\r\n     <g id=\"line2d_50\">\r\n      <path clip-path=\"url(#p90c0034e83)\" d=\"M 268.635104 383.188182 \r\nL 441.106771 383.188182 \r\n\" style=\"fill:none;stroke:#ffffff;stroke-linecap:round;\"/>\r\n     </g>\r\n    </g>\r\n    <g id=\"ytick_31\">\r\n     <g id=\"line2d_51\">\r\n      <path clip-path=\"url(#p90c0034e83)\" d=\"M 268.635104 359.002241 \r\nL 441.106771 359.002241 \r\n\" style=\"fill:none;stroke:#ffffff;stroke-linecap:round;\"/>\r\n     </g>\r\n    </g>\r\n    <g id=\"ytick_32\">\r\n     <g id=\"line2d_52\">\r\n      <path clip-path=\"url(#p90c0034e83)\" d=\"M 268.635104 334.816301 \r\nL 441.106771 334.816301 \r\n\" style=\"fill:none;stroke:#ffffff;stroke-linecap:round;\"/>\r\n     </g>\r\n    </g>\r\n    <g id=\"ytick_33\">\r\n     <g id=\"line2d_53\">\r\n      <path clip-path=\"url(#p90c0034e83)\" d=\"M 268.635104 310.63036 \r\nL 441.106771 310.63036 \r\n\" style=\"fill:none;stroke:#ffffff;stroke-linecap:round;\"/>\r\n     </g>\r\n    </g>\r\n    <g id=\"ytick_34\">\r\n     <g id=\"line2d_54\">\r\n      <path clip-path=\"url(#p90c0034e83)\" d=\"M 268.635104 286.44442 \r\nL 441.106771 286.44442 \r\n\" style=\"fill:none;stroke:#ffffff;stroke-linecap:round;\"/>\r\n     </g>\r\n    </g>\r\n    <g id=\"ytick_35\">\r\n     <g id=\"line2d_55\">\r\n      <path clip-path=\"url(#p90c0034e83)\" d=\"M 268.635104 262.258479 \r\nL 441.106771 262.258479 \r\n\" style=\"fill:none;stroke:#ffffff;stroke-linecap:round;\"/>\r\n     </g>\r\n    </g>\r\n    <g id=\"ytick_36\">\r\n     <g id=\"line2d_56\">\r\n      <path clip-path=\"url(#p90c0034e83)\" d=\"M 268.635104 238.072539 \r\nL 441.106771 238.072539 \r\n\" style=\"fill:none;stroke:#ffffff;stroke-linecap:round;\"/>\r\n     </g>\r\n    </g>\r\n    <g id=\"ytick_37\">\r\n     <g id=\"line2d_57\">\r\n      <path clip-path=\"url(#p90c0034e83)\" d=\"M 268.635104 213.886598 \r\nL 441.106771 213.886598 \r\n\" style=\"fill:none;stroke:#ffffff;stroke-linecap:round;\"/>\r\n     </g>\r\n    </g>\r\n   </g>\r\n   <g id=\"patch_15\">\r\n    <path d=\"M 268.635104 391.56 \r\nL 268.635104 207.38 \r\n\" style=\"fill:none;stroke:#ffffff;stroke-linecap:square;stroke-linejoin:miter;stroke-width:1.25;\"/>\r\n   </g>\r\n   <g id=\"patch_16\">\r\n    <path d=\"M 268.635104 391.56 \r\nL 441.106771 391.56 \r\n\" style=\"fill:none;stroke:#ffffff;stroke-linecap:square;stroke-linejoin:miter;stroke-width:1.25;\"/>\r\n   </g>\r\n  </g>\r\n  <g id=\"axes_6\">\r\n   <g id=\"patch_17\">\r\n    <path d=\"M 468.606771 391.56 \r\nL 641.078438 391.56 \r\nL 641.078438 207.38 \r\nL 468.606771 207.38 \r\nz\r\n\" style=\"fill:#eaeaf2;\"/>\r\n   </g>\r\n   <g id=\"matplotlib.axis_11\">\r\n    <g id=\"xtick_21\">\r\n     <g id=\"line2d_58\">\r\n      <path clip-path=\"url(#p36bdea16f1)\" d=\"M 476.446392 391.56 \r\nL 476.446392 207.38 \r\n\" style=\"fill:none;stroke:#ffffff;stroke-linecap:round;\"/>\r\n     </g>\r\n    </g>\r\n    <g id=\"xtick_22\">\r\n     <g id=\"line2d_59\">\r\n      <path clip-path=\"url(#p36bdea16f1)\" d=\"M 522.836709 391.56 \r\nL 522.836709 207.38 \r\n\" style=\"fill:none;stroke:#ffffff;stroke-linecap:round;\"/>\r\n     </g>\r\n    </g>\r\n    <g id=\"xtick_23\">\r\n     <g id=\"line2d_60\">\r\n      <path clip-path=\"url(#p36bdea16f1)\" d=\"M 569.227026 391.56 \r\nL 569.227026 207.38 \r\n\" style=\"fill:none;stroke:#ffffff;stroke-linecap:round;\"/>\r\n     </g>\r\n    </g>\r\n    <g id=\"xtick_24\">\r\n     <g id=\"line2d_61\">\r\n      <path clip-path=\"url(#p36bdea16f1)\" d=\"M 615.617343 391.56 \r\nL 615.617343 207.38 \r\n\" style=\"fill:none;stroke:#ffffff;stroke-linecap:round;\"/>\r\n     </g>\r\n    </g>\r\n   </g>\r\n   <g id=\"matplotlib.axis_12\">\r\n    <g id=\"ytick_38\">\r\n     <g id=\"line2d_62\">\r\n      <path clip-path=\"url(#p36bdea16f1)\" d=\"M 468.606771 383.188182 \r\nL 641.078438 383.188182 \r\n\" style=\"fill:none;stroke:#ffffff;stroke-linecap:round;\"/>\r\n     </g>\r\n    </g>\r\n    <g id=\"ytick_39\">\r\n     <g id=\"line2d_63\">\r\n      <path clip-path=\"url(#p36bdea16f1)\" d=\"M 468.606771 359.002241 \r\nL 641.078438 359.002241 \r\n\" style=\"fill:none;stroke:#ffffff;stroke-linecap:round;\"/>\r\n     </g>\r\n    </g>\r\n    <g id=\"ytick_40\">\r\n     <g id=\"line2d_64\">\r\n      <path clip-path=\"url(#p36bdea16f1)\" d=\"M 468.606771 334.816301 \r\nL 641.078438 334.816301 \r\n\" style=\"fill:none;stroke:#ffffff;stroke-linecap:round;\"/>\r\n     </g>\r\n    </g>\r\n    <g id=\"ytick_41\">\r\n     <g id=\"line2d_65\">\r\n      <path clip-path=\"url(#p36bdea16f1)\" d=\"M 468.606771 310.63036 \r\nL 641.078438 310.63036 \r\n\" style=\"fill:none;stroke:#ffffff;stroke-linecap:round;\"/>\r\n     </g>\r\n    </g>\r\n    <g id=\"ytick_42\">\r\n     <g id=\"line2d_66\">\r\n      <path clip-path=\"url(#p36bdea16f1)\" d=\"M 468.606771 286.44442 \r\nL 641.078438 286.44442 \r\n\" style=\"fill:none;stroke:#ffffff;stroke-linecap:round;\"/>\r\n     </g>\r\n    </g>\r\n    <g id=\"ytick_43\">\r\n     <g id=\"line2d_67\">\r\n      <path clip-path=\"url(#p36bdea16f1)\" d=\"M 468.606771 262.258479 \r\nL 641.078438 262.258479 \r\n\" style=\"fill:none;stroke:#ffffff;stroke-linecap:round;\"/>\r\n     </g>\r\n    </g>\r\n    <g id=\"ytick_44\">\r\n     <g id=\"line2d_68\">\r\n      <path clip-path=\"url(#p36bdea16f1)\" d=\"M 468.606771 238.072539 \r\nL 641.078438 238.072539 \r\n\" style=\"fill:none;stroke:#ffffff;stroke-linecap:round;\"/>\r\n     </g>\r\n    </g>\r\n    <g id=\"ytick_45\">\r\n     <g id=\"line2d_69\">\r\n      <path clip-path=\"url(#p36bdea16f1)\" d=\"M 468.606771 213.886598 \r\nL 641.078438 213.886598 \r\n\" style=\"fill:none;stroke:#ffffff;stroke-linecap:round;\"/>\r\n     </g>\r\n    </g>\r\n   </g>\r\n   <g id=\"PathCollection_4\">\r\n    <g clip-path=\"url(#p36bdea16f1)\">\r\n     <use style=\"fill:#4c72b0;stroke:#4c72b0;\" x=\"633.238816\" xlink:href=\"#m0691d803c0\" y=\"215.751818\"/>\r\n     <use style=\"fill:#4c72b0;stroke:#4c72b0;\" x=\"488.173614\" xlink:href=\"#m0691d803c0\" y=\"371.224848\"/>\r\n     <use style=\"fill:#4c72b0;stroke:#4c72b0;\" x=\"484.36225\" xlink:href=\"#m0691d803c0\" y=\"373.379816\"/>\r\n     <use style=\"fill:#4c72b0;stroke:#4c72b0;\" x=\"476.446392\" xlink:href=\"#m0691d803c0\" y=\"383.188182\"/>\r\n     <use style=\"fill:#4c72b0;stroke:#4c72b0;\" x=\"496.563859\" xlink:href=\"#m0691d803c0\" y=\"365.970211\"/>\r\n     <use style=\"fill:#4c72b0;stroke:#4c72b0;\" x=\"505.897276\" xlink:href=\"#m0691d803c0\" y=\"355.697474\"/>\r\n     <use style=\"fill:#4c72b0;stroke:#4c72b0;\" x=\"548.124637\" xlink:href=\"#m0691d803c0\" y=\"313.659408\"/>\r\n     <use style=\"fill:#4c72b0;stroke:#4c72b0;\" x=\"484.153039\" xlink:href=\"#m0691d803c0\" y=\"374.105877\"/>\r\n     <use style=\"fill:#4c72b0;stroke:#4c72b0;\" x=\"633.238816\" xlink:href=\"#m0691d803c0\" y=\"215.751818\"/>\r\n     <use style=\"fill:#4c72b0;stroke:#4c72b0;\" x=\"481.383723\" xlink:href=\"#m0691d803c0\" y=\"375.743749\"/>\r\n     <use style=\"fill:#4c72b0;stroke:#4c72b0;\" x=\"489.527005\" xlink:href=\"#m0691d803c0\" y=\"369.384298\"/>\r\n     <use style=\"fill:#4c72b0;stroke:#4c72b0;\" x=\"494.464335\" xlink:href=\"#m0691d803c0\" y=\"361.939866\"/>\r\n     <use style=\"fill:#4c72b0;stroke:#4c72b0;\" x=\"476.759555\" xlink:href=\"#m0691d803c0\" y=\"382.53758\"/>\r\n     <use style=\"fill:#4c72b0;stroke:#4c72b0;\" x=\"537.500187\" xlink:href=\"#m0691d803c0\" y=\"326.476505\"/>\r\n     <use style=\"fill:#4c72b0;stroke:#4c72b0;\" x=\"633.238816\" xlink:href=\"#m0691d803c0\" y=\"215.751818\"/>\r\n     <use style=\"fill:#4c72b0;stroke:#4c72b0;\" x=\"478.283578\" xlink:href=\"#m0691d803c0\" y=\"380.922443\"/>\r\n     <use style=\"fill:#4c72b0;stroke:#4c72b0;\" x=\"476.446392\" xlink:href=\"#m0691d803c0\" y=\"383.188182\"/>\r\n     <use style=\"fill:#4c72b0;stroke:#4c72b0;\" x=\"476.446392\" xlink:href=\"#m0691d803c0\" y=\"383.188182\"/>\r\n     <use style=\"fill:#4c72b0;stroke:#4c72b0;\" x=\"490.649511\" xlink:href=\"#m0691d803c0\" y=\"368.171615\"/>\r\n     <use style=\"fill:#4c72b0;stroke:#4c72b0;\" x=\"493.56106\" xlink:href=\"#m0691d803c0\" y=\"363.905699\"/>\r\n     <use style=\"fill:#4c72b0;stroke:#4c72b0;\" x=\"477.66283\" xlink:href=\"#m0691d803c0\" y=\"380.571747\"/>\r\n     <use style=\"fill:#4c72b0;stroke:#4c72b0;\" x=\"537.500187\" xlink:href=\"#m0691d803c0\" y=\"326.476505\"/>\r\n     <use style=\"fill:#4c72b0;stroke:#4c72b0;\" x=\"633.238816\" xlink:href=\"#m0691d803c0\" y=\"215.751818\"/>\r\n     <use style=\"fill:#4c72b0;stroke:#4c72b0;\" x=\"485.552403\" xlink:href=\"#m0691d803c0\" y=\"375.395956\"/>\r\n     <use style=\"fill:#4c72b0;stroke:#4c72b0;\" x=\"484.510903\" xlink:href=\"#m0691d803c0\" y=\"377.281491\"/>\r\n     <use style=\"fill:#4c72b0;stroke:#4c72b0;\" x=\"509.893848\" xlink:href=\"#m0691d803c0\" y=\"352.263071\"/>\r\n     <use style=\"fill:#4c72b0;stroke:#4c72b0;\" x=\"479.677904\" xlink:href=\"#m0691d803c0\" y=\"380.670425\"/>\r\n     <use style=\"fill:#4c72b0;stroke:#4c72b0;\" x=\"526.468273\" xlink:href=\"#m0691d803c0\" y=\"331.700184\"/>\r\n     <use style=\"fill:#4c72b0;stroke:#4c72b0;\" x=\"544.935293\" xlink:href=\"#m0691d803c0\" y=\"317.312936\"/>\r\n     <use style=\"fill:#4c72b0;stroke:#4c72b0;\" x=\"487.342383\" xlink:href=\"#m0691d803c0\" y=\"370.452349\"/>\r\n     <use style=\"fill:#4c72b0;stroke:#4c72b0;\" x=\"633.238816\" xlink:href=\"#m0691d803c0\" y=\"215.751818\"/>\r\n     <use style=\"fill:#4c72b0;stroke:#4c72b0;\" x=\"543.26706\" xlink:href=\"#m0691d803c0\" y=\"319.418564\"/>\r\n     <use style=\"fill:#4c72b0;stroke:#4c72b0;\" x=\"532.707798\" xlink:href=\"#m0691d803c0\" y=\"326.467798\"/>\r\n     <use style=\"fill:#4c72b0;stroke:#4c72b0;\" x=\"478.758578\" xlink:href=\"#m0691d803c0\" y=\"380.550463\"/>\r\n     <use style=\"fill:#4c72b0;stroke:#4c72b0;\" x=\"506.376228\" xlink:href=\"#m0691d803c0\" y=\"355.425624\"/>\r\n     <use style=\"fill:#4c72b0;stroke:#4c72b0;\" x=\"487.36247\" xlink:href=\"#m0691d803c0\" y=\"373.101677\"/>\r\n     <use style=\"fill:#4c72b0;stroke:#4c72b0;\" x=\"527.47356\" xlink:href=\"#m0691d803c0\" y=\"338.99031\"/>\r\n     <use style=\"fill:#4c72b0;stroke:#4c72b0;\" x=\"476.446392\" xlink:href=\"#m0691d803c0\" y=\"383.188182\"/>\r\n     <use style=\"fill:#4c72b0;stroke:#4c72b0;\" x=\"544.941732\" xlink:href=\"#m0691d803c0\" y=\"317.342443\"/>\r\n     <use style=\"fill:#4c72b0;stroke:#4c72b0;\" x=\"487.335953\" xlink:href=\"#m0691d803c0\" y=\"370.422842\"/>\r\n     <use style=\"fill:#4c72b0;stroke:#4c72b0;\" x=\"633.238816\" xlink:href=\"#m0691d803c0\" y=\"215.751818\"/>\r\n     <use style=\"fill:#4c72b0;stroke:#4c72b0;\" x=\"555.008746\" xlink:href=\"#m0691d803c0\" y=\"307.095827\"/>\r\n     <use style=\"fill:#4c72b0;stroke:#4c72b0;\" x=\"477.101897\" xlink:href=\"#m0691d803c0\" y=\"380.845532\"/>\r\n     <use style=\"fill:#4c72b0;stroke:#4c72b0;\" x=\"555.664251\" xlink:href=\"#m0691d803c0\" y=\"304.753177\"/>\r\n     <use style=\"fill:#4c72b0;stroke:#4c72b0;\" x=\"476.446392\" xlink:href=\"#m0691d803c0\" y=\"383.188182\"/>\r\n    </g>\r\n   </g>\r\n   <g id=\"patch_18\">\r\n    <path d=\"M 468.606771 391.56 \r\nL 468.606771 207.38 \r\n\" style=\"fill:none;stroke:#ffffff;stroke-linecap:square;stroke-linejoin:miter;stroke-width:1.25;\"/>\r\n   </g>\r\n   <g id=\"patch_19\">\r\n    <path d=\"M 468.606771 391.56 \r\nL 641.078438 391.56 \r\n\" style=\"fill:none;stroke:#ffffff;stroke-linecap:square;stroke-linejoin:miter;stroke-width:1.25;\"/>\r\n   </g>\r\n  </g>\r\n  <g id=\"axes_7\">\r\n   <g id=\"patch_20\">\r\n    <path d=\"M 68.663438 591.74 \r\nL 241.135104 591.74 \r\nL 241.135104 407.56 \r\nL 68.663438 407.56 \r\nz\r\n\" style=\"fill:#eaeaf2;\"/>\r\n   </g>\r\n   <g id=\"matplotlib.axis_13\">\r\n    <g id=\"xtick_25\">\r\n     <g id=\"line2d_70\">\r\n      <path clip-path=\"url(#p0a5c17cc96)\" d=\"M 76.503059 591.74 \r\nL 76.503059 407.56 \r\n\" style=\"fill:none;stroke:#ffffff;stroke-linecap:round;\"/>\r\n     </g>\r\n     <g id=\"text_18\">\r\n      <!-- 0 -->\r\n      <g style=\"fill:#262626;\" transform=\"translate(73.444543 609.113594)scale(0.11 -0.11)\">\r\n       <use xlink:href=\"#ArialMT-48\"/>\r\n      </g>\r\n     </g>\r\n    </g>\r\n    <g id=\"xtick_26\">\r\n     <g id=\"line2d_71\">\r\n      <path clip-path=\"url(#p0a5c17cc96)\" d=\"M 125.482324 591.74 \r\nL 125.482324 407.56 \r\n\" style=\"fill:none;stroke:#ffffff;stroke-linecap:round;\"/>\r\n     </g>\r\n     <g id=\"text_19\">\r\n      <!-- 5000 -->\r\n      <g style=\"fill:#262626;\" transform=\"translate(113.248262 609.113594)scale(0.11 -0.11)\">\r\n       <use xlink:href=\"#ArialMT-53\"/>\r\n       <use x=\"55.615234\" xlink:href=\"#ArialMT-48\"/>\r\n       <use x=\"111.230469\" xlink:href=\"#ArialMT-48\"/>\r\n       <use x=\"166.845703\" xlink:href=\"#ArialMT-48\"/>\r\n      </g>\r\n     </g>\r\n    </g>\r\n    <g id=\"xtick_27\">\r\n     <g id=\"line2d_72\">\r\n      <path clip-path=\"url(#p0a5c17cc96)\" d=\"M 174.461589 591.74 \r\nL 174.461589 407.56 \r\n\" style=\"fill:none;stroke:#ffffff;stroke-linecap:round;\"/>\r\n     </g>\r\n     <g id=\"text_20\">\r\n      <!-- 10000 -->\r\n      <g style=\"fill:#262626;\" transform=\"translate(159.169011 609.113594)scale(0.11 -0.11)\">\r\n       <use xlink:href=\"#ArialMT-49\"/>\r\n       <use x=\"55.615234\" xlink:href=\"#ArialMT-48\"/>\r\n       <use x=\"111.230469\" xlink:href=\"#ArialMT-48\"/>\r\n       <use x=\"166.845703\" xlink:href=\"#ArialMT-48\"/>\r\n       <use x=\"222.460938\" xlink:href=\"#ArialMT-48\"/>\r\n      </g>\r\n     </g>\r\n    </g>\r\n    <g id=\"xtick_28\">\r\n     <g id=\"line2d_73\">\r\n      <path clip-path=\"url(#p0a5c17cc96)\" d=\"M 223.440855 591.74 \r\nL 223.440855 407.56 \r\n\" style=\"fill:none;stroke:#ffffff;stroke-linecap:round;\"/>\r\n     </g>\r\n     <g id=\"text_21\">\r\n      <!-- 15000 -->\r\n      <g style=\"fill:#262626;\" transform=\"translate(208.148277 609.113594)scale(0.11 -0.11)\">\r\n       <use xlink:href=\"#ArialMT-49\"/>\r\n       <use x=\"55.615234\" xlink:href=\"#ArialMT-53\"/>\r\n       <use x=\"111.230469\" xlink:href=\"#ArialMT-48\"/>\r\n       <use x=\"166.845703\" xlink:href=\"#ArialMT-48\"/>\r\n       <use x=\"222.460938\" xlink:href=\"#ArialMT-48\"/>\r\n      </g>\r\n     </g>\r\n    </g>\r\n    <g id=\"text_22\">\r\n     <!-- Number of employer firms -->\r\n     <g style=\"fill:#262626;\" transform=\"translate(85.886146 624.035469)scale(0.12 -0.12)\">\r\n      <use xlink:href=\"#ArialMT-78\"/>\r\n      <use x=\"72.216797\" xlink:href=\"#ArialMT-117\"/>\r\n      <use x=\"127.832031\" xlink:href=\"#ArialMT-109\"/>\r\n      <use x=\"211.132812\" xlink:href=\"#ArialMT-98\"/>\r\n      <use x=\"266.748047\" xlink:href=\"#ArialMT-101\"/>\r\n      <use x=\"322.363281\" xlink:href=\"#ArialMT-114\"/>\r\n      <use x=\"355.664062\" xlink:href=\"#ArialMT-32\"/>\r\n      <use x=\"383.447266\" xlink:href=\"#ArialMT-111\"/>\r\n      <use x=\"439.0625\" xlink:href=\"#ArialMT-102\"/>\r\n      <use x=\"466.845703\" xlink:href=\"#ArialMT-32\"/>\r\n      <use x=\"494.628906\" xlink:href=\"#ArialMT-101\"/>\r\n      <use x=\"550.244141\" xlink:href=\"#ArialMT-109\"/>\r\n      <use x=\"633.544922\" xlink:href=\"#ArialMT-112\"/>\r\n      <use x=\"689.160156\" xlink:href=\"#ArialMT-108\"/>\r\n      <use x=\"711.376953\" xlink:href=\"#ArialMT-111\"/>\r\n      <use x=\"766.992188\" xlink:href=\"#ArialMT-121\"/>\r\n      <use x=\"816.992188\" xlink:href=\"#ArialMT-101\"/>\r\n      <use x=\"872.607422\" xlink:href=\"#ArialMT-114\"/>\r\n      <use x=\"905.908203\" xlink:href=\"#ArialMT-32\"/>\r\n      <use x=\"933.691406\" xlink:href=\"#ArialMT-102\"/>\r\n      <use x=\"961.474609\" xlink:href=\"#ArialMT-105\"/>\r\n      <use x=\"983.691406\" xlink:href=\"#ArialMT-114\"/>\r\n      <use x=\"1016.992188\" xlink:href=\"#ArialMT-109\"/>\r\n      <use x=\"1100.292969\" xlink:href=\"#ArialMT-115\"/>\r\n     </g>\r\n    </g>\r\n   </g>\r\n   <g id=\"matplotlib.axis_14\">\r\n    <g id=\"ytick_46\">\r\n     <g id=\"line2d_74\">\r\n      <path clip-path=\"url(#p0a5c17cc96)\" d=\"M 68.663438 583.368182 \r\nL 241.135104 583.368182 \r\n\" style=\"fill:none;stroke:#ffffff;stroke-linecap:round;\"/>\r\n     </g>\r\n     <g id=\"text_23\">\r\n      <!-- 0.00 -->\r\n      <g style=\"fill:#262626;\" transform=\"translate(37.756406 587.304979)scale(0.11 -0.11)\">\r\n       <defs>\r\n        <path d=\"M 9.078125 0 \r\nL 9.078125 10.015625 \r\nL 19.09375 10.015625 \r\nL 19.09375 0 \r\nz\r\n\" id=\"ArialMT-46\"/>\r\n       </defs>\r\n       <use xlink:href=\"#ArialMT-48\"/>\r\n       <use x=\"55.615234\" xlink:href=\"#ArialMT-46\"/>\r\n       <use x=\"83.398438\" xlink:href=\"#ArialMT-48\"/>\r\n       <use x=\"139.013672\" xlink:href=\"#ArialMT-48\"/>\r\n      </g>\r\n     </g>\r\n    </g>\r\n    <g id=\"ytick_47\">\r\n     <g id=\"line2d_75\">\r\n      <path clip-path=\"url(#p0a5c17cc96)\" d=\"M 68.663438 558.598407 \r\nL 241.135104 558.598407 \r\n\" style=\"fill:none;stroke:#ffffff;stroke-linecap:round;\"/>\r\n     </g>\r\n     <g id=\"text_24\">\r\n      <!-- 0.25 -->\r\n      <g style=\"fill:#262626;\" transform=\"translate(37.756406 562.535204)scale(0.11 -0.11)\">\r\n       <use xlink:href=\"#ArialMT-48\"/>\r\n       <use x=\"55.615234\" xlink:href=\"#ArialMT-46\"/>\r\n       <use x=\"83.398438\" xlink:href=\"#ArialMT-50\"/>\r\n       <use x=\"139.013672\" xlink:href=\"#ArialMT-53\"/>\r\n      </g>\r\n     </g>\r\n    </g>\r\n    <g id=\"ytick_48\">\r\n     <g id=\"line2d_76\">\r\n      <path clip-path=\"url(#p0a5c17cc96)\" d=\"M 68.663438 533.828633 \r\nL 241.135104 533.828633 \r\n\" style=\"fill:none;stroke:#ffffff;stroke-linecap:round;\"/>\r\n     </g>\r\n     <g id=\"text_25\">\r\n      <!-- 0.50 -->\r\n      <g style=\"fill:#262626;\" transform=\"translate(37.756406 537.76543)scale(0.11 -0.11)\">\r\n       <use xlink:href=\"#ArialMT-48\"/>\r\n       <use x=\"55.615234\" xlink:href=\"#ArialMT-46\"/>\r\n       <use x=\"83.398438\" xlink:href=\"#ArialMT-53\"/>\r\n       <use x=\"139.013672\" xlink:href=\"#ArialMT-48\"/>\r\n      </g>\r\n     </g>\r\n    </g>\r\n    <g id=\"ytick_49\">\r\n     <g id=\"line2d_77\">\r\n      <path clip-path=\"url(#p0a5c17cc96)\" d=\"M 68.663438 509.058858 \r\nL 241.135104 509.058858 \r\n\" style=\"fill:none;stroke:#ffffff;stroke-linecap:round;\"/>\r\n     </g>\r\n     <g id=\"text_26\">\r\n      <!-- 0.75 -->\r\n      <g style=\"fill:#262626;\" transform=\"translate(37.756406 512.995655)scale(0.11 -0.11)\">\r\n       <use xlink:href=\"#ArialMT-48\"/>\r\n       <use x=\"55.615234\" xlink:href=\"#ArialMT-46\"/>\r\n       <use x=\"83.398438\" xlink:href=\"#ArialMT-55\"/>\r\n       <use x=\"139.013672\" xlink:href=\"#ArialMT-53\"/>\r\n      </g>\r\n     </g>\r\n    </g>\r\n    <g id=\"ytick_50\">\r\n     <g id=\"line2d_78\">\r\n      <path clip-path=\"url(#p0a5c17cc96)\" d=\"M 68.663438 484.289084 \r\nL 241.135104 484.289084 \r\n\" style=\"fill:none;stroke:#ffffff;stroke-linecap:round;\"/>\r\n     </g>\r\n     <g id=\"text_27\">\r\n      <!-- 1.00 -->\r\n      <g style=\"fill:#262626;\" transform=\"translate(37.756406 488.225881)scale(0.11 -0.11)\">\r\n       <use xlink:href=\"#ArialMT-49\"/>\r\n       <use x=\"55.615234\" xlink:href=\"#ArialMT-46\"/>\r\n       <use x=\"83.398438\" xlink:href=\"#ArialMT-48\"/>\r\n       <use x=\"139.013672\" xlink:href=\"#ArialMT-48\"/>\r\n      </g>\r\n     </g>\r\n    </g>\r\n    <g id=\"ytick_51\">\r\n     <g id=\"line2d_79\">\r\n      <path clip-path=\"url(#p0a5c17cc96)\" d=\"M 68.663438 459.519309 \r\nL 241.135104 459.519309 \r\n\" style=\"fill:none;stroke:#ffffff;stroke-linecap:round;\"/>\r\n     </g>\r\n     <g id=\"text_28\">\r\n      <!-- 1.25 -->\r\n      <g style=\"fill:#262626;\" transform=\"translate(37.756406 463.456106)scale(0.11 -0.11)\">\r\n       <use xlink:href=\"#ArialMT-49\"/>\r\n       <use x=\"55.615234\" xlink:href=\"#ArialMT-46\"/>\r\n       <use x=\"83.398438\" xlink:href=\"#ArialMT-50\"/>\r\n       <use x=\"139.013672\" xlink:href=\"#ArialMT-53\"/>\r\n      </g>\r\n     </g>\r\n    </g>\r\n    <g id=\"ytick_52\">\r\n     <g id=\"line2d_80\">\r\n      <path clip-path=\"url(#p0a5c17cc96)\" d=\"M 68.663438 434.749535 \r\nL 241.135104 434.749535 \r\n\" style=\"fill:none;stroke:#ffffff;stroke-linecap:round;\"/>\r\n     </g>\r\n     <g id=\"text_29\">\r\n      <!-- 1.50 -->\r\n      <g style=\"fill:#262626;\" transform=\"translate(37.756406 438.686332)scale(0.11 -0.11)\">\r\n       <use xlink:href=\"#ArialMT-49\"/>\r\n       <use x=\"55.615234\" xlink:href=\"#ArialMT-46\"/>\r\n       <use x=\"83.398438\" xlink:href=\"#ArialMT-53\"/>\r\n       <use x=\"139.013672\" xlink:href=\"#ArialMT-48\"/>\r\n      </g>\r\n     </g>\r\n    </g>\r\n    <g id=\"ytick_53\">\r\n     <g id=\"line2d_81\">\r\n      <path clip-path=\"url(#p0a5c17cc96)\" d=\"M 68.663438 409.97976 \r\nL 241.135104 409.97976 \r\n\" style=\"fill:none;stroke:#ffffff;stroke-linecap:round;\"/>\r\n     </g>\r\n     <g id=\"text_30\">\r\n      <!-- 1.75 -->\r\n      <g style=\"fill:#262626;\" transform=\"translate(37.756406 413.916557)scale(0.11 -0.11)\">\r\n       <use xlink:href=\"#ArialMT-49\"/>\r\n       <use x=\"55.615234\" xlink:href=\"#ArialMT-46\"/>\r\n       <use x=\"83.398438\" xlink:href=\"#ArialMT-55\"/>\r\n       <use x=\"139.013672\" xlink:href=\"#ArialMT-53\"/>\r\n      </g>\r\n     </g>\r\n    </g>\r\n    <g id=\"text_31\">\r\n     <!-- Annual payroll ($10-Millions) -->\r\n     <g style=\"fill:#262626;\" transform=\"translate(31.230781 575.345625)rotate(-90)scale(0.12 -0.12)\">\r\n      <defs>\r\n       <path d=\"M -0.140625 0 \r\nL 27.34375 71.578125 \r\nL 37.546875 71.578125 \r\nL 66.84375 0 \r\nL 56.0625 0 \r\nL 47.703125 21.6875 \r\nL 17.78125 21.6875 \r\nL 9.90625 0 \r\nz\r\nM 20.515625 29.390625 \r\nL 44.78125 29.390625 \r\nL 37.3125 49.21875 \r\nQ 33.890625 58.25 32.234375 64.0625 \r\nQ 30.859375 57.171875 28.375 50.390625 \r\nz\r\n\" id=\"ArialMT-65\"/>\r\n       <path d=\"M 6.59375 0 \r\nL 6.59375 51.859375 \r\nL 14.5 51.859375 \r\nL 14.5 44.484375 \r\nQ 20.21875 53.03125 31 53.03125 \r\nQ 35.6875 53.03125 39.625 51.34375 \r\nQ 43.5625 49.65625 45.515625 46.921875 \r\nQ 47.46875 44.1875 48.25 40.4375 \r\nQ 48.734375 37.984375 48.734375 31.890625 \r\nL 48.734375 0 \r\nL 39.9375 0 \r\nL 39.9375 31.546875 \r\nQ 39.9375 36.921875 38.90625 39.578125 \r\nQ 37.890625 42.234375 35.28125 43.8125 \r\nQ 32.671875 45.40625 29.15625 45.40625 \r\nQ 23.53125 45.40625 19.453125 41.84375 \r\nQ 15.375 38.28125 15.375 28.328125 \r\nL 15.375 0 \r\nz\r\n\" id=\"ArialMT-110\"/>\r\n       <path d=\"M 40.4375 6.390625 \r\nQ 35.546875 2.25 31.03125 0.53125 \r\nQ 26.515625 -1.171875 21.34375 -1.171875 \r\nQ 12.796875 -1.171875 8.203125 3 \r\nQ 3.609375 7.171875 3.609375 13.671875 \r\nQ 3.609375 17.484375 5.34375 20.625 \r\nQ 7.078125 23.78125 9.890625 25.6875 \r\nQ 12.703125 27.59375 16.21875 28.5625 \r\nQ 18.796875 29.25 24.03125 29.890625 \r\nQ 34.671875 31.15625 39.703125 32.90625 \r\nQ 39.75 34.71875 39.75 35.203125 \r\nQ 39.75 40.578125 37.25 42.78125 \r\nQ 33.890625 45.75 27.25 45.75 \r\nQ 21.046875 45.75 18.09375 43.578125 \r\nQ 15.140625 41.40625 13.71875 35.890625 \r\nL 5.125 37.0625 \r\nQ 6.296875 42.578125 8.984375 45.96875 \r\nQ 11.671875 49.359375 16.75 51.1875 \r\nQ 21.828125 53.03125 28.515625 53.03125 \r\nQ 35.15625 53.03125 39.296875 51.46875 \r\nQ 43.453125 49.90625 45.40625 47.53125 \r\nQ 47.359375 45.171875 48.140625 41.546875 \r\nQ 48.578125 39.3125 48.578125 33.453125 \r\nL 48.578125 21.734375 \r\nQ 48.578125 9.46875 49.140625 6.21875 \r\nQ 49.703125 2.984375 51.375 0 \r\nL 42.1875 0 \r\nQ 40.828125 2.734375 40.4375 6.390625 \r\nz\r\nM 39.703125 26.03125 \r\nQ 34.90625 24.078125 25.34375 22.703125 \r\nQ 19.921875 21.921875 17.671875 20.9375 \r\nQ 15.4375 19.96875 14.203125 18.09375 \r\nQ 12.984375 16.21875 12.984375 13.921875 \r\nQ 12.984375 10.40625 15.640625 8.0625 \r\nQ 18.3125 5.71875 23.4375 5.71875 \r\nQ 28.515625 5.71875 32.46875 7.9375 \r\nQ 36.421875 10.15625 38.28125 14.015625 \r\nQ 39.703125 17 39.703125 22.796875 \r\nz\r\n\" id=\"ArialMT-97\"/>\r\n       <path d=\"M 23.390625 -21.046875 \r\nQ 16.109375 -11.859375 11.078125 0.4375 \r\nQ 6.0625 12.75 6.0625 25.921875 \r\nQ 6.0625 37.546875 9.8125 48.1875 \r\nQ 14.203125 60.546875 23.390625 72.796875 \r\nL 29.6875 72.796875 \r\nQ 23.78125 62.640625 21.875 58.296875 \r\nQ 18.890625 51.5625 17.1875 44.234375 \r\nQ 15.09375 35.109375 15.09375 25.875 \r\nQ 15.09375 2.390625 29.6875 -21.046875 \r\nz\r\n\" id=\"ArialMT-40\"/>\r\n       <path d=\"M 24.90625 -10.296875 \r\nL 24.90625 -1.515625 \r\nQ 18.3125 -0.6875 14.1875 1.4375 \r\nQ 10.0625 3.5625 7.046875 8.296875 \r\nQ 4.046875 13.03125 3.5625 19.875 \r\nL 12.40625 21.53125 \r\nQ 13.421875 14.453125 16.015625 11.140625 \r\nQ 19.734375 6.453125 24.90625 5.90625 \r\nL 24.90625 33.890625 \r\nQ 19.484375 34.90625 13.8125 38.09375 \r\nQ 9.625 40.4375 7.34375 44.578125 \r\nQ 5.078125 48.734375 5.078125 54 \r\nQ 5.078125 63.375 11.71875 69.1875 \r\nQ 16.15625 73.09375 24.90625 73.96875 \r\nL 24.90625 78.171875 \r\nL 30.078125 78.171875 \r\nL 30.078125 73.96875 \r\nQ 37.75 73.25 42.234375 69.484375 \r\nQ 48 64.703125 49.171875 56.34375 \r\nL 40.09375 54.984375 \r\nQ 39.3125 60.15625 36.84375 62.90625 \r\nQ 34.375 65.671875 30.078125 66.546875 \r\nL 30.078125 41.21875 \r\nQ 36.71875 39.546875 38.875 38.625 \r\nQ 42.96875 36.8125 45.546875 34.21875 \r\nQ 48.140625 31.640625 49.53125 28.078125 \r\nQ 50.921875 24.515625 50.921875 20.359375 \r\nQ 50.921875 11.234375 45.109375 5.125 \r\nQ 39.3125 -0.984375 30.078125 -1.421875 \r\nL 30.078125 -10.296875 \r\nz\r\nM 24.90625 66.65625 \r\nQ 19.78125 65.875 16.828125 62.546875 \r\nQ 13.875 59.234375 13.875 54.6875 \r\nQ 13.875 50.203125 16.375 47.171875 \r\nQ 18.890625 44.140625 24.90625 42.328125 \r\nz\r\nM 30.078125 5.90625 \r\nQ 35.203125 6.546875 38.546875 10.34375 \r\nQ 41.890625 14.15625 41.890625 19.78125 \r\nQ 41.890625 24.5625 39.515625 27.46875 \r\nQ 37.15625 30.375 30.078125 32.671875 \r\nz\r\n\" id=\"ArialMT-36\"/>\r\n       <path d=\"M 3.171875 21.484375 \r\nL 3.171875 30.328125 \r\nL 30.171875 30.328125 \r\nL 30.171875 21.484375 \r\nz\r\n\" id=\"ArialMT-45\"/>\r\n       <path d=\"M 7.421875 0 \r\nL 7.421875 71.578125 \r\nL 21.6875 71.578125 \r\nL 38.625 20.90625 \r\nQ 40.96875 13.8125 42.046875 10.296875 \r\nQ 43.265625 14.203125 45.84375 21.78125 \r\nL 62.984375 71.578125 \r\nL 75.734375 71.578125 \r\nL 75.734375 0 \r\nL 66.609375 0 \r\nL 66.609375 59.90625 \r\nL 45.796875 0 \r\nL 37.25 0 \r\nL 16.546875 60.9375 \r\nL 16.546875 0 \r\nz\r\n\" id=\"ArialMT-77\"/>\r\n       <path d=\"M 12.359375 -21.046875 \r\nL 6.0625 -21.046875 \r\nQ 20.65625 2.390625 20.65625 25.875 \r\nQ 20.65625 35.0625 18.5625 44.09375 \r\nQ 16.890625 51.421875 13.921875 58.15625 \r\nQ 12.015625 62.546875 6.0625 72.796875 \r\nL 12.359375 72.796875 \r\nQ 21.53125 60.546875 25.921875 48.1875 \r\nQ 29.6875 37.546875 29.6875 25.921875 \r\nQ 29.6875 12.75 24.625 0.4375 \r\nQ 19.578125 -11.859375 12.359375 -21.046875 \r\nz\r\n\" id=\"ArialMT-41\"/>\r\n      </defs>\r\n      <use xlink:href=\"#ArialMT-65\"/>\r\n      <use x=\"66.699219\" xlink:href=\"#ArialMT-110\"/>\r\n      <use x=\"122.314453\" xlink:href=\"#ArialMT-110\"/>\r\n      <use x=\"177.929688\" xlink:href=\"#ArialMT-117\"/>\r\n      <use x=\"233.544922\" xlink:href=\"#ArialMT-97\"/>\r\n      <use x=\"289.160156\" xlink:href=\"#ArialMT-108\"/>\r\n      <use x=\"311.376953\" xlink:href=\"#ArialMT-32\"/>\r\n      <use x=\"339.160156\" xlink:href=\"#ArialMT-112\"/>\r\n      <use x=\"394.775391\" xlink:href=\"#ArialMT-97\"/>\r\n      <use x=\"450.390625\" xlink:href=\"#ArialMT-121\"/>\r\n      <use x=\"500.390625\" xlink:href=\"#ArialMT-114\"/>\r\n      <use x=\"533.691406\" xlink:href=\"#ArialMT-111\"/>\r\n      <use x=\"589.306641\" xlink:href=\"#ArialMT-108\"/>\r\n      <use x=\"611.523438\" xlink:href=\"#ArialMT-108\"/>\r\n      <use x=\"633.740234\" xlink:href=\"#ArialMT-32\"/>\r\n      <use x=\"661.523438\" xlink:href=\"#ArialMT-40\"/>\r\n      <use x=\"694.824219\" xlink:href=\"#ArialMT-36\"/>\r\n      <use x=\"750.439453\" xlink:href=\"#ArialMT-49\"/>\r\n      <use x=\"806.054688\" xlink:href=\"#ArialMT-48\"/>\r\n      <use x=\"861.669922\" xlink:href=\"#ArialMT-45\"/>\r\n      <use x=\"894.970703\" xlink:href=\"#ArialMT-77\"/>\r\n      <use x=\"978.271484\" xlink:href=\"#ArialMT-105\"/>\r\n      <use x=\"1000.488281\" xlink:href=\"#ArialMT-108\"/>\r\n      <use x=\"1022.705078\" xlink:href=\"#ArialMT-108\"/>\r\n      <use x=\"1044.921875\" xlink:href=\"#ArialMT-105\"/>\r\n      <use x=\"1067.138672\" xlink:href=\"#ArialMT-111\"/>\r\n      <use x=\"1122.753906\" xlink:href=\"#ArialMT-110\"/>\r\n      <use x=\"1178.369141\" xlink:href=\"#ArialMT-115\"/>\r\n      <use x=\"1228.369141\" xlink:href=\"#ArialMT-41\"/>\r\n     </g>\r\n    </g>\r\n    <g id=\"text_32\">\r\n     <!-- 1e7 -->\r\n     <g style=\"fill:#262626;\" transform=\"translate(68.663438 404.56)scale(0.11 -0.11)\">\r\n      <use xlink:href=\"#ArialMT-49\"/>\r\n      <use x=\"55.615234\" xlink:href=\"#ArialMT-101\"/>\r\n      <use x=\"111.230469\" xlink:href=\"#ArialMT-55\"/>\r\n     </g>\r\n    </g>\r\n   </g>\r\n   <g id=\"PathCollection_5\">\r\n    <g clip-path=\"url(#p0a5c17cc96)\">\r\n     <use style=\"fill:#4c72b0;stroke:#4c72b0;\" x=\"233.295483\" xlink:href=\"#m0691d803c0\" y=\"415.931818\"/>\r\n     <use style=\"fill:#4c72b0;stroke:#4c72b0;\" x=\"116.313406\" xlink:href=\"#m0691d803c0\" y=\"570.844851\"/>\r\n     <use style=\"fill:#4c72b0;stroke:#4c72b0;\" x=\"95.183751\" xlink:href=\"#m0691d803c0\" y=\"574.914951\"/>\r\n     <use style=\"fill:#4c72b0;stroke:#4c72b0;\" x=\"76.503059\" xlink:href=\"#m0691d803c0\" y=\"583.368182\"/>\r\n     <use style=\"fill:#4c72b0;stroke:#4c72b0;\" x=\"79.265489\" xlink:href=\"#m0691d803c0\" y=\"561.885029\"/>\r\n     <use style=\"fill:#4c72b0;stroke:#4c72b0;\" x=\"80.529154\" xlink:href=\"#m0691d803c0\" y=\"551.918009\"/>\r\n     <use style=\"fill:#4c72b0;stroke:#4c72b0;\" x=\"144.907501\" xlink:href=\"#m0691d803c0\" y=\"506.82402\"/>\r\n     <use style=\"fill:#4c72b0;stroke:#4c72b0;\" x=\"82.018124\" xlink:href=\"#m0691d803c0\" y=\"575.138365\"/>\r\n     <use style=\"fill:#4c72b0;stroke:#4c72b0;\" x=\"233.295483\" xlink:href=\"#m0691d803c0\" y=\"415.931818\"/>\r\n     <use style=\"fill:#4c72b0;stroke:#4c72b0;\" x=\"91.588672\" xlink:href=\"#m0691d803c0\" y=\"578.095678\"/>\r\n     <use style=\"fill:#4c72b0;stroke:#4c72b0;\" x=\"122.768873\" xlink:href=\"#m0691d803c0\" y=\"569.399585\"/>\r\n     <use style=\"fill:#4c72b0;stroke:#4c72b0;\" x=\"137.844691\" xlink:href=\"#m0691d803c0\" y=\"564.12708\"/>\r\n     <use style=\"fill:#4c72b0;stroke:#4c72b0;\" x=\"79.020593\" xlink:href=\"#m0691d803c0\" y=\"583.03376\"/>\r\n     <use style=\"fill:#4c72b0;stroke:#4c72b0;\" x=\"86.5634\" xlink:href=\"#m0691d803c0\" y=\"518.169716\"/>\r\n     <use style=\"fill:#4c72b0;stroke:#4c72b0;\" x=\"233.295483\" xlink:href=\"#m0691d803c0\" y=\"415.931818\"/>\r\n     <use style=\"fill:#4c72b0;stroke:#4c72b0;\" x=\"81.988736\" xlink:href=\"#m0691d803c0\" y=\"581.406277\"/>\r\n     <use style=\"fill:#4c72b0;stroke:#4c72b0;\" x=\"76.503059\" xlink:href=\"#m0691d803c0\" y=\"583.368182\"/>\r\n     <use style=\"fill:#4c72b0;stroke:#4c72b0;\" x=\"76.503059\" xlink:href=\"#m0691d803c0\" y=\"583.368182\"/>\r\n     <use style=\"fill:#4c72b0;stroke:#4c72b0;\" x=\"124.914165\" xlink:href=\"#m0691d803c0\" y=\"568.200876\"/>\r\n     <use style=\"fill:#4c72b0;stroke:#4c72b0;\" x=\"133.622678\" xlink:href=\"#m0691d803c0\" y=\"565.091675\"/>\r\n     <use style=\"fill:#4c72b0;stroke:#4c72b0;\" x=\"83.252401\" xlink:href=\"#m0691d803c0\" y=\"582.069166\"/>\r\n     <use style=\"fill:#4c72b0;stroke:#4c72b0;\" x=\"86.5634\" xlink:href=\"#m0691d803c0\" y=\"518.169716\"/>\r\n     <use style=\"fill:#4c72b0;stroke:#4c72b0;\" x=\"233.295483\" xlink:href=\"#m0691d803c0\" y=\"415.931818\"/>\r\n     <use style=\"fill:#4c72b0;stroke:#4c72b0;\" x=\"79.725894\" xlink:href=\"#m0691d803c0\" y=\"573.644004\"/>\r\n     <use style=\"fill:#4c72b0;stroke:#4c72b0;\" x=\"81.969145\" xlink:href=\"#m0691d803c0\" y=\"574.756207\"/>\r\n     <use style=\"fill:#4c72b0;stroke:#4c72b0;\" x=\"106.801632\" xlink:href=\"#m0691d803c0\" y=\"547.650127\"/>\r\n     <use style=\"fill:#4c72b0;stroke:#4c72b0;\" x=\"80.068749\" xlink:href=\"#m0691d803c0\" y=\"579.917296\"/>\r\n     <use style=\"fill:#4c72b0;stroke:#4c72b0;\" x=\"120.045626\" xlink:href=\"#m0691d803c0\" y=\"529.950538\"/>\r\n     <use style=\"fill:#4c72b0;stroke:#4c72b0;\" x=\"138.755705\" xlink:href=\"#m0691d803c0\" y=\"510.229874\"/>\r\n     <use style=\"fill:#4c72b0;stroke:#4c72b0;\" x=\"88.179716\" xlink:href=\"#m0691d803c0\" y=\"571.732511\"/>\r\n     <use style=\"fill:#4c72b0;stroke:#4c72b0;\" x=\"233.295483\" xlink:href=\"#m0691d803c0\" y=\"415.931818\"/>\r\n     <use style=\"fill:#4c72b0;stroke:#4c72b0;\" x=\"127.823533\" xlink:href=\"#m0691d803c0\" y=\"512.011356\"/>\r\n     <use style=\"fill:#4c72b0;stroke:#4c72b0;\" x=\"111.48405\" xlink:href=\"#m0691d803c0\" y=\"523.287439\"/>\r\n     <use style=\"fill:#4c72b0;stroke:#4c72b0;\" x=\"77.423869\" xlink:href=\"#m0691d803c0\" y=\"580.899032\"/>\r\n     <use style=\"fill:#4c72b0;stroke:#4c72b0;\" x=\"82.116083\" xlink:href=\"#m0691d803c0\" y=\"551.406543\"/>\r\n     <use style=\"fill:#4c72b0;stroke:#4c72b0;\" x=\"77.678561\" xlink:href=\"#m0691d803c0\" y=\"571.71106\"/>\r\n     <use style=\"fill:#4c72b0;stroke:#4c72b0;\" x=\"100.071881\" xlink:href=\"#m0691d803c0\" y=\"528.877006\"/>\r\n     <use style=\"fill:#4c72b0;stroke:#4c72b0;\" x=\"76.503059\" xlink:href=\"#m0691d803c0\" y=\"583.368182\"/>\r\n     <use style=\"fill:#4c72b0;stroke:#4c72b0;\" x=\"138.736113\" xlink:href=\"#m0691d803c0\" y=\"510.222998\"/>\r\n     <use style=\"fill:#4c72b0;stroke:#4c72b0;\" x=\"88.199307\" xlink:href=\"#m0691d803c0\" y=\"571.739377\"/>\r\n     <use style=\"fill:#4c72b0;stroke:#4c72b0;\" x=\"233.295483\" xlink:href=\"#m0691d803c0\" y=\"415.931818\"/>\r\n     <use style=\"fill:#4c72b0;stroke:#4c72b0;\" x=\"147.219322\" xlink:href=\"#m0691d803c0\" y=\"499.472579\"/>\r\n     <use style=\"fill:#4c72b0;stroke:#4c72b0;\" x=\"79.608344\" xlink:href=\"#m0691d803c0\" y=\"582.668178\"/>\r\n     <use style=\"fill:#4c72b0;stroke:#4c72b0;\" x=\"150.314812\" xlink:href=\"#m0691d803c0\" y=\"498.772575\"/>\r\n     <use style=\"fill:#4c72b0;stroke:#4c72b0;\" x=\"76.503059\" xlink:href=\"#m0691d803c0\" y=\"583.368182\"/>\r\n    </g>\r\n   </g>\r\n   <g id=\"patch_21\">\r\n    <path d=\"M 68.663438 591.74 \r\nL 68.663438 407.56 \r\n\" style=\"fill:none;stroke:#ffffff;stroke-linecap:square;stroke-linejoin:miter;stroke-width:1.25;\"/>\r\n   </g>\r\n   <g id=\"patch_22\">\r\n    <path d=\"M 68.663438 591.74 \r\nL 241.135104 591.74 \r\n\" style=\"fill:none;stroke:#ffffff;stroke-linecap:square;stroke-linejoin:miter;stroke-width:1.25;\"/>\r\n   </g>\r\n  </g>\r\n  <g id=\"axes_8\">\r\n   <g id=\"patch_23\">\r\n    <path d=\"M 268.635104 591.74 \r\nL 441.106771 591.74 \r\nL 441.106771 407.56 \r\nL 268.635104 407.56 \r\nz\r\n\" style=\"fill:#eaeaf2;\"/>\r\n   </g>\r\n   <g id=\"matplotlib.axis_15\">\r\n    <g id=\"xtick_29\">\r\n     <g id=\"line2d_82\">\r\n      <path clip-path=\"url(#p63c56ff694)\" d=\"M 276.474725 591.74 \r\nL 276.474725 407.56 \r\n\" style=\"fill:none;stroke:#ffffff;stroke-linecap:round;\"/>\r\n     </g>\r\n     <g id=\"text_33\">\r\n      <!-- 0 -->\r\n      <g style=\"fill:#262626;\" transform=\"translate(273.41621 609.113594)scale(0.11 -0.11)\">\r\n       <use xlink:href=\"#ArialMT-48\"/>\r\n      </g>\r\n     </g>\r\n    </g>\r\n    <g id=\"xtick_30\">\r\n     <g id=\"line2d_83\">\r\n      <path clip-path=\"url(#p63c56ff694)\" d=\"M 321.771603 591.74 \r\nL 321.771603 407.56 \r\n\" style=\"fill:none;stroke:#ffffff;stroke-linecap:round;\"/>\r\n     </g>\r\n     <g id=\"text_34\">\r\n      <!-- 100000 -->\r\n      <g style=\"fill:#262626;\" transform=\"translate(303.420509 609.113594)scale(0.11 -0.11)\">\r\n       <use xlink:href=\"#ArialMT-49\"/>\r\n       <use x=\"55.615234\" xlink:href=\"#ArialMT-48\"/>\r\n       <use x=\"111.230469\" xlink:href=\"#ArialMT-48\"/>\r\n       <use x=\"166.845703\" xlink:href=\"#ArialMT-48\"/>\r\n       <use x=\"222.460938\" xlink:href=\"#ArialMT-48\"/>\r\n       <use x=\"278.076172\" xlink:href=\"#ArialMT-48\"/>\r\n      </g>\r\n     </g>\r\n    </g>\r\n    <g id=\"xtick_31\">\r\n     <g id=\"line2d_84\">\r\n      <path clip-path=\"url(#p63c56ff694)\" d=\"M 367.068481 591.74 \r\nL 367.068481 407.56 \r\n\" style=\"fill:none;stroke:#ffffff;stroke-linecap:round;\"/>\r\n     </g>\r\n     <g id=\"text_35\">\r\n      <!-- 200000 -->\r\n      <g style=\"fill:#262626;\" transform=\"translate(348.717387 609.113594)scale(0.11 -0.11)\">\r\n       <use xlink:href=\"#ArialMT-50\"/>\r\n       <use x=\"55.615234\" xlink:href=\"#ArialMT-48\"/>\r\n       <use x=\"111.230469\" xlink:href=\"#ArialMT-48\"/>\r\n       <use x=\"166.845703\" xlink:href=\"#ArialMT-48\"/>\r\n       <use x=\"222.460938\" xlink:href=\"#ArialMT-48\"/>\r\n       <use x=\"278.076172\" xlink:href=\"#ArialMT-48\"/>\r\n      </g>\r\n     </g>\r\n    </g>\r\n    <g id=\"xtick_32\">\r\n     <g id=\"line2d_85\">\r\n      <path clip-path=\"url(#p63c56ff694)\" d=\"M 412.365358 591.74 \r\nL 412.365358 407.56 \r\n\" style=\"fill:none;stroke:#ffffff;stroke-linecap:round;\"/>\r\n     </g>\r\n     <g id=\"text_36\">\r\n      <!-- 300000 -->\r\n      <g style=\"fill:#262626;\" transform=\"translate(394.014265 609.113594)scale(0.11 -0.11)\">\r\n       <use xlink:href=\"#ArialMT-51\"/>\r\n       <use x=\"55.615234\" xlink:href=\"#ArialMT-48\"/>\r\n       <use x=\"111.230469\" xlink:href=\"#ArialMT-48\"/>\r\n       <use x=\"166.845703\" xlink:href=\"#ArialMT-48\"/>\r\n       <use x=\"222.460938\" xlink:href=\"#ArialMT-48\"/>\r\n       <use x=\"278.076172\" xlink:href=\"#ArialMT-48\"/>\r\n      </g>\r\n     </g>\r\n    </g>\r\n    <g id=\"text_37\">\r\n     <!-- Number of Employees -->\r\n     <g style=\"fill:#262626;\" transform=\"translate(295.515938 624.035469)scale(0.12 -0.12)\">\r\n      <use xlink:href=\"#ArialMT-78\"/>\r\n      <use x=\"72.216797\" xlink:href=\"#ArialMT-117\"/>\r\n      <use x=\"127.832031\" xlink:href=\"#ArialMT-109\"/>\r\n      <use x=\"211.132812\" xlink:href=\"#ArialMT-98\"/>\r\n      <use x=\"266.748047\" xlink:href=\"#ArialMT-101\"/>\r\n      <use x=\"322.363281\" xlink:href=\"#ArialMT-114\"/>\r\n      <use x=\"355.664062\" xlink:href=\"#ArialMT-32\"/>\r\n      <use x=\"383.447266\" xlink:href=\"#ArialMT-111\"/>\r\n      <use x=\"439.0625\" xlink:href=\"#ArialMT-102\"/>\r\n      <use x=\"466.845703\" xlink:href=\"#ArialMT-32\"/>\r\n      <use x=\"494.628906\" xlink:href=\"#ArialMT-69\"/>\r\n      <use x=\"561.328125\" xlink:href=\"#ArialMT-109\"/>\r\n      <use x=\"644.628906\" xlink:href=\"#ArialMT-112\"/>\r\n      <use x=\"700.244141\" xlink:href=\"#ArialMT-108\"/>\r\n      <use x=\"722.460938\" xlink:href=\"#ArialMT-111\"/>\r\n      <use x=\"778.076172\" xlink:href=\"#ArialMT-121\"/>\r\n      <use x=\"828.076172\" xlink:href=\"#ArialMT-101\"/>\r\n      <use x=\"883.691406\" xlink:href=\"#ArialMT-101\"/>\r\n      <use x=\"939.306641\" xlink:href=\"#ArialMT-115\"/>\r\n     </g>\r\n    </g>\r\n   </g>\r\n   <g id=\"matplotlib.axis_16\">\r\n    <g id=\"ytick_54\">\r\n     <g id=\"line2d_86\">\r\n      <path clip-path=\"url(#p63c56ff694)\" d=\"M 268.635104 583.368182 \r\nL 441.106771 583.368182 \r\n\" style=\"fill:none;stroke:#ffffff;stroke-linecap:round;\"/>\r\n     </g>\r\n    </g>\r\n    <g id=\"ytick_55\">\r\n     <g id=\"line2d_87\">\r\n      <path clip-path=\"url(#p63c56ff694)\" d=\"M 268.635104 558.598407 \r\nL 441.106771 558.598407 \r\n\" style=\"fill:none;stroke:#ffffff;stroke-linecap:round;\"/>\r\n     </g>\r\n    </g>\r\n    <g id=\"ytick_56\">\r\n     <g id=\"line2d_88\">\r\n      <path clip-path=\"url(#p63c56ff694)\" d=\"M 268.635104 533.828633 \r\nL 441.106771 533.828633 \r\n\" style=\"fill:none;stroke:#ffffff;stroke-linecap:round;\"/>\r\n     </g>\r\n    </g>\r\n    <g id=\"ytick_57\">\r\n     <g id=\"line2d_89\">\r\n      <path clip-path=\"url(#p63c56ff694)\" d=\"M 268.635104 509.058858 \r\nL 441.106771 509.058858 \r\n\" style=\"fill:none;stroke:#ffffff;stroke-linecap:round;\"/>\r\n     </g>\r\n    </g>\r\n    <g id=\"ytick_58\">\r\n     <g id=\"line2d_90\">\r\n      <path clip-path=\"url(#p63c56ff694)\" d=\"M 268.635104 484.289084 \r\nL 441.106771 484.289084 \r\n\" style=\"fill:none;stroke:#ffffff;stroke-linecap:round;\"/>\r\n     </g>\r\n    </g>\r\n    <g id=\"ytick_59\">\r\n     <g id=\"line2d_91\">\r\n      <path clip-path=\"url(#p63c56ff694)\" d=\"M 268.635104 459.519309 \r\nL 441.106771 459.519309 \r\n\" style=\"fill:none;stroke:#ffffff;stroke-linecap:round;\"/>\r\n     </g>\r\n    </g>\r\n    <g id=\"ytick_60\">\r\n     <g id=\"line2d_92\">\r\n      <path clip-path=\"url(#p63c56ff694)\" d=\"M 268.635104 434.749535 \r\nL 441.106771 434.749535 \r\n\" style=\"fill:none;stroke:#ffffff;stroke-linecap:round;\"/>\r\n     </g>\r\n    </g>\r\n    <g id=\"ytick_61\">\r\n     <g id=\"line2d_93\">\r\n      <path clip-path=\"url(#p63c56ff694)\" d=\"M 268.635104 409.97976 \r\nL 441.106771 409.97976 \r\n\" style=\"fill:none;stroke:#ffffff;stroke-linecap:round;\"/>\r\n     </g>\r\n    </g>\r\n   </g>\r\n   <g id=\"PathCollection_6\">\r\n    <g clip-path=\"url(#p63c56ff694)\">\r\n     <use style=\"fill:#4c72b0;stroke:#4c72b0;\" x=\"433.26715\" xlink:href=\"#m0691d803c0\" y=\"415.931818\"/>\r\n     <use style=\"fill:#4c72b0;stroke:#4c72b0;\" x=\"287.677549\" xlink:href=\"#m0691d803c0\" y=\"570.844851\"/>\r\n     <use style=\"fill:#4c72b0;stroke:#4c72b0;\" x=\"285.659573\" xlink:href=\"#m0691d803c0\" y=\"574.914951\"/>\r\n     <use style=\"fill:#4c72b0;stroke:#4c72b0;\" x=\"276.474725\" xlink:href=\"#m0691d803c0\" y=\"583.368182\"/>\r\n     <use style=\"fill:#4c72b0;stroke:#4c72b0;\" x=\"292.598149\" xlink:href=\"#m0691d803c0\" y=\"561.885029\"/>\r\n     <use style=\"fill:#4c72b0;stroke:#4c72b0;\" x=\"302.217847\" xlink:href=\"#m0691d803c0\" y=\"551.918009\"/>\r\n     <use style=\"fill:#4c72b0;stroke:#4c72b0;\" x=\"341.583551\" xlink:href=\"#m0691d803c0\" y=\"506.82402\"/>\r\n     <use style=\"fill:#4c72b0;stroke:#4c72b0;\" x=\"284.979667\" xlink:href=\"#m0691d803c0\" y=\"575.138365\"/>\r\n     <use style=\"fill:#4c72b0;stroke:#4c72b0;\" x=\"433.26715\" xlink:href=\"#m0691d803c0\" y=\"415.931818\"/>\r\n     <use style=\"fill:#4c72b0;stroke:#4c72b0;\" x=\"283.445915\" xlink:href=\"#m0691d803c0\" y=\"578.095678\"/>\r\n     <use style=\"fill:#4c72b0;stroke:#4c72b0;\" x=\"289.401095\" xlink:href=\"#m0691d803c0\" y=\"569.399585\"/>\r\n     <use style=\"fill:#4c72b0;stroke:#4c72b0;\" x=\"296.372285\" xlink:href=\"#m0691d803c0\" y=\"564.12708\"/>\r\n     <use style=\"fill:#4c72b0;stroke:#4c72b0;\" x=\"277.083968\" xlink:href=\"#m0691d803c0\" y=\"583.03376\"/>\r\n     <use style=\"fill:#4c72b0;stroke:#4c72b0;\" x=\"329.581238\" xlink:href=\"#m0691d803c0\" y=\"518.169716\"/>\r\n     <use style=\"fill:#4c72b0;stroke:#4c72b0;\" x=\"433.26715\" xlink:href=\"#m0691d803c0\" y=\"415.931818\"/>\r\n     <use style=\"fill:#4c72b0;stroke:#4c72b0;\" x=\"278.596431\" xlink:href=\"#m0691d803c0\" y=\"581.406277\"/>\r\n     <use style=\"fill:#4c72b0;stroke:#4c72b0;\" x=\"276.474725\" xlink:href=\"#m0691d803c0\" y=\"583.368182\"/>\r\n     <use style=\"fill:#4c72b0;stroke:#4c72b0;\" x=\"276.474725\" xlink:href=\"#m0691d803c0\" y=\"583.368182\"/>\r\n     <use style=\"fill:#4c72b0;stroke:#4c72b0;\" x=\"290.536688\" xlink:href=\"#m0691d803c0\" y=\"568.200876\"/>\r\n     <use style=\"fill:#4c72b0;stroke:#4c72b0;\" x=\"294.53142\" xlink:href=\"#m0691d803c0\" y=\"565.091675\"/>\r\n     <use style=\"fill:#4c72b0;stroke:#4c72b0;\" x=\"278.924833\" xlink:href=\"#m0691d803c0\" y=\"582.069166\"/>\r\n     <use style=\"fill:#4c72b0;stroke:#4c72b0;\" x=\"329.581238\" xlink:href=\"#m0691d803c0\" y=\"518.169716\"/>\r\n     <use style=\"fill:#4c72b0;stroke:#4c72b0;\" x=\"433.26715\" xlink:href=\"#m0691d803c0\" y=\"415.931818\"/>\r\n     <use style=\"fill:#4c72b0;stroke:#4c72b0;\" x=\"283.771599\" xlink:href=\"#m0691d803c0\" y=\"573.644004\"/>\r\n     <use style=\"fill:#4c72b0;stroke:#4c72b0;\" x=\"282.005927\" xlink:href=\"#m0691d803c0\" y=\"574.756207\"/>\r\n     <use style=\"fill:#4c72b0;stroke:#4c72b0;\" x=\"305.433925\" xlink:href=\"#m0691d803c0\" y=\"547.650127\"/>\r\n     <use style=\"fill:#4c72b0;stroke:#4c72b0;\" x=\"278.832428\" xlink:href=\"#m0691d803c0\" y=\"579.917296\"/>\r\n     <use style=\"fill:#4c72b0;stroke:#4c72b0;\" x=\"324.689628\" xlink:href=\"#m0691d803c0\" y=\"529.950538\"/>\r\n     <use style=\"fill:#4c72b0;stroke:#4c72b0;\" x=\"338.162278\" xlink:href=\"#m0691d803c0\" y=\"510.229874\"/>\r\n     <use style=\"fill:#4c72b0;stroke:#4c72b0;\" x=\"288.40094\" xlink:href=\"#m0691d803c0\" y=\"571.732511\"/>\r\n     <use style=\"fill:#4c72b0;stroke:#4c72b0;\" x=\"433.26715\" xlink:href=\"#m0691d803c0\" y=\"415.931818\"/>\r\n     <use style=\"fill:#4c72b0;stroke:#4c72b0;\" x=\"336.190505\" xlink:href=\"#m0691d803c0\" y=\"512.011356\"/>\r\n     <use style=\"fill:#4c72b0;stroke:#4c72b0;\" x=\"329.589391\" xlink:href=\"#m0691d803c0\" y=\"523.287439\"/>\r\n     <use style=\"fill:#4c72b0;stroke:#4c72b0;\" x=\"278.944764\" xlink:href=\"#m0691d803c0\" y=\"580.899032\"/>\r\n     <use style=\"fill:#4c72b0;stroke:#4c72b0;\" x=\"302.472415\" xlink:href=\"#m0691d803c0\" y=\"551.406543\"/>\r\n     <use style=\"fill:#4c72b0;stroke:#4c72b0;\" x=\"285.92003\" xlink:href=\"#m0691d803c0\" y=\"571.71106\"/>\r\n     <use style=\"fill:#4c72b0;stroke:#4c72b0;\" x=\"317.862935\" xlink:href=\"#m0691d803c0\" y=\"528.877006\"/>\r\n     <use style=\"fill:#4c72b0;stroke:#4c72b0;\" x=\"276.474725\" xlink:href=\"#m0691d803c0\" y=\"583.368182\"/>\r\n     <use style=\"fill:#4c72b0;stroke:#4c72b0;\" x=\"338.134647\" xlink:href=\"#m0691d803c0\" y=\"510.222998\"/>\r\n     <use style=\"fill:#4c72b0;stroke:#4c72b0;\" x=\"288.428571\" xlink:href=\"#m0691d803c0\" y=\"571.739377\"/>\r\n     <use style=\"fill:#4c72b0;stroke:#4c72b0;\" x=\"433.26715\" xlink:href=\"#m0691d803c0\" y=\"415.931818\"/>\r\n     <use style=\"fill:#4c72b0;stroke:#4c72b0;\" x=\"347.729885\" xlink:href=\"#m0691d803c0\" y=\"499.472579\"/>\r\n     <use style=\"fill:#4c72b0;stroke:#4c72b0;\" x=\"278.668453\" xlink:href=\"#m0691d803c0\" y=\"582.668178\"/>\r\n     <use style=\"fill:#4c72b0;stroke:#4c72b0;\" x=\"349.923613\" xlink:href=\"#m0691d803c0\" y=\"498.772575\"/>\r\n     <use style=\"fill:#4c72b0;stroke:#4c72b0;\" x=\"276.474725\" xlink:href=\"#m0691d803c0\" y=\"583.368182\"/>\r\n    </g>\r\n   </g>\r\n   <g id=\"patch_24\">\r\n    <path d=\"M 268.635104 591.74 \r\nL 268.635104 407.56 \r\n\" style=\"fill:none;stroke:#ffffff;stroke-linecap:square;stroke-linejoin:miter;stroke-width:1.25;\"/>\r\n   </g>\r\n   <g id=\"patch_25\">\r\n    <path d=\"M 268.635104 591.74 \r\nL 441.106771 591.74 \r\n\" style=\"fill:none;stroke:#ffffff;stroke-linecap:square;stroke-linejoin:miter;stroke-width:1.25;\"/>\r\n   </g>\r\n  </g>\r\n  <g id=\"axes_9\">\r\n   <g id=\"patch_26\">\r\n    <path d=\"M 468.606771 591.74 \r\nL 641.078438 591.74 \r\nL 641.078438 407.56 \r\nL 468.606771 407.56 \r\nz\r\n\" style=\"fill:#eaeaf2;\"/>\r\n   </g>\r\n   <g id=\"matplotlib.axis_17\">\r\n    <g id=\"xtick_33\">\r\n     <g id=\"line2d_94\">\r\n      <path clip-path=\"url(#pd779e5de2a)\" d=\"M 476.446392 591.74 \r\nL 476.446392 407.56 \r\n\" style=\"fill:none;stroke:#ffffff;stroke-linecap:round;\"/>\r\n     </g>\r\n     <g id=\"text_38\">\r\n      <!-- 0.0 -->\r\n      <g style=\"fill:#262626;\" transform=\"translate(468.801392 609.113594)scale(0.11 -0.11)\">\r\n       <use xlink:href=\"#ArialMT-48\"/>\r\n       <use x=\"55.615234\" xlink:href=\"#ArialMT-46\"/>\r\n       <use x=\"83.398438\" xlink:href=\"#ArialMT-48\"/>\r\n      </g>\r\n     </g>\r\n    </g>\r\n    <g id=\"xtick_34\">\r\n     <g id=\"line2d_95\">\r\n      <path clip-path=\"url(#pd779e5de2a)\" d=\"M 522.836709 591.74 \r\nL 522.836709 407.56 \r\n\" style=\"fill:none;stroke:#ffffff;stroke-linecap:round;\"/>\r\n     </g>\r\n     <g id=\"text_39\">\r\n      <!-- 0.5 -->\r\n      <g style=\"fill:#262626;\" transform=\"translate(515.191709 609.113594)scale(0.11 -0.11)\">\r\n       <use xlink:href=\"#ArialMT-48\"/>\r\n       <use x=\"55.615234\" xlink:href=\"#ArialMT-46\"/>\r\n       <use x=\"83.398438\" xlink:href=\"#ArialMT-53\"/>\r\n      </g>\r\n     </g>\r\n    </g>\r\n    <g id=\"xtick_35\">\r\n     <g id=\"line2d_96\">\r\n      <path clip-path=\"url(#pd779e5de2a)\" d=\"M 569.227026 591.74 \r\nL 569.227026 407.56 \r\n\" style=\"fill:none;stroke:#ffffff;stroke-linecap:round;\"/>\r\n     </g>\r\n     <g id=\"text_40\">\r\n      <!-- 1.0 -->\r\n      <g style=\"fill:#262626;\" transform=\"translate(561.582026 609.113594)scale(0.11 -0.11)\">\r\n       <use xlink:href=\"#ArialMT-49\"/>\r\n       <use x=\"55.615234\" xlink:href=\"#ArialMT-46\"/>\r\n       <use x=\"83.398438\" xlink:href=\"#ArialMT-48\"/>\r\n      </g>\r\n     </g>\r\n    </g>\r\n    <g id=\"xtick_36\">\r\n     <g id=\"line2d_97\">\r\n      <path clip-path=\"url(#pd779e5de2a)\" d=\"M 615.617343 591.74 \r\nL 615.617343 407.56 \r\n\" style=\"fill:none;stroke:#ffffff;stroke-linecap:round;\"/>\r\n     </g>\r\n     <g id=\"text_41\">\r\n      <!-- 1.5 -->\r\n      <g style=\"fill:#262626;\" transform=\"translate(607.972343 609.113594)scale(0.11 -0.11)\">\r\n       <use xlink:href=\"#ArialMT-49\"/>\r\n       <use x=\"55.615234\" xlink:href=\"#ArialMT-46\"/>\r\n       <use x=\"83.398438\" xlink:href=\"#ArialMT-53\"/>\r\n      </g>\r\n     </g>\r\n    </g>\r\n    <g id=\"text_42\">\r\n     <!-- Annual payroll ($10-Millions) -->\r\n     <g style=\"fill:#262626;\" transform=\"translate(479.146979 624.680469)scale(0.12 -0.12)\">\r\n      <use xlink:href=\"#ArialMT-65\"/>\r\n      <use x=\"66.699219\" xlink:href=\"#ArialMT-110\"/>\r\n      <use x=\"122.314453\" xlink:href=\"#ArialMT-110\"/>\r\n      <use x=\"177.929688\" xlink:href=\"#ArialMT-117\"/>\r\n      <use x=\"233.544922\" xlink:href=\"#ArialMT-97\"/>\r\n      <use x=\"289.160156\" xlink:href=\"#ArialMT-108\"/>\r\n      <use x=\"311.376953\" xlink:href=\"#ArialMT-32\"/>\r\n      <use x=\"339.160156\" xlink:href=\"#ArialMT-112\"/>\r\n      <use x=\"394.775391\" xlink:href=\"#ArialMT-97\"/>\r\n      <use x=\"450.390625\" xlink:href=\"#ArialMT-121\"/>\r\n      <use x=\"500.390625\" xlink:href=\"#ArialMT-114\"/>\r\n      <use x=\"533.691406\" xlink:href=\"#ArialMT-111\"/>\r\n      <use x=\"589.306641\" xlink:href=\"#ArialMT-108\"/>\r\n      <use x=\"611.523438\" xlink:href=\"#ArialMT-108\"/>\r\n      <use x=\"633.740234\" xlink:href=\"#ArialMT-32\"/>\r\n      <use x=\"661.523438\" xlink:href=\"#ArialMT-40\"/>\r\n      <use x=\"694.824219\" xlink:href=\"#ArialMT-36\"/>\r\n      <use x=\"750.439453\" xlink:href=\"#ArialMT-49\"/>\r\n      <use x=\"806.054688\" xlink:href=\"#ArialMT-48\"/>\r\n      <use x=\"861.669922\" xlink:href=\"#ArialMT-45\"/>\r\n      <use x=\"894.970703\" xlink:href=\"#ArialMT-77\"/>\r\n      <use x=\"978.271484\" xlink:href=\"#ArialMT-105\"/>\r\n      <use x=\"1000.488281\" xlink:href=\"#ArialMT-108\"/>\r\n      <use x=\"1022.705078\" xlink:href=\"#ArialMT-108\"/>\r\n      <use x=\"1044.921875\" xlink:href=\"#ArialMT-105\"/>\r\n      <use x=\"1067.138672\" xlink:href=\"#ArialMT-111\"/>\r\n      <use x=\"1122.753906\" xlink:href=\"#ArialMT-110\"/>\r\n      <use x=\"1178.369141\" xlink:href=\"#ArialMT-115\"/>\r\n      <use x=\"1228.369141\" xlink:href=\"#ArialMT-41\"/>\r\n     </g>\r\n    </g>\r\n    <g id=\"text_43\">\r\n     <!-- 1e7 -->\r\n     <g style=\"fill:#262626;\" transform=\"translate(622.727344 622.173437)scale(0.11 -0.11)\">\r\n      <use xlink:href=\"#ArialMT-49\"/>\r\n      <use x=\"55.615234\" xlink:href=\"#ArialMT-101\"/>\r\n      <use x=\"111.230469\" xlink:href=\"#ArialMT-55\"/>\r\n     </g>\r\n    </g>\r\n   </g>\r\n   <g id=\"matplotlib.axis_18\">\r\n    <g id=\"ytick_62\">\r\n     <g id=\"line2d_98\">\r\n      <path clip-path=\"url(#pd779e5de2a)\" d=\"M 468.606771 583.368182 \r\nL 641.078438 583.368182 \r\n\" style=\"fill:none;stroke:#ffffff;stroke-linecap:round;\"/>\r\n     </g>\r\n    </g>\r\n    <g id=\"ytick_63\">\r\n     <g id=\"line2d_99\">\r\n      <path clip-path=\"url(#pd779e5de2a)\" d=\"M 468.606771 558.598407 \r\nL 641.078438 558.598407 \r\n\" style=\"fill:none;stroke:#ffffff;stroke-linecap:round;\"/>\r\n     </g>\r\n    </g>\r\n    <g id=\"ytick_64\">\r\n     <g id=\"line2d_100\">\r\n      <path clip-path=\"url(#pd779e5de2a)\" d=\"M 468.606771 533.828633 \r\nL 641.078438 533.828633 \r\n\" style=\"fill:none;stroke:#ffffff;stroke-linecap:round;\"/>\r\n     </g>\r\n    </g>\r\n    <g id=\"ytick_65\">\r\n     <g id=\"line2d_101\">\r\n      <path clip-path=\"url(#pd779e5de2a)\" d=\"M 468.606771 509.058858 \r\nL 641.078438 509.058858 \r\n\" style=\"fill:none;stroke:#ffffff;stroke-linecap:round;\"/>\r\n     </g>\r\n    </g>\r\n    <g id=\"ytick_66\">\r\n     <g id=\"line2d_102\">\r\n      <path clip-path=\"url(#pd779e5de2a)\" d=\"M 468.606771 484.289084 \r\nL 641.078438 484.289084 \r\n\" style=\"fill:none;stroke:#ffffff;stroke-linecap:round;\"/>\r\n     </g>\r\n    </g>\r\n    <g id=\"ytick_67\">\r\n     <g id=\"line2d_103\">\r\n      <path clip-path=\"url(#pd779e5de2a)\" d=\"M 468.606771 459.519309 \r\nL 641.078438 459.519309 \r\n\" style=\"fill:none;stroke:#ffffff;stroke-linecap:round;\"/>\r\n     </g>\r\n    </g>\r\n    <g id=\"ytick_68\">\r\n     <g id=\"line2d_104\">\r\n      <path clip-path=\"url(#pd779e5de2a)\" d=\"M 468.606771 434.749535 \r\nL 641.078438 434.749535 \r\n\" style=\"fill:none;stroke:#ffffff;stroke-linecap:round;\"/>\r\n     </g>\r\n    </g>\r\n    <g id=\"ytick_69\">\r\n     <g id=\"line2d_105\">\r\n      <path clip-path=\"url(#pd779e5de2a)\" d=\"M 468.606771 409.97976 \r\nL 641.078438 409.97976 \r\n\" style=\"fill:none;stroke:#ffffff;stroke-linecap:round;\"/>\r\n     </g>\r\n    </g>\r\n   </g>\r\n   <g id=\"patch_27\">\r\n    <path d=\"M 468.606771 591.74 \r\nL 468.606771 407.56 \r\n\" style=\"fill:none;stroke:#ffffff;stroke-linecap:square;stroke-linejoin:miter;stroke-width:1.25;\"/>\r\n   </g>\r\n   <g id=\"patch_28\">\r\n    <path d=\"M 468.606771 591.74 \r\nL 641.078438 591.74 \r\n\" style=\"fill:none;stroke:#ffffff;stroke-linecap:square;stroke-linejoin:miter;stroke-width:1.25;\"/>\r\n   </g>\r\n  </g>\r\n  <g id=\"axes_10\">\r\n   <g id=\"patch_29\">\r\n    <path clip-path=\"url(#p96228d9a27)\" d=\"M 76.503059 191.38 \r\nL 92.182301 191.38 \r\nL 92.182301 15.970476 \r\nL 76.503059 15.970476 \r\nz\r\n\" style=\"fill:#4c72b0;stroke:#ffffff;stroke-linejoin:miter;\"/>\r\n   </g>\r\n   <g id=\"patch_30\">\r\n    <path clip-path=\"url(#p96228d9a27)\" d=\"M 92.182301 191.38 \r\nL 107.861544 191.38 \r\nL 107.861544 168.500497 \r\nL 92.182301 168.500497 \r\nz\r\n\" style=\"fill:#4c72b0;stroke:#ffffff;stroke-linejoin:miter;\"/>\r\n   </g>\r\n   <g id=\"patch_31\">\r\n    <path clip-path=\"url(#p96228d9a27)\" d=\"M 107.861544 191.38 \r\nL 123.540786 191.38 \r\nL 123.540786 160.873996 \r\nL 107.861544 160.873996 \r\nz\r\n\" style=\"fill:#4c72b0;stroke:#ffffff;stroke-linejoin:miter;\"/>\r\n   </g>\r\n   <g id=\"patch_32\">\r\n    <path clip-path=\"url(#p96228d9a27)\" d=\"M 123.540786 191.38 \r\nL 139.220028 191.38 \r\nL 139.220028 145.620994 \r\nL 123.540786 145.620994 \r\nz\r\n\" style=\"fill:#4c72b0;stroke:#ffffff;stroke-linejoin:miter;\"/>\r\n   </g>\r\n   <g id=\"patch_33\">\r\n    <path clip-path=\"url(#p96228d9a27)\" d=\"M 139.220028 191.38 \r\nL 154.899271 191.38 \r\nL 154.899271 168.500497 \r\nL 139.220028 168.500497 \r\nz\r\n\" style=\"fill:#4c72b0;stroke:#ffffff;stroke-linejoin:miter;\"/>\r\n   </g>\r\n   <g id=\"patch_34\">\r\n    <path clip-path=\"url(#p96228d9a27)\" d=\"M 154.899271 191.38 \r\nL 170.578513 191.38 \r\nL 170.578513 191.38 \r\nL 154.899271 191.38 \r\nz\r\n\" style=\"fill:#4c72b0;stroke:#ffffff;stroke-linejoin:miter;\"/>\r\n   </g>\r\n   <g id=\"patch_35\">\r\n    <path clip-path=\"url(#p96228d9a27)\" d=\"M 170.578513 191.38 \r\nL 186.257756 191.38 \r\nL 186.257756 191.38 \r\nL 170.578513 191.38 \r\nz\r\n\" style=\"fill:#4c72b0;stroke:#ffffff;stroke-linejoin:miter;\"/>\r\n   </g>\r\n   <g id=\"patch_36\">\r\n    <path clip-path=\"url(#p96228d9a27)\" d=\"M 186.257756 191.38 \r\nL 201.936998 191.38 \r\nL 201.936998 191.38 \r\nL 186.257756 191.38 \r\nz\r\n\" style=\"fill:#4c72b0;stroke:#ffffff;stroke-linejoin:miter;\"/>\r\n   </g>\r\n   <g id=\"patch_37\">\r\n    <path clip-path=\"url(#p96228d9a27)\" d=\"M 201.936998 191.38 \r\nL 217.616241 191.38 \r\nL 217.616241 191.38 \r\nL 201.936998 191.38 \r\nz\r\n\" style=\"fill:#4c72b0;stroke:#ffffff;stroke-linejoin:miter;\"/>\r\n   </g>\r\n   <g id=\"patch_38\">\r\n    <path clip-path=\"url(#p96228d9a27)\" d=\"M 217.616241 191.38 \r\nL 233.295483 191.38 \r\nL 233.295483 145.620994 \r\nL 217.616241 145.620994 \r\nz\r\n\" style=\"fill:#4c72b0;stroke:#ffffff;stroke-linejoin:miter;\"/>\r\n   </g>\r\n  </g>\r\n  <g id=\"axes_11\">\r\n   <g id=\"patch_39\">\r\n    <path clip-path=\"url(#p90c0034e83)\" d=\"M 276.474725 391.56 \r\nL 292.153968 391.56 \r\nL 292.153968 223.776977 \r\nL 276.474725 223.776977 \r\nz\r\n\" style=\"fill:#4c72b0;stroke:#ffffff;stroke-linejoin:miter;\"/>\r\n   </g>\r\n   <g id=\"patch_40\">\r\n    <path clip-path=\"url(#p90c0034e83)\" d=\"M 292.153968 391.56 \r\nL 307.83321 391.56 \r\nL 307.83321 345.800994 \r\nL 292.153968 345.800994 \r\nz\r\n\" style=\"fill:#4c72b0;stroke:#ffffff;stroke-linejoin:miter;\"/>\r\n   </g>\r\n   <g id=\"patch_41\">\r\n    <path clip-path=\"url(#p90c0034e83)\" d=\"M 307.83321 391.56 \r\nL 323.512453 391.56 \r\nL 323.512453 383.933499 \r\nL 307.83321 383.933499 \r\nz\r\n\" style=\"fill:#4c72b0;stroke:#ffffff;stroke-linejoin:miter;\"/>\r\n   </g>\r\n   <g id=\"patch_42\">\r\n    <path clip-path=\"url(#p90c0034e83)\" d=\"M 323.512453 391.56 \r\nL 339.191695 391.56 \r\nL 339.191695 338.174493 \r\nL 323.512453 338.174493 \r\nz\r\n\" style=\"fill:#4c72b0;stroke:#ffffff;stroke-linejoin:miter;\"/>\r\n   </g>\r\n   <g id=\"patch_43\">\r\n    <path clip-path=\"url(#p90c0034e83)\" d=\"M 339.191695 391.56 \r\nL 354.870938 391.56 \r\nL 354.870938 368.680497 \r\nL 339.191695 368.680497 \r\nz\r\n\" style=\"fill:#4c72b0;stroke:#ffffff;stroke-linejoin:miter;\"/>\r\n   </g>\r\n   <g id=\"patch_44\">\r\n    <path clip-path=\"url(#p90c0034e83)\" d=\"M 354.870938 391.56 \r\nL 370.55018 391.56 \r\nL 370.55018 391.56 \r\nL 354.870938 391.56 \r\nz\r\n\" style=\"fill:#4c72b0;stroke:#ffffff;stroke-linejoin:miter;\"/>\r\n   </g>\r\n   <g id=\"patch_45\">\r\n    <path clip-path=\"url(#p90c0034e83)\" d=\"M 370.55018 391.56 \r\nL 386.229422 391.56 \r\nL 386.229422 391.56 \r\nL 370.55018 391.56 \r\nz\r\n\" style=\"fill:#4c72b0;stroke:#ffffff;stroke-linejoin:miter;\"/>\r\n   </g>\r\n   <g id=\"patch_46\">\r\n    <path clip-path=\"url(#p90c0034e83)\" d=\"M 386.229422 391.56 \r\nL 401.908665 391.56 \r\nL 401.908665 391.56 \r\nL 386.229422 391.56 \r\nz\r\n\" style=\"fill:#4c72b0;stroke:#ffffff;stroke-linejoin:miter;\"/>\r\n   </g>\r\n   <g id=\"patch_47\">\r\n    <path clip-path=\"url(#p90c0034e83)\" d=\"M 401.908665 391.56 \r\nL 417.587907 391.56 \r\nL 417.587907 391.56 \r\nL 401.908665 391.56 \r\nz\r\n\" style=\"fill:#4c72b0;stroke:#ffffff;stroke-linejoin:miter;\"/>\r\n   </g>\r\n   <g id=\"patch_48\">\r\n    <path clip-path=\"url(#p90c0034e83)\" d=\"M 417.587907 391.56 \r\nL 433.26715 391.56 \r\nL 433.26715 345.800994 \r\nL 417.587907 345.800994 \r\nz\r\n\" style=\"fill:#4c72b0;stroke:#ffffff;stroke-linejoin:miter;\"/>\r\n   </g>\r\n  </g>\r\n  <g id=\"axes_12\">\r\n   <g id=\"patch_49\">\r\n    <path clip-path=\"url(#pd779e5de2a)\" d=\"M 476.446392 591.74 \r\nL 492.125634 591.74 \r\nL 492.125634 423.956977 \r\nL 476.446392 423.956977 \r\nz\r\n\" style=\"fill:#4c72b0;stroke:#ffffff;stroke-linejoin:miter;\"/>\r\n   </g>\r\n   <g id=\"patch_50\">\r\n    <path clip-path=\"url(#pd779e5de2a)\" d=\"M 492.125634 591.74 \r\nL 507.804877 591.74 \r\nL 507.804877 553.607495 \r\nL 492.125634 553.607495 \r\nz\r\n\" style=\"fill:#4c72b0;stroke:#ffffff;stroke-linejoin:miter;\"/>\r\n   </g>\r\n   <g id=\"patch_51\">\r\n    <path clip-path=\"url(#pd779e5de2a)\" d=\"M 507.804877 591.74 \r\nL 523.484119 591.74 \r\nL 523.484119 584.113499 \r\nL 507.804877 584.113499 \r\nz\r\n\" style=\"fill:#4c72b0;stroke:#ffffff;stroke-linejoin:miter;\"/>\r\n   </g>\r\n   <g id=\"patch_52\">\r\n    <path clip-path=\"url(#pd779e5de2a)\" d=\"M 523.484119 591.74 \r\nL 539.163362 591.74 \r\nL 539.163362 553.607495 \r\nL 523.484119 553.607495 \r\nz\r\n\" style=\"fill:#4c72b0;stroke:#ffffff;stroke-linejoin:miter;\"/>\r\n   </g>\r\n   <g id=\"patch_53\">\r\n    <path clip-path=\"url(#pd779e5de2a)\" d=\"M 539.163362 591.74 \r\nL 554.842604 591.74 \r\nL 554.842604 561.233996 \r\nL 539.163362 561.233996 \r\nz\r\n\" style=\"fill:#4c72b0;stroke:#ffffff;stroke-linejoin:miter;\"/>\r\n   </g>\r\n   <g id=\"patch_54\">\r\n    <path clip-path=\"url(#pd779e5de2a)\" d=\"M 554.842604 591.74 \r\nL 570.521847 591.74 \r\nL 570.521847 576.486998 \r\nL 554.842604 576.486998 \r\nz\r\n\" style=\"fill:#4c72b0;stroke:#ffffff;stroke-linejoin:miter;\"/>\r\n   </g>\r\n   <g id=\"patch_55\">\r\n    <path clip-path=\"url(#pd779e5de2a)\" d=\"M 570.521847 591.74 \r\nL 586.201089 591.74 \r\nL 586.201089 591.74 \r\nL 570.521847 591.74 \r\nz\r\n\" style=\"fill:#4c72b0;stroke:#ffffff;stroke-linejoin:miter;\"/>\r\n   </g>\r\n   <g id=\"patch_56\">\r\n    <path clip-path=\"url(#pd779e5de2a)\" d=\"M 586.201089 591.74 \r\nL 601.880331 591.74 \r\nL 601.880331 591.74 \r\nL 586.201089 591.74 \r\nz\r\n\" style=\"fill:#4c72b0;stroke:#ffffff;stroke-linejoin:miter;\"/>\r\n   </g>\r\n   <g id=\"patch_57\">\r\n    <path clip-path=\"url(#pd779e5de2a)\" d=\"M 601.880331 591.74 \r\nL 617.559574 591.74 \r\nL 617.559574 591.74 \r\nL 601.880331 591.74 \r\nz\r\n\" style=\"fill:#4c72b0;stroke:#ffffff;stroke-linejoin:miter;\"/>\r\n   </g>\r\n   <g id=\"patch_58\">\r\n    <path clip-path=\"url(#pd779e5de2a)\" d=\"M 617.559574 591.74 \r\nL 633.238816 591.74 \r\nL 633.238816 545.980994 \r\nL 617.559574 545.980994 \r\nz\r\n\" style=\"fill:#4c72b0;stroke:#ffffff;stroke-linejoin:miter;\"/>\r\n   </g>\r\n  </g>\r\n </g>\r\n <defs>\r\n  <clipPath id=\"p96228d9a27\">\r\n   <rect height=\"184.18\" width=\"172.471667\" x=\"68.663438\" y=\"7.2\"/>\r\n  </clipPath>\r\n  <clipPath id=\"pac8d37c2b2\">\r\n   <rect height=\"184.18\" width=\"172.471667\" x=\"268.635104\" y=\"7.2\"/>\r\n  </clipPath>\r\n  <clipPath id=\"p7c4fa886cc\">\r\n   <rect height=\"184.18\" width=\"172.471667\" x=\"468.606771\" y=\"7.2\"/>\r\n  </clipPath>\r\n  <clipPath id=\"pff2fb6feb5\">\r\n   <rect height=\"184.18\" width=\"172.471667\" x=\"68.663438\" y=\"207.38\"/>\r\n  </clipPath>\r\n  <clipPath id=\"p90c0034e83\">\r\n   <rect height=\"184.18\" width=\"172.471667\" x=\"268.635104\" y=\"207.38\"/>\r\n  </clipPath>\r\n  <clipPath id=\"p36bdea16f1\">\r\n   <rect height=\"184.18\" width=\"172.471667\" x=\"468.606771\" y=\"207.38\"/>\r\n  </clipPath>\r\n  <clipPath id=\"p0a5c17cc96\">\r\n   <rect height=\"184.18\" width=\"172.471667\" x=\"68.663438\" y=\"407.56\"/>\r\n  </clipPath>\r\n  <clipPath id=\"p63c56ff694\">\r\n   <rect height=\"184.18\" width=\"172.471667\" x=\"268.635104\" y=\"407.56\"/>\r\n  </clipPath>\r\n  <clipPath id=\"pd779e5de2a\">\r\n   <rect height=\"184.18\" width=\"172.471667\" x=\"468.606771\" y=\"407.56\"/>\r\n  </clipPath>\r\n </defs>\r\n</svg>\r\n",
      "image/png": "[encoded data removed]"
     },
     "metadata": {}
    }
   ],
   "source": [
    "g = sns.PairGrid(data = df_metro_b , vars = ['Number of employer firms', 'Number of Employees', 'Annual payroll ($10-Millions)'], hue = 'NAICS2017_LABEL', height = 3 )\n",
    "\n",
    "g.map_diag(plt.hist)\n",
    "g.map_offdiag(plt.scatter);\n"
   ]
  },
  {
   "cell_type": "code",
   "execution_count": 118,
   "metadata": {},
   "outputs": [
    {
     "output_type": "execute_result",
     "data": {
      "text/plain": [
       "346144.0"
      ]
     },
     "metadata": {},
     "execution_count": 118
    }
   ],
   "source": [
    "df_metro_b.EMP.max()"
   ]
  },
  {
   "cell_type": "code",
   "execution_count": 124,
   "metadata": {},
   "outputs": [
    {
     "output_type": "execute_result",
     "data": {
      "text/plain": [
       "0.0"
      ]
     },
     "metadata": {},
     "execution_count": 124
    }
   ],
   "source": [
    "df_metro_b.EMP.min()"
   ]
  },
  {
   "cell_type": "code",
   "execution_count": 144,
   "metadata": {},
   "outputs": [
    {
     "output_type": "display_data",
     "data": {
      "application/vnd.plotly.v1+json": {
       "config": {
        "plotlyServerURL": "https://plot.ly"
       },
       "data": [
        {
         "histfunc": "count",
         "nbinsx": 20,
         "type": "histogram",
         "x": [
          346144,
          24732,
          20277,
          0,
          35595,
          56832,
          143738,
          18776,
          346144,
          15390,
          28537,
          43927,
          1345,
          117241,
          346144,
          4684,
          0,
          0,
          31044,
          39863,
          5409,
          117241,
          346144,
          16109,
          12211,
          63932,
          5205,
          106442,
          136185,
          26329,
          346144,
          131832,
          117259,
          5453,
          57394,
          20852,
          91371,
          0,
          136124,
          26390,
          346144,
          157307,
          4843,
          162150,
          0
         ]
        }
       ],
       "layout": {
        "font": {
         "size": 18
        },
        "template": {
         "data": {
          "bar": [
           {
            "error_x": {
             "color": "#2a3f5f"
            },
            "error_y": {
             "color": "#2a3f5f"
            },
            "marker": {
             "line": {
              "color": "#E5ECF6",
              "width": 0.5
             }
            },
            "type": "bar"
           }
          ],
          "barpolar": [
           {
            "marker": {
             "line": {
              "color": "#E5ECF6",
              "width": 0.5
             }
            },
            "type": "barpolar"
           }
          ],
          "carpet": [
           {
            "aaxis": {
             "endlinecolor": "#2a3f5f",
             "gridcolor": "white",
             "linecolor": "white",
             "minorgridcolor": "white",
             "startlinecolor": "#2a3f5f"
            },
            "baxis": {
             "endlinecolor": "#2a3f5f",
             "gridcolor": "white",
             "linecolor": "white",
             "minorgridcolor": "white",
             "startlinecolor": "#2a3f5f"
            },
            "type": "carpet"
           }
          ],
          "choropleth": [
           {
            "colorbar": {
             "outlinewidth": 0,
             "ticks": ""
            },
            "type": "choropleth"
           }
          ],
          "contour": [
           {
            "colorbar": {
             "outlinewidth": 0,
             "ticks": ""
            },
            "colorscale": [
             [
              0,
              "#0d0887"
             ],
             [
              0.1111111111111111,
              "#46039f"
             ],
             [
              0.2222222222222222,
              "#7201a8"
             ],
             [
              0.3333333333333333,
              "#9c179e"
             ],
             [
              0.4444444444444444,
              "#bd3786"
             ],
             [
              0.5555555555555556,
              "#d8576b"
             ],
             [
              0.6666666666666666,
              "#ed7953"
             ],
             [
              0.7777777777777778,
              "#fb9f3a"
             ],
             [
              0.8888888888888888,
              "#fdca26"
             ],
             [
              1,
              "#f0f921"
             ]
            ],
            "type": "contour"
           }
          ],
          "contourcarpet": [
           {
            "colorbar": {
             "outlinewidth": 0,
             "ticks": ""
            },
            "type": "contourcarpet"
           }
          ],
          "heatmap": [
           {
            "colorbar": {
             "outlinewidth": 0,
             "ticks": ""
            },
            "colorscale": [
             [
              0,
              "#0d0887"
             ],
             [
              0.1111111111111111,
              "#46039f"
             ],
             [
              0.2222222222222222,
              "#7201a8"
             ],
             [
              0.3333333333333333,
              "#9c179e"
             ],
             [
              0.4444444444444444,
              "#bd3786"
             ],
             [
              0.5555555555555556,
              "#d8576b"
             ],
             [
              0.6666666666666666,
              "#ed7953"
             ],
             [
              0.7777777777777778,
              "#fb9f3a"
             ],
             [
              0.8888888888888888,
              "#fdca26"
             ],
             [
              1,
              "#f0f921"
             ]
            ],
            "type": "heatmap"
           }
          ],
          "heatmapgl": [
           {
            "colorbar": {
             "outlinewidth": 0,
             "ticks": ""
            },
            "colorscale": [
             [
              0,
              "#0d0887"
             ],
             [
              0.1111111111111111,
              "#46039f"
             ],
             [
              0.2222222222222222,
              "#7201a8"
             ],
             [
              0.3333333333333333,
              "#9c179e"
             ],
             [
              0.4444444444444444,
              "#bd3786"
             ],
             [
              0.5555555555555556,
              "#d8576b"
             ],
             [
              0.6666666666666666,
              "#ed7953"
             ],
             [
              0.7777777777777778,
              "#fb9f3a"
             ],
             [
              0.8888888888888888,
              "#fdca26"
             ],
             [
              1,
              "#f0f921"
             ]
            ],
            "type": "heatmapgl"
           }
          ],
          "histogram": [
           {
            "marker": {
             "colorbar": {
              "outlinewidth": 0,
              "ticks": ""
             }
            },
            "type": "histogram"
           }
          ],
          "histogram2d": [
           {
            "colorbar": {
             "outlinewidth": 0,
             "ticks": ""
            },
            "colorscale": [
             [
              0,
              "#0d0887"
             ],
             [
              0.1111111111111111,
              "#46039f"
             ],
             [
              0.2222222222222222,
              "#7201a8"
             ],
             [
              0.3333333333333333,
              "#9c179e"
             ],
             [
              0.4444444444444444,
              "#bd3786"
             ],
             [
              0.5555555555555556,
              "#d8576b"
             ],
             [
              0.6666666666666666,
              "#ed7953"
             ],
             [
              0.7777777777777778,
              "#fb9f3a"
             ],
             [
              0.8888888888888888,
              "#fdca26"
             ],
             [
              1,
              "#f0f921"
             ]
            ],
            "type": "histogram2d"
           }
          ],
          "histogram2dcontour": [
           {
            "colorbar": {
             "outlinewidth": 0,
             "ticks": ""
            },
            "colorscale": [
             [
              0,
              "#0d0887"
             ],
             [
              0.1111111111111111,
              "#46039f"
             ],
             [
              0.2222222222222222,
              "#7201a8"
             ],
             [
              0.3333333333333333,
              "#9c179e"
             ],
             [
              0.4444444444444444,
              "#bd3786"
             ],
             [
              0.5555555555555556,
              "#d8576b"
             ],
             [
              0.6666666666666666,
              "#ed7953"
             ],
             [
              0.7777777777777778,
              "#fb9f3a"
             ],
             [
              0.8888888888888888,
              "#fdca26"
             ],
             [
              1,
              "#f0f921"
             ]
            ],
            "type": "histogram2dcontour"
           }
          ],
          "mesh3d": [
           {
            "colorbar": {
             "outlinewidth": 0,
             "ticks": ""
            },
            "type": "mesh3d"
           }
          ],
          "parcoords": [
           {
            "line": {
             "colorbar": {
              "outlinewidth": 0,
              "ticks": ""
             }
            },
            "type": "parcoords"
           }
          ],
          "pie": [
           {
            "automargin": true,
            "type": "pie"
           }
          ],
          "scatter": [
           {
            "marker": {
             "colorbar": {
              "outlinewidth": 0,
              "ticks": ""
             }
            },
            "type": "scatter"
           }
          ],
          "scatter3d": [
           {
            "line": {
             "colorbar": {
              "outlinewidth": 0,
              "ticks": ""
             }
            },
            "marker": {
             "colorbar": {
              "outlinewidth": 0,
              "ticks": ""
             }
            },
            "type": "scatter3d"
           }
          ],
          "scattercarpet": [
           {
            "marker": {
             "colorbar": {
              "outlinewidth": 0,
              "ticks": ""
             }
            },
            "type": "scattercarpet"
           }
          ],
          "scattergeo": [
           {
            "marker": {
             "colorbar": {
              "outlinewidth": 0,
              "ticks": ""
             }
            },
            "type": "scattergeo"
           }
          ],
          "scattergl": [
           {
            "marker": {
             "colorbar": {
              "outlinewidth": 0,
              "ticks": ""
             }
            },
            "type": "scattergl"
           }
          ],
          "scattermapbox": [
           {
            "marker": {
             "colorbar": {
              "outlinewidth": 0,
              "ticks": ""
             }
            },
            "type": "scattermapbox"
           }
          ],
          "scatterpolar": [
           {
            "marker": {
             "colorbar": {
              "outlinewidth": 0,
              "ticks": ""
             }
            },
            "type": "scatterpolar"
           }
          ],
          "scatterpolargl": [
           {
            "marker": {
             "colorbar": {
              "outlinewidth": 0,
              "ticks": ""
             }
            },
            "type": "scatterpolargl"
           }
          ],
          "scatterternary": [
           {
            "marker": {
             "colorbar": {
              "outlinewidth": 0,
              "ticks": ""
             }
            },
            "type": "scatterternary"
           }
          ],
          "surface": [
           {
            "colorbar": {
             "outlinewidth": 0,
             "ticks": ""
            },
            "colorscale": [
             [
              0,
              "#0d0887"
             ],
             [
              0.1111111111111111,
              "#46039f"
             ],
             [
              0.2222222222222222,
              "#7201a8"
             ],
             [
              0.3333333333333333,
              "#9c179e"
             ],
             [
              0.4444444444444444,
              "#bd3786"
             ],
             [
              0.5555555555555556,
              "#d8576b"
             ],
             [
              0.6666666666666666,
              "#ed7953"
             ],
             [
              0.7777777777777778,
              "#fb9f3a"
             ],
             [
              0.8888888888888888,
              "#fdca26"
             ],
             [
              1,
              "#f0f921"
             ]
            ],
            "type": "surface"
           }
          ],
          "table": [
           {
            "cells": {
             "fill": {
              "color": "#EBF0F8"
             },
             "line": {
              "color": "white"
             }
            },
            "header": {
             "fill": {
              "color": "#C8D4E3"
             },
             "line": {
              "color": "white"
             }
            },
            "type": "table"
           }
          ]
         },
         "layout": {
          "annotationdefaults": {
           "arrowcolor": "#2a3f5f",
           "arrowhead": 0,
           "arrowwidth": 1
          },
          "autotypenumbers": "strict",
          "coloraxis": {
           "colorbar": {
            "outlinewidth": 0,
            "ticks": ""
           }
          },
          "colorscale": {
           "diverging": [
            [
             0,
             "#8e0152"
            ],
            [
             0.1,
             "#c51b7d"
            ],
            [
             0.2,
             "#de77ae"
            ],
            [
             0.3,
             "#f1b6da"
            ],
            [
             0.4,
             "#fde0ef"
            ],
            [
             0.5,
             "#f7f7f7"
            ],
            [
             0.6,
             "#e6f5d0"
            ],
            [
             0.7,
             "#b8e186"
            ],
            [
             0.8,
             "#7fbc41"
            ],
            [
             0.9,
             "#4d9221"
            ],
            [
             1,
             "#276419"
            ]
           ],
           "sequential": [
            [
             0,
             "#0d0887"
            ],
            [
             0.1111111111111111,
             "#46039f"
            ],
            [
             0.2222222222222222,
             "#7201a8"
            ],
            [
             0.3333333333333333,
             "#9c179e"
            ],
            [
             0.4444444444444444,
             "#bd3786"
            ],
            [
             0.5555555555555556,
             "#d8576b"
            ],
            [
             0.6666666666666666,
             "#ed7953"
            ],
            [
             0.7777777777777778,
             "#fb9f3a"
            ],
            [
             0.8888888888888888,
             "#fdca26"
            ],
            [
             1,
             "#f0f921"
            ]
           ],
           "sequentialminus": [
            [
             0,
             "#0d0887"
            ],
            [
             0.1111111111111111,
             "#46039f"
            ],
            [
             0.2222222222222222,
             "#7201a8"
            ],
            [
             0.3333333333333333,
             "#9c179e"
            ],
            [
             0.4444444444444444,
             "#bd3786"
            ],
            [
             0.5555555555555556,
             "#d8576b"
            ],
            [
             0.6666666666666666,
             "#ed7953"
            ],
            [
             0.7777777777777778,
             "#fb9f3a"
            ],
            [
             0.8888888888888888,
             "#fdca26"
            ],
            [
             1,
             "#f0f921"
            ]
           ]
          },
          "colorway": [
           "#636efa",
           "#EF553B",
           "#00cc96",
           "#ab63fa",
           "#FFA15A",
           "#19d3f3",
           "#FF6692",
           "#B6E880",
           "#FF97FF",
           "#FECB52"
          ],
          "font": {
           "color": "#2a3f5f"
          },
          "geo": {
           "bgcolor": "white",
           "lakecolor": "white",
           "landcolor": "#E5ECF6",
           "showlakes": true,
           "showland": true,
           "subunitcolor": "white"
          },
          "hoverlabel": {
           "align": "left"
          },
          "hovermode": "closest",
          "mapbox": {
           "style": "light"
          },
          "paper_bgcolor": "white",
          "plot_bgcolor": "#E5ECF6",
          "polar": {
           "angularaxis": {
            "gridcolor": "white",
            "linecolor": "white",
            "ticks": ""
           },
           "bgcolor": "#E5ECF6",
           "radialaxis": {
            "gridcolor": "white",
            "linecolor": "white",
            "ticks": ""
           }
          },
          "scene": {
           "xaxis": {
            "backgroundcolor": "#E5ECF6",
            "gridcolor": "white",
            "gridwidth": 2,
            "linecolor": "white",
            "showbackground": true,
            "ticks": "",
            "zerolinecolor": "white"
           },
           "yaxis": {
            "backgroundcolor": "#E5ECF6",
            "gridcolor": "white",
            "gridwidth": 2,
            "linecolor": "white",
            "showbackground": true,
            "ticks": "",
            "zerolinecolor": "white"
           },
           "zaxis": {
            "backgroundcolor": "#E5ECF6",
            "gridcolor": "white",
            "gridwidth": 2,
            "linecolor": "white",
            "showbackground": true,
            "ticks": "",
            "zerolinecolor": "white"
           }
          },
          "shapedefaults": {
           "line": {
            "color": "#2a3f5f"
           }
          },
          "ternary": {
           "aaxis": {
            "gridcolor": "white",
            "linecolor": "white",
            "ticks": ""
           },
           "baxis": {
            "gridcolor": "white",
            "linecolor": "white",
            "ticks": ""
           },
           "bgcolor": "#E5ECF6",
           "caxis": {
            "gridcolor": "white",
            "linecolor": "white",
            "ticks": ""
           }
          },
          "title": {
           "x": 0.05
          },
          "xaxis": {
           "automargin": true,
           "gridcolor": "white",
           "linecolor": "white",
           "ticks": "",
           "title": {
            "standoff": 15
           },
           "zerolinecolor": "white",
           "zerolinewidth": 2
          },
          "yaxis": {
           "automargin": true,
           "gridcolor": "white",
           "linecolor": "white",
           "ticks": "",
           "title": {
            "standoff": 15
           },
           "zerolinecolor": "white",
           "zerolinewidth": 2
          }
         }
        },
        "title": {
         "text": "Count of Firms by Number of Employees"
        },
        "xaxis": {
         "title": {
          "text": "Number of Employees"
         }
        },
        "yaxis": {
         "title": {
          "text": "Count of Firms"
         }
        }
       }
      }
     },
     "metadata": {}
    }
   ],
   "source": [
    "import plotly.graph_objects as go\n",
    "\n",
    "fig = go.Figure()\n",
    "fig.add_trace(go.Histogram(histfunc =\"count\", x = df_metro_b['EMP'], nbinsx = 20))\n",
    "\n",
    "fig.update_layout(\n",
    "    title='Count of Firms by Number of Employees',\n",
    "    xaxis_title='Number of Employees',\n",
    "    yaxis_title='Count of Firms',\n",
    "    font=dict(\n",
    "        size=18\n",
    "    )\n",
    ")\n"
   ]
  },
  {
   "cell_type": "code",
   "execution_count": 146,
   "metadata": {},
   "outputs": [
    {
     "output_type": "display_data",
     "data": {
      "application/vnd.plotly.v1+json": {
       "config": {
        "plotlyServerURL": "https://plot.ly"
       },
       "data": [
        {
         "histfunc": "count",
         "nbinsx": 20,
         "type": "histogram",
         "x": [
          16899262,
          1263973,
          853180,
          0,
          2168283,
          3174249,
          7725561,
          830631,
          16899262,
          532151,
          1409843,
          1941994,
          33753,
          6580446,
          16899262,
          198014,
          0,
          0,
          1530828,
          1844638,
          131109,
          6580446,
          16899262,
          981456,
          869202,
          3605004,
          348296,
          5391414,
          7381810,
          1174382,
          16899262,
          7202006,
          6063917,
          249210,
          3225871,
          1176547,
          5499765,
          0,
          7382504,
          1173689,
          16899262,
          8467538,
          70651,
          8538189,
          0
         ]
        }
       ],
       "layout": {
        "font": {
         "size": 18
        },
        "template": {
         "data": {
          "bar": [
           {
            "error_x": {
             "color": "#2a3f5f"
            },
            "error_y": {
             "color": "#2a3f5f"
            },
            "marker": {
             "line": {
              "color": "#E5ECF6",
              "width": 0.5
             }
            },
            "type": "bar"
           }
          ],
          "barpolar": [
           {
            "marker": {
             "line": {
              "color": "#E5ECF6",
              "width": 0.5
             }
            },
            "type": "barpolar"
           }
          ],
          "carpet": [
           {
            "aaxis": {
             "endlinecolor": "#2a3f5f",
             "gridcolor": "white",
             "linecolor": "white",
             "minorgridcolor": "white",
             "startlinecolor": "#2a3f5f"
            },
            "baxis": {
             "endlinecolor": "#2a3f5f",
             "gridcolor": "white",
             "linecolor": "white",
             "minorgridcolor": "white",
             "startlinecolor": "#2a3f5f"
            },
            "type": "carpet"
           }
          ],
          "choropleth": [
           {
            "colorbar": {
             "outlinewidth": 0,
             "ticks": ""
            },
            "type": "choropleth"
           }
          ],
          "contour": [
           {
            "colorbar": {
             "outlinewidth": 0,
             "ticks": ""
            },
            "colorscale": [
             [
              0,
              "#0d0887"
             ],
             [
              0.1111111111111111,
              "#46039f"
             ],
             [
              0.2222222222222222,
              "#7201a8"
             ],
             [
              0.3333333333333333,
              "#9c179e"
             ],
             [
              0.4444444444444444,
              "#bd3786"
             ],
             [
              0.5555555555555556,
              "#d8576b"
             ],
             [
              0.6666666666666666,
              "#ed7953"
             ],
             [
              0.7777777777777778,
              "#fb9f3a"
             ],
             [
              0.8888888888888888,
              "#fdca26"
             ],
             [
              1,
              "#f0f921"
             ]
            ],
            "type": "contour"
           }
          ],
          "contourcarpet": [
           {
            "colorbar": {
             "outlinewidth": 0,
             "ticks": ""
            },
            "type": "contourcarpet"
           }
          ],
          "heatmap": [
           {
            "colorbar": {
             "outlinewidth": 0,
             "ticks": ""
            },
            "colorscale": [
             [
              0,
              "#0d0887"
             ],
             [
              0.1111111111111111,
              "#46039f"
             ],
             [
              0.2222222222222222,
              "#7201a8"
             ],
             [
              0.3333333333333333,
              "#9c179e"
             ],
             [
              0.4444444444444444,
              "#bd3786"
             ],
             [
              0.5555555555555556,
              "#d8576b"
             ],
             [
              0.6666666666666666,
              "#ed7953"
             ],
             [
              0.7777777777777778,
              "#fb9f3a"
             ],
             [
              0.8888888888888888,
              "#fdca26"
             ],
             [
              1,
              "#f0f921"
             ]
            ],
            "type": "heatmap"
           }
          ],
          "heatmapgl": [
           {
            "colorbar": {
             "outlinewidth": 0,
             "ticks": ""
            },
            "colorscale": [
             [
              0,
              "#0d0887"
             ],
             [
              0.1111111111111111,
              "#46039f"
             ],
             [
              0.2222222222222222,
              "#7201a8"
             ],
             [
              0.3333333333333333,
              "#9c179e"
             ],
             [
              0.4444444444444444,
              "#bd3786"
             ],
             [
              0.5555555555555556,
              "#d8576b"
             ],
             [
              0.6666666666666666,
              "#ed7953"
             ],
             [
              0.7777777777777778,
              "#fb9f3a"
             ],
             [
              0.8888888888888888,
              "#fdca26"
             ],
             [
              1,
              "#f0f921"
             ]
            ],
            "type": "heatmapgl"
           }
          ],
          "histogram": [
           {
            "marker": {
             "colorbar": {
              "outlinewidth": 0,
              "ticks": ""
             }
            },
            "type": "histogram"
           }
          ],
          "histogram2d": [
           {
            "colorbar": {
             "outlinewidth": 0,
             "ticks": ""
            },
            "colorscale": [
             [
              0,
              "#0d0887"
             ],
             [
              0.1111111111111111,
              "#46039f"
             ],
             [
              0.2222222222222222,
              "#7201a8"
             ],
             [
              0.3333333333333333,
              "#9c179e"
             ],
             [
              0.4444444444444444,
              "#bd3786"
             ],
             [
              0.5555555555555556,
              "#d8576b"
             ],
             [
              0.6666666666666666,
              "#ed7953"
             ],
             [
              0.7777777777777778,
              "#fb9f3a"
             ],
             [
              0.8888888888888888,
              "#fdca26"
             ],
             [
              1,
              "#f0f921"
             ]
            ],
            "type": "histogram2d"
           }
          ],
          "histogram2dcontour": [
           {
            "colorbar": {
             "outlinewidth": 0,
             "ticks": ""
            },
            "colorscale": [
             [
              0,
              "#0d0887"
             ],
             [
              0.1111111111111111,
              "#46039f"
             ],
             [
              0.2222222222222222,
              "#7201a8"
             ],
             [
              0.3333333333333333,
              "#9c179e"
             ],
             [
              0.4444444444444444,
              "#bd3786"
             ],
             [
              0.5555555555555556,
              "#d8576b"
             ],
             [
              0.6666666666666666,
              "#ed7953"
             ],
             [
              0.7777777777777778,
              "#fb9f3a"
             ],
             [
              0.8888888888888888,
              "#fdca26"
             ],
             [
              1,
              "#f0f921"
             ]
            ],
            "type": "histogram2dcontour"
           }
          ],
          "mesh3d": [
           {
            "colorbar": {
             "outlinewidth": 0,
             "ticks": ""
            },
            "type": "mesh3d"
           }
          ],
          "parcoords": [
           {
            "line": {
             "colorbar": {
              "outlinewidth": 0,
              "ticks": ""
             }
            },
            "type": "parcoords"
           }
          ],
          "pie": [
           {
            "automargin": true,
            "type": "pie"
           }
          ],
          "scatter": [
           {
            "marker": {
             "colorbar": {
              "outlinewidth": 0,
              "ticks": ""
             }
            },
            "type": "scatter"
           }
          ],
          "scatter3d": [
           {
            "line": {
             "colorbar": {
              "outlinewidth": 0,
              "ticks": ""
             }
            },
            "marker": {
             "colorbar": {
              "outlinewidth": 0,
              "ticks": ""
             }
            },
            "type": "scatter3d"
           }
          ],
          "scattercarpet": [
           {
            "marker": {
             "colorbar": {
              "outlinewidth": 0,
              "ticks": ""
             }
            },
            "type": "scattercarpet"
           }
          ],
          "scattergeo": [
           {
            "marker": {
             "colorbar": {
              "outlinewidth": 0,
              "ticks": ""
             }
            },
            "type": "scattergeo"
           }
          ],
          "scattergl": [
           {
            "marker": {
             "colorbar": {
              "outlinewidth": 0,
              "ticks": ""
             }
            },
            "type": "scattergl"
           }
          ],
          "scattermapbox": [
           {
            "marker": {
             "colorbar": {
              "outlinewidth": 0,
              "ticks": ""
             }
            },
            "type": "scattermapbox"
           }
          ],
          "scatterpolar": [
           {
            "marker": {
             "colorbar": {
              "outlinewidth": 0,
              "ticks": ""
             }
            },
            "type": "scatterpolar"
           }
          ],
          "scatterpolargl": [
           {
            "marker": {
             "colorbar": {
              "outlinewidth": 0,
              "ticks": ""
             }
            },
            "type": "scatterpolargl"
           }
          ],
          "scatterternary": [
           {
            "marker": {
             "colorbar": {
              "outlinewidth": 0,
              "ticks": ""
             }
            },
            "type": "scatterternary"
           }
          ],
          "surface": [
           {
            "colorbar": {
             "outlinewidth": 0,
             "ticks": ""
            },
            "colorscale": [
             [
              0,
              "#0d0887"
             ],
             [
              0.1111111111111111,
              "#46039f"
             ],
             [
              0.2222222222222222,
              "#7201a8"
             ],
             [
              0.3333333333333333,
              "#9c179e"
             ],
             [
              0.4444444444444444,
              "#bd3786"
             ],
             [
              0.5555555555555556,
              "#d8576b"
             ],
             [
              0.6666666666666666,
              "#ed7953"
             ],
             [
              0.7777777777777778,
              "#fb9f3a"
             ],
             [
              0.8888888888888888,
              "#fdca26"
             ],
             [
              1,
              "#f0f921"
             ]
            ],
            "type": "surface"
           }
          ],
          "table": [
           {
            "cells": {
             "fill": {
              "color": "#EBF0F8"
             },
             "line": {
              "color": "white"
             }
            },
            "header": {
             "fill": {
              "color": "#C8D4E3"
             },
             "line": {
              "color": "white"
             }
            },
            "type": "table"
           }
          ]
         },
         "layout": {
          "annotationdefaults": {
           "arrowcolor": "#2a3f5f",
           "arrowhead": 0,
           "arrowwidth": 1
          },
          "autotypenumbers": "strict",
          "coloraxis": {
           "colorbar": {
            "outlinewidth": 0,
            "ticks": ""
           }
          },
          "colorscale": {
           "diverging": [
            [
             0,
             "#8e0152"
            ],
            [
             0.1,
             "#c51b7d"
            ],
            [
             0.2,
             "#de77ae"
            ],
            [
             0.3,
             "#f1b6da"
            ],
            [
             0.4,
             "#fde0ef"
            ],
            [
             0.5,
             "#f7f7f7"
            ],
            [
             0.6,
             "#e6f5d0"
            ],
            [
             0.7,
             "#b8e186"
            ],
            [
             0.8,
             "#7fbc41"
            ],
            [
             0.9,
             "#4d9221"
            ],
            [
             1,
             "#276419"
            ]
           ],
           "sequential": [
            [
             0,
             "#0d0887"
            ],
            [
             0.1111111111111111,
             "#46039f"
            ],
            [
             0.2222222222222222,
             "#7201a8"
            ],
            [
             0.3333333333333333,
             "#9c179e"
            ],
            [
             0.4444444444444444,
             "#bd3786"
            ],
            [
             0.5555555555555556,
             "#d8576b"
            ],
            [
             0.6666666666666666,
             "#ed7953"
            ],
            [
             0.7777777777777778,
             "#fb9f3a"
            ],
            [
             0.8888888888888888,
             "#fdca26"
            ],
            [
             1,
             "#f0f921"
            ]
           ],
           "sequentialminus": [
            [
             0,
             "#0d0887"
            ],
            [
             0.1111111111111111,
             "#46039f"
            ],
            [
             0.2222222222222222,
             "#7201a8"
            ],
            [
             0.3333333333333333,
             "#9c179e"
            ],
            [
             0.4444444444444444,
             "#bd3786"
            ],
            [
             0.5555555555555556,
             "#d8576b"
            ],
            [
             0.6666666666666666,
             "#ed7953"
            ],
            [
             0.7777777777777778,
             "#fb9f3a"
            ],
            [
             0.8888888888888888,
             "#fdca26"
            ],
            [
             1,
             "#f0f921"
            ]
           ]
          },
          "colorway": [
           "#636efa",
           "#EF553B",
           "#00cc96",
           "#ab63fa",
           "#FFA15A",
           "#19d3f3",
           "#FF6692",
           "#B6E880",
           "#FF97FF",
           "#FECB52"
          ],
          "font": {
           "color": "#2a3f5f"
          },
          "geo": {
           "bgcolor": "white",
           "lakecolor": "white",
           "landcolor": "#E5ECF6",
           "showlakes": true,
           "showland": true,
           "subunitcolor": "white"
          },
          "hoverlabel": {
           "align": "left"
          },
          "hovermode": "closest",
          "mapbox": {
           "style": "light"
          },
          "paper_bgcolor": "white",
          "plot_bgcolor": "#E5ECF6",
          "polar": {
           "angularaxis": {
            "gridcolor": "white",
            "linecolor": "white",
            "ticks": ""
           },
           "bgcolor": "#E5ECF6",
           "radialaxis": {
            "gridcolor": "white",
            "linecolor": "white",
            "ticks": ""
           }
          },
          "scene": {
           "xaxis": {
            "backgroundcolor": "#E5ECF6",
            "gridcolor": "white",
            "gridwidth": 2,
            "linecolor": "white",
            "showbackground": true,
            "ticks": "",
            "zerolinecolor": "white"
           },
           "yaxis": {
            "backgroundcolor": "#E5ECF6",
            "gridcolor": "white",
            "gridwidth": 2,
            "linecolor": "white",
            "showbackground": true,
            "ticks": "",
            "zerolinecolor": "white"
           },
           "zaxis": {
            "backgroundcolor": "#E5ECF6",
            "gridcolor": "white",
            "gridwidth": 2,
            "linecolor": "white",
            "showbackground": true,
            "ticks": "",
            "zerolinecolor": "white"
           }
          },
          "shapedefaults": {
           "line": {
            "color": "#2a3f5f"
           }
          },
          "ternary": {
           "aaxis": {
            "gridcolor": "white",
            "linecolor": "white",
            "ticks": ""
           },
           "baxis": {
            "gridcolor": "white",
            "linecolor": "white",
            "ticks": ""
           },
           "bgcolor": "#E5ECF6",
           "caxis": {
            "gridcolor": "white",
            "linecolor": "white",
            "ticks": ""
           }
          },
          "title": {
           "x": 0.05
          },
          "xaxis": {
           "automargin": true,
           "gridcolor": "white",
           "linecolor": "white",
           "ticks": "",
           "title": {
            "standoff": 15
           },
           "zerolinecolor": "white",
           "zerolinewidth": 2
          },
          "yaxis": {
           "automargin": true,
           "gridcolor": "white",
           "linecolor": "white",
           "ticks": "",
           "title": {
            "standoff": 15
           },
           "zerolinecolor": "white",
           "zerolinewidth": 2
          }
         }
        },
        "title": {
         "text": "Count of Firms by Annual Payroll"
        },
        "xaxis": {
         "title": {
          "text": "Annual Payroll"
         }
        },
        "yaxis": {
         "title": {
          "text": "Count of Firms"
         }
        }
       }
      }
     },
     "metadata": {}
    }
   ],
   "source": [
    "fig = go.Figure()\n",
    "fig.add_trace(go.Histogram(histfunc =\"count\", x = df_metro_b['PAYANN'], nbinsx = 20))\n",
    "\n",
    "fig.update_layout(\n",
    "    title='Count of Firms by Annual Payroll',\n",
    "    xaxis_title='Annual Payroll',\n",
    "    yaxis_title='Count of Firms',\n",
    "    font=dict(\n",
    "        size=18\n",
    "    )\n",
    ")\n"
   ]
  },
  {
   "cell_type": "code",
   "execution_count": 148,
   "metadata": {},
   "outputs": [
    {
     "output_type": "display_data",
     "data": {
      "application/vnd.plotly.v1+json": {
       "config": {
        "plotlyServerURL": "https://plot.ly"
       },
       "data": [
        {
         "boxmean": true,
         "marker": {
          "color": "darkblue"
         },
         "name": "Only Mean",
         "type": "box",
         "y": [
          346144,
          24732,
          20277,
          0,
          35595,
          56832,
          143738,
          18776,
          346144,
          15390,
          28537,
          43927,
          1345,
          117241,
          346144,
          4684,
          0,
          0,
          31044,
          39863,
          5409,
          117241,
          346144,
          16109,
          12211,
          63932,
          5205,
          106442,
          136185,
          26329,
          346144,
          131832,
          117259,
          5453,
          57394,
          20852,
          91371,
          0,
          136124,
          26390,
          346144,
          157307,
          4843,
          162150,
          0
         ]
        },
        {
         "boxmean": "sd",
         "marker": {
          "color": "royalblue"
         },
         "name": "Mean & SD",
         "type": "box",
         "y": [
          346144,
          24732,
          20277,
          0,
          35595,
          56832,
          143738,
          18776,
          346144,
          15390,
          28537,
          43927,
          1345,
          117241,
          346144,
          4684,
          0,
          0,
          31044,
          39863,
          5409,
          117241,
          346144,
          16109,
          12211,
          63932,
          5205,
          106442,
          136185,
          26329,
          346144,
          131832,
          117259,
          5453,
          57394,
          20852,
          91371,
          0,
          136124,
          26390,
          346144,
          157307,
          4843,
          162150,
          0
         ]
        }
       ],
       "layout": {
        "template": {
         "data": {
          "bar": [
           {
            "error_x": {
             "color": "#2a3f5f"
            },
            "error_y": {
             "color": "#2a3f5f"
            },
            "marker": {
             "line": {
              "color": "#E5ECF6",
              "width": 0.5
             }
            },
            "type": "bar"
           }
          ],
          "barpolar": [
           {
            "marker": {
             "line": {
              "color": "#E5ECF6",
              "width": 0.5
             }
            },
            "type": "barpolar"
           }
          ],
          "carpet": [
           {
            "aaxis": {
             "endlinecolor": "#2a3f5f",
             "gridcolor": "white",
             "linecolor": "white",
             "minorgridcolor": "white",
             "startlinecolor": "#2a3f5f"
            },
            "baxis": {
             "endlinecolor": "#2a3f5f",
             "gridcolor": "white",
             "linecolor": "white",
             "minorgridcolor": "white",
             "startlinecolor": "#2a3f5f"
            },
            "type": "carpet"
           }
          ],
          "choropleth": [
           {
            "colorbar": {
             "outlinewidth": 0,
             "ticks": ""
            },
            "type": "choropleth"
           }
          ],
          "contour": [
           {
            "colorbar": {
             "outlinewidth": 0,
             "ticks": ""
            },
            "colorscale": [
             [
              0,
              "#0d0887"
             ],
             [
              0.1111111111111111,
              "#46039f"
             ],
             [
              0.2222222222222222,
              "#7201a8"
             ],
             [
              0.3333333333333333,
              "#9c179e"
             ],
             [
              0.4444444444444444,
              "#bd3786"
             ],
             [
              0.5555555555555556,
              "#d8576b"
             ],
             [
              0.6666666666666666,
              "#ed7953"
             ],
             [
              0.7777777777777778,
              "#fb9f3a"
             ],
             [
              0.8888888888888888,
              "#fdca26"
             ],
             [
              1,
              "#f0f921"
             ]
            ],
            "type": "contour"
           }
          ],
          "contourcarpet": [
           {
            "colorbar": {
             "outlinewidth": 0,
             "ticks": ""
            },
            "type": "contourcarpet"
           }
          ],
          "heatmap": [
           {
            "colorbar": {
             "outlinewidth": 0,
             "ticks": ""
            },
            "colorscale": [
             [
              0,
              "#0d0887"
             ],
             [
              0.1111111111111111,
              "#46039f"
             ],
             [
              0.2222222222222222,
              "#7201a8"
             ],
             [
              0.3333333333333333,
              "#9c179e"
             ],
             [
              0.4444444444444444,
              "#bd3786"
             ],
             [
              0.5555555555555556,
              "#d8576b"
             ],
             [
              0.6666666666666666,
              "#ed7953"
             ],
             [
              0.7777777777777778,
              "#fb9f3a"
             ],
             [
              0.8888888888888888,
              "#fdca26"
             ],
             [
              1,
              "#f0f921"
             ]
            ],
            "type": "heatmap"
           }
          ],
          "heatmapgl": [
           {
            "colorbar": {
             "outlinewidth": 0,
             "ticks": ""
            },
            "colorscale": [
             [
              0,
              "#0d0887"
             ],
             [
              0.1111111111111111,
              "#46039f"
             ],
             [
              0.2222222222222222,
              "#7201a8"
             ],
             [
              0.3333333333333333,
              "#9c179e"
             ],
             [
              0.4444444444444444,
              "#bd3786"
             ],
             [
              0.5555555555555556,
              "#d8576b"
             ],
             [
              0.6666666666666666,
              "#ed7953"
             ],
             [
              0.7777777777777778,
              "#fb9f3a"
             ],
             [
              0.8888888888888888,
              "#fdca26"
             ],
             [
              1,
              "#f0f921"
             ]
            ],
            "type": "heatmapgl"
           }
          ],
          "histogram": [
           {
            "marker": {
             "colorbar": {
              "outlinewidth": 0,
              "ticks": ""
             }
            },
            "type": "histogram"
           }
          ],
          "histogram2d": [
           {
            "colorbar": {
             "outlinewidth": 0,
             "ticks": ""
            },
            "colorscale": [
             [
              0,
              "#0d0887"
             ],
             [
              0.1111111111111111,
              "#46039f"
             ],
             [
              0.2222222222222222,
              "#7201a8"
             ],
             [
              0.3333333333333333,
              "#9c179e"
             ],
             [
              0.4444444444444444,
              "#bd3786"
             ],
             [
              0.5555555555555556,
              "#d8576b"
             ],
             [
              0.6666666666666666,
              "#ed7953"
             ],
             [
              0.7777777777777778,
              "#fb9f3a"
             ],
             [
              0.8888888888888888,
              "#fdca26"
             ],
             [
              1,
              "#f0f921"
             ]
            ],
            "type": "histogram2d"
           }
          ],
          "histogram2dcontour": [
           {
            "colorbar": {
             "outlinewidth": 0,
             "ticks": ""
            },
            "colorscale": [
             [
              0,
              "#0d0887"
             ],
             [
              0.1111111111111111,
              "#46039f"
             ],
             [
              0.2222222222222222,
              "#7201a8"
             ],
             [
              0.3333333333333333,
              "#9c179e"
             ],
             [
              0.4444444444444444,
              "#bd3786"
             ],
             [
              0.5555555555555556,
              "#d8576b"
             ],
             [
              0.6666666666666666,
              "#ed7953"
             ],
             [
              0.7777777777777778,
              "#fb9f3a"
             ],
             [
              0.8888888888888888,
              "#fdca26"
             ],
             [
              1,
              "#f0f921"
             ]
            ],
            "type": "histogram2dcontour"
           }
          ],
          "mesh3d": [
           {
            "colorbar": {
             "outlinewidth": 0,
             "ticks": ""
            },
            "type": "mesh3d"
           }
          ],
          "parcoords": [
           {
            "line": {
             "colorbar": {
              "outlinewidth": 0,
              "ticks": ""
             }
            },
            "type": "parcoords"
           }
          ],
          "pie": [
           {
            "automargin": true,
            "type": "pie"
           }
          ],
          "scatter": [
           {
            "marker": {
             "colorbar": {
              "outlinewidth": 0,
              "ticks": ""
             }
            },
            "type": "scatter"
           }
          ],
          "scatter3d": [
           {
            "line": {
             "colorbar": {
              "outlinewidth": 0,
              "ticks": ""
             }
            },
            "marker": {
             "colorbar": {
              "outlinewidth": 0,
              "ticks": ""
             }
            },
            "type": "scatter3d"
           }
          ],
          "scattercarpet": [
           {
            "marker": {
             "colorbar": {
              "outlinewidth": 0,
              "ticks": ""
             }
            },
            "type": "scattercarpet"
           }
          ],
          "scattergeo": [
           {
            "marker": {
             "colorbar": {
              "outlinewidth": 0,
              "ticks": ""
             }
            },
            "type": "scattergeo"
           }
          ],
          "scattergl": [
           {
            "marker": {
             "colorbar": {
              "outlinewidth": 0,
              "ticks": ""
             }
            },
            "type": "scattergl"
           }
          ],
          "scattermapbox": [
           {
            "marker": {
             "colorbar": {
              "outlinewidth": 0,
              "ticks": ""
             }
            },
            "type": "scattermapbox"
           }
          ],
          "scatterpolar": [
           {
            "marker": {
             "colorbar": {
              "outlinewidth": 0,
              "ticks": ""
             }
            },
            "type": "scatterpolar"
           }
          ],
          "scatterpolargl": [
           {
            "marker": {
             "colorbar": {
              "outlinewidth": 0,
              "ticks": ""
             }
            },
            "type": "scatterpolargl"
           }
          ],
          "scatterternary": [
           {
            "marker": {
             "colorbar": {
              "outlinewidth": 0,
              "ticks": ""
             }
            },
            "type": "scatterternary"
           }
          ],
          "surface": [
           {
            "colorbar": {
             "outlinewidth": 0,
             "ticks": ""
            },
            "colorscale": [
             [
              0,
              "#0d0887"
             ],
             [
              0.1111111111111111,
              "#46039f"
             ],
             [
              0.2222222222222222,
              "#7201a8"
             ],
             [
              0.3333333333333333,
              "#9c179e"
             ],
             [
              0.4444444444444444,
              "#bd3786"
             ],
             [
              0.5555555555555556,
              "#d8576b"
             ],
             [
              0.6666666666666666,
              "#ed7953"
             ],
             [
              0.7777777777777778,
              "#fb9f3a"
             ],
             [
              0.8888888888888888,
              "#fdca26"
             ],
             [
              1,
              "#f0f921"
             ]
            ],
            "type": "surface"
           }
          ],
          "table": [
           {
            "cells": {
             "fill": {
              "color": "#EBF0F8"
             },
             "line": {
              "color": "white"
             }
            },
            "header": {
             "fill": {
              "color": "#C8D4E3"
             },
             "line": {
              "color": "white"
             }
            },
            "type": "table"
           }
          ]
         },
         "layout": {
          "annotationdefaults": {
           "arrowcolor": "#2a3f5f",
           "arrowhead": 0,
           "arrowwidth": 1
          },
          "autotypenumbers": "strict",
          "coloraxis": {
           "colorbar": {
            "outlinewidth": 0,
            "ticks": ""
           }
          },
          "colorscale": {
           "diverging": [
            [
             0,
             "#8e0152"
            ],
            [
             0.1,
             "#c51b7d"
            ],
            [
             0.2,
             "#de77ae"
            ],
            [
             0.3,
             "#f1b6da"
            ],
            [
             0.4,
             "#fde0ef"
            ],
            [
             0.5,
             "#f7f7f7"
            ],
            [
             0.6,
             "#e6f5d0"
            ],
            [
             0.7,
             "#b8e186"
            ],
            [
             0.8,
             "#7fbc41"
            ],
            [
             0.9,
             "#4d9221"
            ],
            [
             1,
             "#276419"
            ]
           ],
           "sequential": [
            [
             0,
             "#0d0887"
            ],
            [
             0.1111111111111111,
             "#46039f"
            ],
            [
             0.2222222222222222,
             "#7201a8"
            ],
            [
             0.3333333333333333,
             "#9c179e"
            ],
            [
             0.4444444444444444,
             "#bd3786"
            ],
            [
             0.5555555555555556,
             "#d8576b"
            ],
            [
             0.6666666666666666,
             "#ed7953"
            ],
            [
             0.7777777777777778,
             "#fb9f3a"
            ],
            [
             0.8888888888888888,
             "#fdca26"
            ],
            [
             1,
             "#f0f921"
            ]
           ],
           "sequentialminus": [
            [
             0,
             "#0d0887"
            ],
            [
             0.1111111111111111,
             "#46039f"
            ],
            [
             0.2222222222222222,
             "#7201a8"
            ],
            [
             0.3333333333333333,
             "#9c179e"
            ],
            [
             0.4444444444444444,
             "#bd3786"
            ],
            [
             0.5555555555555556,
             "#d8576b"
            ],
            [
             0.6666666666666666,
             "#ed7953"
            ],
            [
             0.7777777777777778,
             "#fb9f3a"
            ],
            [
             0.8888888888888888,
             "#fdca26"
            ],
            [
             1,
             "#f0f921"
            ]
           ]
          },
          "colorway": [
           "#636efa",
           "#EF553B",
           "#00cc96",
           "#ab63fa",
           "#FFA15A",
           "#19d3f3",
           "#FF6692",
           "#B6E880",
           "#FF97FF",
           "#FECB52"
          ],
          "font": {
           "color": "#2a3f5f"
          },
          "geo": {
           "bgcolor": "white",
           "lakecolor": "white",
           "landcolor": "#E5ECF6",
           "showlakes": true,
           "showland": true,
           "subunitcolor": "white"
          },
          "hoverlabel": {
           "align": "left"
          },
          "hovermode": "closest",
          "mapbox": {
           "style": "light"
          },
          "paper_bgcolor": "white",
          "plot_bgcolor": "#E5ECF6",
          "polar": {
           "angularaxis": {
            "gridcolor": "white",
            "linecolor": "white",
            "ticks": ""
           },
           "bgcolor": "#E5ECF6",
           "radialaxis": {
            "gridcolor": "white",
            "linecolor": "white",
            "ticks": ""
           }
          },
          "scene": {
           "xaxis": {
            "backgroundcolor": "#E5ECF6",
            "gridcolor": "white",
            "gridwidth": 2,
            "linecolor": "white",
            "showbackground": true,
            "ticks": "",
            "zerolinecolor": "white"
           },
           "yaxis": {
            "backgroundcolor": "#E5ECF6",
            "gridcolor": "white",
            "gridwidth": 2,
            "linecolor": "white",
            "showbackground": true,
            "ticks": "",
            "zerolinecolor": "white"
           },
           "zaxis": {
            "backgroundcolor": "#E5ECF6",
            "gridcolor": "white",
            "gridwidth": 2,
            "linecolor": "white",
            "showbackground": true,
            "ticks": "",
            "zerolinecolor": "white"
           }
          },
          "shapedefaults": {
           "line": {
            "color": "#2a3f5f"
           }
          },
          "ternary": {
           "aaxis": {
            "gridcolor": "white",
            "linecolor": "white",
            "ticks": ""
           },
           "baxis": {
            "gridcolor": "white",
            "linecolor": "white",
            "ticks": ""
           },
           "bgcolor": "#E5ECF6",
           "caxis": {
            "gridcolor": "white",
            "linecolor": "white",
            "ticks": ""
           }
          },
          "title": {
           "x": 0.05
          },
          "xaxis": {
           "automargin": true,
           "gridcolor": "white",
           "linecolor": "white",
           "ticks": "",
           "title": {
            "standoff": 15
           },
           "zerolinecolor": "white",
           "zerolinewidth": 2
          },
          "yaxis": {
           "automargin": true,
           "gridcolor": "white",
           "linecolor": "white",
           "ticks": "",
           "title": {
            "standoff": 15
           },
           "zerolinecolor": "white",
           "zerolinewidth": 2
          }
         }
        }
       }
      }
     },
     "metadata": {}
    }
   ],
   "source": [
    "fig = go.Figure()\n",
    "fig.add_trace(go.Box(\n",
    "    y=df_metro_b['EMP'],\n",
    "    name='Only Mean',\n",
    "    marker_color='darkblue',\n",
    "    boxmean=True # represent mean\n",
    "))\n",
    "fig.add_trace(go.Box(\n",
    "    y=df_metro_b['EMP'],\n",
    "    name='Mean & SD',\n",
    "    marker_color='royalblue',\n",
    "    boxmean='sd' # represent mean and standard deviation\n",
    ")\n",
    "fig.update_layout(\n",
    "    title='Count of Firms by Annual Payroll',\n",
    "    xaxis_title='Annual Payroll',\n",
    "    yaxis_title='Count of Firms',\n",
    "    font=dict(\n",
    "        size=18\n",
    "    ))\n",
    "\n",
    "fig.show()"
   ]
  },
  {
   "cell_type": "code",
   "execution_count": null,
   "metadata": {},
   "outputs": [],
   "source": []
  }
 ]
}